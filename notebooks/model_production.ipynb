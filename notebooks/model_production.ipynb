{
 "cells": [
  {
   "cell_type": "code",
   "execution_count": 1,
   "metadata": {},
   "outputs": [],
   "source": [
    "import pandas as pd\n",
    "import matplotlib.pyplot as plt\n",
    "import seaborn as sns\n",
    "from statsmodels.graphics.gofplots import qqplot\n",
    "import numpy as np\n",
    "from sklearn.pipeline import Pipeline\n",
    "from sklearn.compose import ColumnTransformer\n",
    "from sklearn.impute import SimpleImputer\n",
    "from sklearn.preprocessing import OneHotEncoder, MinMaxScaler, StandardScaler\n",
    "from sklearn import set_config; set_config(display='diagram')\n",
    "from sklearn.linear_model import LogisticRegression\n",
    "from sklearn.model_selection import GridSearchCV\n",
    "from sklearn.model_selection import RepeatedStratifiedKFold\n",
    "from sklearn.neighbors import KNeighborsClassifier\n",
    "from sklearn.ensemble import RandomForestClassifier\n",
    "from sklearn.model_selection import train_test_split\n",
    "from sklearn.metrics import accuracy_score, recall_score, precision_score"
   ]
  },
  {
   "cell_type": "markdown",
   "metadata": {},
   "source": [
    "### load data, split it and clean it for preoprocessing, retrieve X_train, X_test, y_train, y_test"
   ]
  },
  {
   "cell_type": "code",
   "execution_count": 96,
   "metadata": {},
   "outputs": [
    {
     "data": {
      "text/plain": [
       "Index(['age', 'bp', 'sg', 'al', 'su', 'rbc', 'pc', 'pcc', 'ba', 'bgr', 'bu',\n",
       "       'sc', 'sod', 'pot', 'hemo', 'pcv', 'wc', 'rc', 'htn', 'dm', 'cad',\n",
       "       'appet', 'pe', 'ane'],\n",
       "      dtype='object')"
      ]
     },
     "execution_count": 96,
     "metadata": {},
     "output_type": "execute_result"
    }
   ],
   "source": [
    "path = '../raw_data/kidney_disease.csv'\n",
    "url = \"https://storage.googleapis.com/kidney_disaese/raw_data/kidney_disease.csv\"\n",
    "def get_cleaned_data(path=path):\n",
    "    '''load data from csv\n",
    "    and use cleaning fct to clean them'''\n",
    "    df = pd.read_csv(path)\n",
    "    y = df['classification']\n",
    "    X = df.drop(columns= {'classification', 'id'})\n",
    "\n",
    "    X = replacing_numerical_features(X)\n",
    "    X,y = replacing_binary_features(X,y)\n",
    "\n",
    "    X_train, X_test, y_train, y_test = train_test_split(X,y, test_size=0.2)\n",
    "\n",
    "    return X_train, X_test, y_train, y_test\n",
    "\n",
    "X_train, X_test, y_train, y_test = get_cleaned_data(\"https://storage.googleapis.com/kidney_disaese/raw_data/kidney_disease.csv\")\n",
    "X_train.columns\n"
   ]
  },
  {
   "cell_type": "markdown",
   "metadata": {},
   "source": [
    "### helper functions to clean the data"
   ]
  },
  {
   "cell_type": "code",
   "execution_count": 7,
   "metadata": {},
   "outputs": [],
   "source": [
    "def replacing_numerical_features(X):\n",
    "    '''cleaning: strips \\t at beginning of number and replaces ? with nan values'''\n",
    "    X['pcv'] = X['pcv'].str.lstrip('\\t')\n",
    "    X['pcv'] = X['pcv'].replace(to_replace='?',value=np.nan).astype(float)\n",
    "    X['wc'] = X['wc'].str.lstrip('\\t')\n",
    "    X['wc'] = X['wc'].replace(to_replace='?',value=np.nan).astype(float)\n",
    "    X['rc'] = X['rc'].str.lstrip('\\t')\n",
    "    X['rc'] = X['rc'].replace(to_replace='?',value=np.nan).astype(float)\n",
    "    return X\n"
   ]
  },
  {
   "cell_type": "code",
   "execution_count": 8,
   "metadata": {},
   "outputs": [],
   "source": [
    "def replacing_binary_features(X,y):\n",
    "    '''encoding: replacing Yes --> 1 no --> 0'''\n",
    "    X[['htn','dm','cad','pe','ane']] = X[['htn','dm','cad','pe','ane']].replace(to_replace={'yes':1,'no':0})\n",
    "    X[['rbc','pc']] = X[['rbc','pc']].replace(to_replace={'abnormal':1,'normal':0})\n",
    "    X[['pcc','ba']] = X[['pcc','ba']].replace(to_replace={'present':1,'notpresent':0})\n",
    "    X[['appet']] = X[['appet']].replace(to_replace={'good':2,'poor':1,'no':0})\n",
    "    ## replacing t_values to 0 or 1, by assuming it s close to 0 or 1, respectively\n",
    "    X['cad'] = X['cad'].replace(to_replace='\\tno',value=0)\n",
    "    X['dm'] = X['dm'].replace(to_replace={'\\tno':0,'\\tyes':1,' yes':1})\n",
    "\n",
    "    #encoding the target:\n",
    "    y= y.replace(to_replace={'ckd':1,'notckd':0, 'ckd\\t': 1}).astype(int)\n",
    "    return X,y"
   ]
  },
  {
   "cell_type": "markdown",
   "metadata": {},
   "source": [
    "### preprocessing of the data"
   ]
  },
  {
   "cell_type": "code",
   "execution_count": 76,
   "metadata": {},
   "outputs": [
    {
     "data": {
      "text/plain": [
       "(320, 24)"
      ]
     },
     "execution_count": 76,
     "metadata": {},
     "output_type": "execute_result"
    }
   ],
   "source": [
    "def preproc(X_train):\n",
    "    '''takes in a df with column names. returns preprocessed data as numpy array with 24 columns'''\n",
    "    # creating feat_lists for pipeline\n",
    "    feat_binary = ['rbc', 'pc', 'pcc', 'ba', 'htn', 'dm', 'cad', 'appet', 'pe', 'ane']\n",
    "    feat_ordered = ['sg', 'al', 'su']\n",
    "    feat_continuous = ['age', 'bp', 'bgr', 'bu', 'sc', 'sod', 'pot', 'hemo', 'pcv', 'wc',\n",
    "       'rc']\n",
    "\n",
    " \n",
    "\n",
    "    ordered_transformer = Pipeline([\n",
    "                                ('cat_imputer', SimpleImputer(strategy='most_frequent')),\n",
    "                                ('mm_scaler', MinMaxScaler())\n",
    "                                ])\n",
    "\n",
    "    binary_transformer = Pipeline([\n",
    "                                ('cat_imputer', SimpleImputer(strategy='most_frequent'))\n",
    "                                ])\n",
    "\n",
    "    cont_transformer = Pipeline([\n",
    "                                ('num_imputer', SimpleImputer()),\n",
    "                                ('mm_scaler', MinMaxScaler())\n",
    "                                ])\n",
    "\n",
    "    preproc_pipe = ColumnTransformer([\n",
    "                                        ('ord_trans', ordered_transformer, feat_ordered),\n",
    "                                        ('bin_trans', binary_transformer, feat_binary),\n",
    "                                        ('cont_trans', cont_transformer, feat_continuous)\n",
    "                                    ])\n",
    "\n",
    "\n",
    "    X_proc = preproc_pipe.fit_transform(X_train)\n",
    "\n",
    "    return X_proc\n",
    "X_preproc = preproc(X_train)\n",
    "X_preproc.shape\n"
   ]
  },
  {
   "cell_type": "code",
   "execution_count": 49,
   "metadata": {},
   "outputs": [
    {
     "data": {
      "text/plain": [
       "array([0])"
      ]
     },
     "execution_count": 49,
     "metadata": {},
     "output_type": "execute_result"
    }
   ],
   "source": [
    "model = RandomForestClassifier()\n",
    "model.fit(preproc(X_train), y_train)\n",
    "numpy_array = np.array([0.75, 0., 0., 0., 0., 0., 0., 0., 0., 0., 2., 0., 0., 0.29885057, 0.23076923, 0.13034188, 0.12195122, 0.00529801, 0.84858044, 0.01797753, 0.97692308, 0.65, 0.31818182, 0.44067797]).reshape(1, -1)\n",
    "model.predict(numpy_array)  "
   ]
  },
  {
   "cell_type": "code",
   "execution_count": 14,
   "metadata": {},
   "outputs": [
    {
     "ename": "KeyboardInterrupt",
     "evalue": "",
     "output_type": "error",
     "traceback": [
      "\u001b[0;31m---------------------------------------------------------------------------\u001b[0m",
      "\u001b[0;31mEmpty\u001b[0m                                     Traceback (most recent call last)",
      "File \u001b[0;32m~/.pyenv/versions/3.8.12/envs/kidney_kids/lib/python3.8/site-packages/joblib/parallel.py:822\u001b[0m, in \u001b[0;36mParallel.dispatch_one_batch\u001b[0;34m(self, iterator)\u001b[0m\n\u001b[1;32m    <a href='file:///home/viktoria/.pyenv/versions/3.8.12/envs/kidney_kids/lib/python3.8/site-packages/joblib/parallel.py?line=820'>821</a>\u001b[0m \u001b[39mtry\u001b[39;00m:\n\u001b[0;32m--> <a href='file:///home/viktoria/.pyenv/versions/3.8.12/envs/kidney_kids/lib/python3.8/site-packages/joblib/parallel.py?line=821'>822</a>\u001b[0m     tasks \u001b[39m=\u001b[39m \u001b[39mself\u001b[39;49m\u001b[39m.\u001b[39;49m_ready_batches\u001b[39m.\u001b[39;49mget(block\u001b[39m=\u001b[39;49m\u001b[39mFalse\u001b[39;49;00m)\n\u001b[1;32m    <a href='file:///home/viktoria/.pyenv/versions/3.8.12/envs/kidney_kids/lib/python3.8/site-packages/joblib/parallel.py?line=822'>823</a>\u001b[0m \u001b[39mexcept\u001b[39;00m queue\u001b[39m.\u001b[39mEmpty:\n\u001b[1;32m    <a href='file:///home/viktoria/.pyenv/versions/3.8.12/envs/kidney_kids/lib/python3.8/site-packages/joblib/parallel.py?line=823'>824</a>\u001b[0m     \u001b[39m# slice the iterator n_jobs * batchsize items at a time. If the\u001b[39;00m\n\u001b[1;32m    <a href='file:///home/viktoria/.pyenv/versions/3.8.12/envs/kidney_kids/lib/python3.8/site-packages/joblib/parallel.py?line=824'>825</a>\u001b[0m     \u001b[39m# slice returns less than that, then the current batchsize puts\u001b[39;00m\n\u001b[0;32m   (...)\u001b[0m\n\u001b[1;32m    <a href='file:///home/viktoria/.pyenv/versions/3.8.12/envs/kidney_kids/lib/python3.8/site-packages/joblib/parallel.py?line=827'>828</a>\u001b[0m     \u001b[39m# accordingly to distribute evenly the last items between all\u001b[39;00m\n\u001b[1;32m    <a href='file:///home/viktoria/.pyenv/versions/3.8.12/envs/kidney_kids/lib/python3.8/site-packages/joblib/parallel.py?line=828'>829</a>\u001b[0m     \u001b[39m# workers.\u001b[39;00m\n",
      "File \u001b[0;32m~/.pyenv/versions/3.8.12/lib/python3.8/queue.py:167\u001b[0m, in \u001b[0;36mQueue.get\u001b[0;34m(self, block, timeout)\u001b[0m\n\u001b[1;32m    <a href='file:///home/viktoria/.pyenv/versions/3.8.12/lib/python3.8/queue.py?line=165'>166</a>\u001b[0m     \u001b[39mif\u001b[39;00m \u001b[39mnot\u001b[39;00m \u001b[39mself\u001b[39m\u001b[39m.\u001b[39m_qsize():\n\u001b[0;32m--> <a href='file:///home/viktoria/.pyenv/versions/3.8.12/lib/python3.8/queue.py?line=166'>167</a>\u001b[0m         \u001b[39mraise\u001b[39;00m Empty\n\u001b[1;32m    <a href='file:///home/viktoria/.pyenv/versions/3.8.12/lib/python3.8/queue.py?line=167'>168</a>\u001b[0m \u001b[39melif\u001b[39;00m timeout \u001b[39mis\u001b[39;00m \u001b[39mNone\u001b[39;00m:\n",
      "\u001b[0;31mEmpty\u001b[0m: ",
      "\nDuring handling of the above exception, another exception occurred:\n",
      "\u001b[0;31mKeyboardInterrupt\u001b[0m                         Traceback (most recent call last)",
      "\u001b[1;32m/home/viktoria/code/viiktoria/kidney_kids/notebooks/model_production.ipynb Cell 9'\u001b[0m in \u001b[0;36m<cell line: 23>\u001b[0;34m()\u001b[0m\n\u001b[1;32m     <a href='vscode-notebook-cell://wsl%2Bubuntu-20.04/home/viktoria/code/viiktoria/kidney_kids/notebooks/model_production.ipynb#ch0000008vscode-remote?line=16'>17</a>\u001b[0m     df \u001b[39m=\u001b[39m pd\u001b[39m.\u001b[39mDataFrame(result\u001b[39m.\u001b[39mcv_results_)\n\u001b[1;32m     <a href='vscode-notebook-cell://wsl%2Bubuntu-20.04/home/viktoria/code/viiktoria/kidney_kids/notebooks/model_production.ipynb#ch0000008vscode-remote?line=18'>19</a>\u001b[0m     \u001b[39mreturn\u001b[39;00m [result\u001b[39m.\u001b[39mbest_estimator_, df, result\u001b[39m.\u001b[39mbest_params_]\n\u001b[0;32m---> <a href='vscode-notebook-cell://wsl%2Bubuntu-20.04/home/viktoria/code/viiktoria/kidney_kids/notebooks/model_production.ipynb#ch0000008vscode-remote?line=22'>23</a>\u001b[0m model, df, best_prams \u001b[39m=\u001b[39m forest_model(X_preproc, y_train)\n\u001b[1;32m     <a href='vscode-notebook-cell://wsl%2Bubuntu-20.04/home/viktoria/code/viiktoria/kidney_kids/notebooks/model_production.ipynb#ch0000008vscode-remote?line=23'>24</a>\u001b[0m model\n",
      "\u001b[1;32m/home/viktoria/code/viiktoria/kidney_kids/notebooks/model_production.ipynb Cell 9'\u001b[0m in \u001b[0;36mforest_model\u001b[0;34m(X_proc, y_train)\u001b[0m\n\u001b[1;32m      <a href='vscode-notebook-cell://wsl%2Bubuntu-20.04/home/viktoria/code/viiktoria/kidney_kids/notebooks/model_production.ipynb#ch0000008vscode-remote?line=5'>6</a>\u001b[0m param_grid \u001b[39m=\u001b[39m {\n\u001b[1;32m      <a href='vscode-notebook-cell://wsl%2Bubuntu-20.04/home/viktoria/code/viiktoria/kidney_kids/notebooks/model_production.ipynb#ch0000008vscode-remote?line=6'>7</a>\u001b[0m \u001b[39m'\u001b[39m\u001b[39mn_estimators\u001b[39m\u001b[39m'\u001b[39m: [\u001b[39m100\u001b[39m, \u001b[39m300\u001b[39m, \u001b[39m500\u001b[39m],\n\u001b[1;32m      <a href='vscode-notebook-cell://wsl%2Bubuntu-20.04/home/viktoria/code/viiktoria/kidney_kids/notebooks/model_production.ipynb#ch0000008vscode-remote?line=7'>8</a>\u001b[0m \u001b[39m'\u001b[39m\u001b[39mcriterion\u001b[39m\u001b[39m'\u001b[39m : [\u001b[39m'\u001b[39m\u001b[39mgini\u001b[39m\u001b[39m'\u001b[39m, \u001b[39m'\u001b[39m\u001b[39mentropy\u001b[39m\u001b[39m'\u001b[39m],\n\u001b[1;32m      <a href='vscode-notebook-cell://wsl%2Bubuntu-20.04/home/viktoria/code/viiktoria/kidney_kids/notebooks/model_production.ipynb#ch0000008vscode-remote?line=8'>9</a>\u001b[0m \u001b[39m'\u001b[39m\u001b[39mmax_depth\u001b[39m\u001b[39m'\u001b[39m : [\u001b[39m3\u001b[39m,\u001b[39m5\u001b[39m,\u001b[39m7\u001b[39m,\u001b[39m10\u001b[39m,\u001b[39m15\u001b[39m],\n\u001b[1;32m     <a href='vscode-notebook-cell://wsl%2Bubuntu-20.04/home/viktoria/code/viiktoria/kidney_kids/notebooks/model_production.ipynb#ch0000008vscode-remote?line=9'>10</a>\u001b[0m \u001b[39m'\u001b[39m\u001b[39mmin_samples_split\u001b[39m\u001b[39m'\u001b[39m : [\u001b[39m2\u001b[39m, \u001b[39m3\u001b[39m, \u001b[39m5\u001b[39m, \u001b[39m7\u001b[39m]\n\u001b[1;32m     <a href='vscode-notebook-cell://wsl%2Bubuntu-20.04/home/viktoria/code/viiktoria/kidney_kids/notebooks/model_production.ipynb#ch0000008vscode-remote?line=10'>11</a>\u001b[0m }\n\u001b[1;32m     <a href='vscode-notebook-cell://wsl%2Bubuntu-20.04/home/viktoria/code/viiktoria/kidney_kids/notebooks/model_production.ipynb#ch0000008vscode-remote?line=13'>14</a>\u001b[0m search \u001b[39m=\u001b[39m GridSearchCV(rfc, param_grid\u001b[39m=\u001b[39mparam_grid, scoring\u001b[39m=\u001b[39m\u001b[39m'\u001b[39m\u001b[39mrecall\u001b[39m\u001b[39m'\u001b[39m)\n\u001b[0;32m---> <a href='vscode-notebook-cell://wsl%2Bubuntu-20.04/home/viktoria/code/viiktoria/kidney_kids/notebooks/model_production.ipynb#ch0000008vscode-remote?line=14'>15</a>\u001b[0m result \u001b[39m=\u001b[39m search\u001b[39m.\u001b[39;49mfit(X_proc,y_train)\n\u001b[1;32m     <a href='vscode-notebook-cell://wsl%2Bubuntu-20.04/home/viktoria/code/viiktoria/kidney_kids/notebooks/model_production.ipynb#ch0000008vscode-remote?line=16'>17</a>\u001b[0m df \u001b[39m=\u001b[39m pd\u001b[39m.\u001b[39mDataFrame(result\u001b[39m.\u001b[39mcv_results_)\n\u001b[1;32m     <a href='vscode-notebook-cell://wsl%2Bubuntu-20.04/home/viktoria/code/viiktoria/kidney_kids/notebooks/model_production.ipynb#ch0000008vscode-remote?line=18'>19</a>\u001b[0m \u001b[39mreturn\u001b[39;00m [result\u001b[39m.\u001b[39mbest_estimator_, df, result\u001b[39m.\u001b[39mbest_params_]\n",
      "File \u001b[0;32m~/.pyenv/versions/3.8.12/envs/kidney_kids/lib/python3.8/site-packages/sklearn/model_selection/_search.py:891\u001b[0m, in \u001b[0;36mBaseSearchCV.fit\u001b[0;34m(self, X, y, groups, **fit_params)\u001b[0m\n\u001b[1;32m    <a href='file:///home/viktoria/.pyenv/versions/3.8.12/envs/kidney_kids/lib/python3.8/site-packages/sklearn/model_selection/_search.py?line=884'>885</a>\u001b[0m     results \u001b[39m=\u001b[39m \u001b[39mself\u001b[39m\u001b[39m.\u001b[39m_format_results(\n\u001b[1;32m    <a href='file:///home/viktoria/.pyenv/versions/3.8.12/envs/kidney_kids/lib/python3.8/site-packages/sklearn/model_selection/_search.py?line=885'>886</a>\u001b[0m         all_candidate_params, n_splits, all_out, all_more_results\n\u001b[1;32m    <a href='file:///home/viktoria/.pyenv/versions/3.8.12/envs/kidney_kids/lib/python3.8/site-packages/sklearn/model_selection/_search.py?line=886'>887</a>\u001b[0m     )\n\u001b[1;32m    <a href='file:///home/viktoria/.pyenv/versions/3.8.12/envs/kidney_kids/lib/python3.8/site-packages/sklearn/model_selection/_search.py?line=888'>889</a>\u001b[0m     \u001b[39mreturn\u001b[39;00m results\n\u001b[0;32m--> <a href='file:///home/viktoria/.pyenv/versions/3.8.12/envs/kidney_kids/lib/python3.8/site-packages/sklearn/model_selection/_search.py?line=890'>891</a>\u001b[0m \u001b[39mself\u001b[39;49m\u001b[39m.\u001b[39;49m_run_search(evaluate_candidates)\n\u001b[1;32m    <a href='file:///home/viktoria/.pyenv/versions/3.8.12/envs/kidney_kids/lib/python3.8/site-packages/sklearn/model_selection/_search.py?line=892'>893</a>\u001b[0m \u001b[39m# multimetric is determined here because in the case of a callable\u001b[39;00m\n\u001b[1;32m    <a href='file:///home/viktoria/.pyenv/versions/3.8.12/envs/kidney_kids/lib/python3.8/site-packages/sklearn/model_selection/_search.py?line=893'>894</a>\u001b[0m \u001b[39m# self.scoring the return type is only known after calling\u001b[39;00m\n\u001b[1;32m    <a href='file:///home/viktoria/.pyenv/versions/3.8.12/envs/kidney_kids/lib/python3.8/site-packages/sklearn/model_selection/_search.py?line=894'>895</a>\u001b[0m first_test_score \u001b[39m=\u001b[39m all_out[\u001b[39m0\u001b[39m][\u001b[39m\"\u001b[39m\u001b[39mtest_scores\u001b[39m\u001b[39m\"\u001b[39m]\n",
      "File \u001b[0;32m~/.pyenv/versions/3.8.12/envs/kidney_kids/lib/python3.8/site-packages/sklearn/model_selection/_search.py:1392\u001b[0m, in \u001b[0;36mGridSearchCV._run_search\u001b[0;34m(self, evaluate_candidates)\u001b[0m\n\u001b[1;32m   <a href='file:///home/viktoria/.pyenv/versions/3.8.12/envs/kidney_kids/lib/python3.8/site-packages/sklearn/model_selection/_search.py?line=1389'>1390</a>\u001b[0m \u001b[39mdef\u001b[39;00m \u001b[39m_run_search\u001b[39m(\u001b[39mself\u001b[39m, evaluate_candidates):\n\u001b[1;32m   <a href='file:///home/viktoria/.pyenv/versions/3.8.12/envs/kidney_kids/lib/python3.8/site-packages/sklearn/model_selection/_search.py?line=1390'>1391</a>\u001b[0m     \u001b[39m\"\"\"Search all candidates in param_grid\"\"\"\u001b[39;00m\n\u001b[0;32m-> <a href='file:///home/viktoria/.pyenv/versions/3.8.12/envs/kidney_kids/lib/python3.8/site-packages/sklearn/model_selection/_search.py?line=1391'>1392</a>\u001b[0m     evaluate_candidates(ParameterGrid(\u001b[39mself\u001b[39;49m\u001b[39m.\u001b[39;49mparam_grid))\n",
      "File \u001b[0;32m~/.pyenv/versions/3.8.12/envs/kidney_kids/lib/python3.8/site-packages/sklearn/model_selection/_search.py:838\u001b[0m, in \u001b[0;36mBaseSearchCV.fit.<locals>.evaluate_candidates\u001b[0;34m(candidate_params, cv, more_results)\u001b[0m\n\u001b[1;32m    <a href='file:///home/viktoria/.pyenv/versions/3.8.12/envs/kidney_kids/lib/python3.8/site-packages/sklearn/model_selection/_search.py?line=829'>830</a>\u001b[0m \u001b[39mif\u001b[39;00m \u001b[39mself\u001b[39m\u001b[39m.\u001b[39mverbose \u001b[39m>\u001b[39m \u001b[39m0\u001b[39m:\n\u001b[1;32m    <a href='file:///home/viktoria/.pyenv/versions/3.8.12/envs/kidney_kids/lib/python3.8/site-packages/sklearn/model_selection/_search.py?line=830'>831</a>\u001b[0m     \u001b[39mprint\u001b[39m(\n\u001b[1;32m    <a href='file:///home/viktoria/.pyenv/versions/3.8.12/envs/kidney_kids/lib/python3.8/site-packages/sklearn/model_selection/_search.py?line=831'>832</a>\u001b[0m         \u001b[39m\"\u001b[39m\u001b[39mFitting \u001b[39m\u001b[39m{0}\u001b[39;00m\u001b[39m folds for each of \u001b[39m\u001b[39m{1}\u001b[39;00m\u001b[39m candidates,\u001b[39m\u001b[39m\"\u001b[39m\n\u001b[1;32m    <a href='file:///home/viktoria/.pyenv/versions/3.8.12/envs/kidney_kids/lib/python3.8/site-packages/sklearn/model_selection/_search.py?line=832'>833</a>\u001b[0m         \u001b[39m\"\u001b[39m\u001b[39m totalling \u001b[39m\u001b[39m{2}\u001b[39;00m\u001b[39m fits\u001b[39m\u001b[39m\"\u001b[39m\u001b[39m.\u001b[39mformat(\n\u001b[1;32m    <a href='file:///home/viktoria/.pyenv/versions/3.8.12/envs/kidney_kids/lib/python3.8/site-packages/sklearn/model_selection/_search.py?line=833'>834</a>\u001b[0m             n_splits, n_candidates, n_candidates \u001b[39m*\u001b[39m n_splits\n\u001b[1;32m    <a href='file:///home/viktoria/.pyenv/versions/3.8.12/envs/kidney_kids/lib/python3.8/site-packages/sklearn/model_selection/_search.py?line=834'>835</a>\u001b[0m         )\n\u001b[1;32m    <a href='file:///home/viktoria/.pyenv/versions/3.8.12/envs/kidney_kids/lib/python3.8/site-packages/sklearn/model_selection/_search.py?line=835'>836</a>\u001b[0m     )\n\u001b[0;32m--> <a href='file:///home/viktoria/.pyenv/versions/3.8.12/envs/kidney_kids/lib/python3.8/site-packages/sklearn/model_selection/_search.py?line=837'>838</a>\u001b[0m out \u001b[39m=\u001b[39m parallel(\n\u001b[1;32m    <a href='file:///home/viktoria/.pyenv/versions/3.8.12/envs/kidney_kids/lib/python3.8/site-packages/sklearn/model_selection/_search.py?line=838'>839</a>\u001b[0m     delayed(_fit_and_score)(\n\u001b[1;32m    <a href='file:///home/viktoria/.pyenv/versions/3.8.12/envs/kidney_kids/lib/python3.8/site-packages/sklearn/model_selection/_search.py?line=839'>840</a>\u001b[0m         clone(base_estimator),\n\u001b[1;32m    <a href='file:///home/viktoria/.pyenv/versions/3.8.12/envs/kidney_kids/lib/python3.8/site-packages/sklearn/model_selection/_search.py?line=840'>841</a>\u001b[0m         X,\n\u001b[1;32m    <a href='file:///home/viktoria/.pyenv/versions/3.8.12/envs/kidney_kids/lib/python3.8/site-packages/sklearn/model_selection/_search.py?line=841'>842</a>\u001b[0m         y,\n\u001b[1;32m    <a href='file:///home/viktoria/.pyenv/versions/3.8.12/envs/kidney_kids/lib/python3.8/site-packages/sklearn/model_selection/_search.py?line=842'>843</a>\u001b[0m         train\u001b[39m=\u001b[39;49mtrain,\n\u001b[1;32m    <a href='file:///home/viktoria/.pyenv/versions/3.8.12/envs/kidney_kids/lib/python3.8/site-packages/sklearn/model_selection/_search.py?line=843'>844</a>\u001b[0m         test\u001b[39m=\u001b[39;49mtest,\n\u001b[1;32m    <a href='file:///home/viktoria/.pyenv/versions/3.8.12/envs/kidney_kids/lib/python3.8/site-packages/sklearn/model_selection/_search.py?line=844'>845</a>\u001b[0m         parameters\u001b[39m=\u001b[39;49mparameters,\n\u001b[1;32m    <a href='file:///home/viktoria/.pyenv/versions/3.8.12/envs/kidney_kids/lib/python3.8/site-packages/sklearn/model_selection/_search.py?line=845'>846</a>\u001b[0m         split_progress\u001b[39m=\u001b[39;49m(split_idx, n_splits),\n\u001b[1;32m    <a href='file:///home/viktoria/.pyenv/versions/3.8.12/envs/kidney_kids/lib/python3.8/site-packages/sklearn/model_selection/_search.py?line=846'>847</a>\u001b[0m         candidate_progress\u001b[39m=\u001b[39;49m(cand_idx, n_candidates),\n\u001b[1;32m    <a href='file:///home/viktoria/.pyenv/versions/3.8.12/envs/kidney_kids/lib/python3.8/site-packages/sklearn/model_selection/_search.py?line=847'>848</a>\u001b[0m         \u001b[39m*\u001b[39;49m\u001b[39m*\u001b[39;49mfit_and_score_kwargs,\n\u001b[1;32m    <a href='file:///home/viktoria/.pyenv/versions/3.8.12/envs/kidney_kids/lib/python3.8/site-packages/sklearn/model_selection/_search.py?line=848'>849</a>\u001b[0m     )\n\u001b[1;32m    <a href='file:///home/viktoria/.pyenv/versions/3.8.12/envs/kidney_kids/lib/python3.8/site-packages/sklearn/model_selection/_search.py?line=849'>850</a>\u001b[0m     \u001b[39mfor\u001b[39;49;00m (cand_idx, parameters), (split_idx, (train, test)) \u001b[39min\u001b[39;49;00m product(\n\u001b[1;32m    <a href='file:///home/viktoria/.pyenv/versions/3.8.12/envs/kidney_kids/lib/python3.8/site-packages/sklearn/model_selection/_search.py?line=850'>851</a>\u001b[0m         \u001b[39menumerate\u001b[39;49m(candidate_params), \u001b[39menumerate\u001b[39;49m(cv\u001b[39m.\u001b[39;49msplit(X, y, groups))\n\u001b[1;32m    <a href='file:///home/viktoria/.pyenv/versions/3.8.12/envs/kidney_kids/lib/python3.8/site-packages/sklearn/model_selection/_search.py?line=851'>852</a>\u001b[0m     )\n\u001b[1;32m    <a href='file:///home/viktoria/.pyenv/versions/3.8.12/envs/kidney_kids/lib/python3.8/site-packages/sklearn/model_selection/_search.py?line=852'>853</a>\u001b[0m )\n\u001b[1;32m    <a href='file:///home/viktoria/.pyenv/versions/3.8.12/envs/kidney_kids/lib/python3.8/site-packages/sklearn/model_selection/_search.py?line=854'>855</a>\u001b[0m \u001b[39mif\u001b[39;00m \u001b[39mlen\u001b[39m(out) \u001b[39m<\u001b[39m \u001b[39m1\u001b[39m:\n\u001b[1;32m    <a href='file:///home/viktoria/.pyenv/versions/3.8.12/envs/kidney_kids/lib/python3.8/site-packages/sklearn/model_selection/_search.py?line=855'>856</a>\u001b[0m     \u001b[39mraise\u001b[39;00m \u001b[39mValueError\u001b[39;00m(\n\u001b[1;32m    <a href='file:///home/viktoria/.pyenv/versions/3.8.12/envs/kidney_kids/lib/python3.8/site-packages/sklearn/model_selection/_search.py?line=856'>857</a>\u001b[0m         \u001b[39m\"\u001b[39m\u001b[39mNo fits were performed. \u001b[39m\u001b[39m\"\u001b[39m\n\u001b[1;32m    <a href='file:///home/viktoria/.pyenv/versions/3.8.12/envs/kidney_kids/lib/python3.8/site-packages/sklearn/model_selection/_search.py?line=857'>858</a>\u001b[0m         \u001b[39m\"\u001b[39m\u001b[39mWas the CV iterator empty? \u001b[39m\u001b[39m\"\u001b[39m\n\u001b[1;32m    <a href='file:///home/viktoria/.pyenv/versions/3.8.12/envs/kidney_kids/lib/python3.8/site-packages/sklearn/model_selection/_search.py?line=858'>859</a>\u001b[0m         \u001b[39m\"\u001b[39m\u001b[39mWere there no candidates?\u001b[39m\u001b[39m\"\u001b[39m\n\u001b[1;32m    <a href='file:///home/viktoria/.pyenv/versions/3.8.12/envs/kidney_kids/lib/python3.8/site-packages/sklearn/model_selection/_search.py?line=859'>860</a>\u001b[0m     )\n",
      "File \u001b[0;32m~/.pyenv/versions/3.8.12/envs/kidney_kids/lib/python3.8/site-packages/joblib/parallel.py:1046\u001b[0m, in \u001b[0;36mParallel.__call__\u001b[0;34m(self, iterable)\u001b[0m\n\u001b[1;32m   <a href='file:///home/viktoria/.pyenv/versions/3.8.12/envs/kidney_kids/lib/python3.8/site-packages/joblib/parallel.py?line=1042'>1043</a>\u001b[0m \u001b[39mif\u001b[39;00m \u001b[39mself\u001b[39m\u001b[39m.\u001b[39mdispatch_one_batch(iterator):\n\u001b[1;32m   <a href='file:///home/viktoria/.pyenv/versions/3.8.12/envs/kidney_kids/lib/python3.8/site-packages/joblib/parallel.py?line=1043'>1044</a>\u001b[0m     \u001b[39mself\u001b[39m\u001b[39m.\u001b[39m_iterating \u001b[39m=\u001b[39m \u001b[39mself\u001b[39m\u001b[39m.\u001b[39m_original_iterator \u001b[39mis\u001b[39;00m \u001b[39mnot\u001b[39;00m \u001b[39mNone\u001b[39;00m\n\u001b[0;32m-> <a href='file:///home/viktoria/.pyenv/versions/3.8.12/envs/kidney_kids/lib/python3.8/site-packages/joblib/parallel.py?line=1045'>1046</a>\u001b[0m \u001b[39mwhile\u001b[39;00m \u001b[39mself\u001b[39;49m\u001b[39m.\u001b[39;49mdispatch_one_batch(iterator):\n\u001b[1;32m   <a href='file:///home/viktoria/.pyenv/versions/3.8.12/envs/kidney_kids/lib/python3.8/site-packages/joblib/parallel.py?line=1046'>1047</a>\u001b[0m     \u001b[39mpass\u001b[39;00m\n\u001b[1;32m   <a href='file:///home/viktoria/.pyenv/versions/3.8.12/envs/kidney_kids/lib/python3.8/site-packages/joblib/parallel.py?line=1048'>1049</a>\u001b[0m \u001b[39mif\u001b[39;00m pre_dispatch \u001b[39m==\u001b[39m \u001b[39m\"\u001b[39m\u001b[39mall\u001b[39m\u001b[39m\"\u001b[39m \u001b[39mor\u001b[39;00m n_jobs \u001b[39m==\u001b[39m \u001b[39m1\u001b[39m:\n\u001b[1;32m   <a href='file:///home/viktoria/.pyenv/versions/3.8.12/envs/kidney_kids/lib/python3.8/site-packages/joblib/parallel.py?line=1049'>1050</a>\u001b[0m     \u001b[39m# The iterable was consumed all at once by the above for loop.\u001b[39;00m\n\u001b[1;32m   <a href='file:///home/viktoria/.pyenv/versions/3.8.12/envs/kidney_kids/lib/python3.8/site-packages/joblib/parallel.py?line=1050'>1051</a>\u001b[0m     \u001b[39m# No need to wait for async callbacks to trigger to\u001b[39;00m\n\u001b[1;32m   <a href='file:///home/viktoria/.pyenv/versions/3.8.12/envs/kidney_kids/lib/python3.8/site-packages/joblib/parallel.py?line=1051'>1052</a>\u001b[0m     \u001b[39m# consumption.\u001b[39;00m\n",
      "File \u001b[0;32m~/.pyenv/versions/3.8.12/envs/kidney_kids/lib/python3.8/site-packages/joblib/parallel.py:861\u001b[0m, in \u001b[0;36mParallel.dispatch_one_batch\u001b[0;34m(self, iterator)\u001b[0m\n\u001b[1;32m    <a href='file:///home/viktoria/.pyenv/versions/3.8.12/envs/kidney_kids/lib/python3.8/site-packages/joblib/parallel.py?line=858'>859</a>\u001b[0m     \u001b[39mreturn\u001b[39;00m \u001b[39mFalse\u001b[39;00m\n\u001b[1;32m    <a href='file:///home/viktoria/.pyenv/versions/3.8.12/envs/kidney_kids/lib/python3.8/site-packages/joblib/parallel.py?line=859'>860</a>\u001b[0m \u001b[39melse\u001b[39;00m:\n\u001b[0;32m--> <a href='file:///home/viktoria/.pyenv/versions/3.8.12/envs/kidney_kids/lib/python3.8/site-packages/joblib/parallel.py?line=860'>861</a>\u001b[0m     \u001b[39mself\u001b[39;49m\u001b[39m.\u001b[39;49m_dispatch(tasks)\n\u001b[1;32m    <a href='file:///home/viktoria/.pyenv/versions/3.8.12/envs/kidney_kids/lib/python3.8/site-packages/joblib/parallel.py?line=861'>862</a>\u001b[0m     \u001b[39mreturn\u001b[39;00m \u001b[39mTrue\u001b[39;00m\n",
      "File \u001b[0;32m~/.pyenv/versions/3.8.12/envs/kidney_kids/lib/python3.8/site-packages/joblib/parallel.py:779\u001b[0m, in \u001b[0;36mParallel._dispatch\u001b[0;34m(self, batch)\u001b[0m\n\u001b[1;32m    <a href='file:///home/viktoria/.pyenv/versions/3.8.12/envs/kidney_kids/lib/python3.8/site-packages/joblib/parallel.py?line=776'>777</a>\u001b[0m \u001b[39mwith\u001b[39;00m \u001b[39mself\u001b[39m\u001b[39m.\u001b[39m_lock:\n\u001b[1;32m    <a href='file:///home/viktoria/.pyenv/versions/3.8.12/envs/kidney_kids/lib/python3.8/site-packages/joblib/parallel.py?line=777'>778</a>\u001b[0m     job_idx \u001b[39m=\u001b[39m \u001b[39mlen\u001b[39m(\u001b[39mself\u001b[39m\u001b[39m.\u001b[39m_jobs)\n\u001b[0;32m--> <a href='file:///home/viktoria/.pyenv/versions/3.8.12/envs/kidney_kids/lib/python3.8/site-packages/joblib/parallel.py?line=778'>779</a>\u001b[0m     job \u001b[39m=\u001b[39m \u001b[39mself\u001b[39;49m\u001b[39m.\u001b[39;49m_backend\u001b[39m.\u001b[39;49mapply_async(batch, callback\u001b[39m=\u001b[39;49mcb)\n\u001b[1;32m    <a href='file:///home/viktoria/.pyenv/versions/3.8.12/envs/kidney_kids/lib/python3.8/site-packages/joblib/parallel.py?line=779'>780</a>\u001b[0m     \u001b[39m# A job can complete so quickly than its callback is\u001b[39;00m\n\u001b[1;32m    <a href='file:///home/viktoria/.pyenv/versions/3.8.12/envs/kidney_kids/lib/python3.8/site-packages/joblib/parallel.py?line=780'>781</a>\u001b[0m     \u001b[39m# called before we get here, causing self._jobs to\u001b[39;00m\n\u001b[1;32m    <a href='file:///home/viktoria/.pyenv/versions/3.8.12/envs/kidney_kids/lib/python3.8/site-packages/joblib/parallel.py?line=781'>782</a>\u001b[0m     \u001b[39m# grow. To ensure correct results ordering, .insert is\u001b[39;00m\n\u001b[1;32m    <a href='file:///home/viktoria/.pyenv/versions/3.8.12/envs/kidney_kids/lib/python3.8/site-packages/joblib/parallel.py?line=782'>783</a>\u001b[0m     \u001b[39m# used (rather than .append) in the following line\u001b[39;00m\n\u001b[1;32m    <a href='file:///home/viktoria/.pyenv/versions/3.8.12/envs/kidney_kids/lib/python3.8/site-packages/joblib/parallel.py?line=783'>784</a>\u001b[0m     \u001b[39mself\u001b[39m\u001b[39m.\u001b[39m_jobs\u001b[39m.\u001b[39minsert(job_idx, job)\n",
      "File \u001b[0;32m~/.pyenv/versions/3.8.12/envs/kidney_kids/lib/python3.8/site-packages/joblib/_parallel_backends.py:208\u001b[0m, in \u001b[0;36mSequentialBackend.apply_async\u001b[0;34m(self, func, callback)\u001b[0m\n\u001b[1;32m    <a href='file:///home/viktoria/.pyenv/versions/3.8.12/envs/kidney_kids/lib/python3.8/site-packages/joblib/_parallel_backends.py?line=205'>206</a>\u001b[0m \u001b[39mdef\u001b[39;00m \u001b[39mapply_async\u001b[39m(\u001b[39mself\u001b[39m, func, callback\u001b[39m=\u001b[39m\u001b[39mNone\u001b[39;00m):\n\u001b[1;32m    <a href='file:///home/viktoria/.pyenv/versions/3.8.12/envs/kidney_kids/lib/python3.8/site-packages/joblib/_parallel_backends.py?line=206'>207</a>\u001b[0m     \u001b[39m\"\"\"Schedule a func to be run\"\"\"\u001b[39;00m\n\u001b[0;32m--> <a href='file:///home/viktoria/.pyenv/versions/3.8.12/envs/kidney_kids/lib/python3.8/site-packages/joblib/_parallel_backends.py?line=207'>208</a>\u001b[0m     result \u001b[39m=\u001b[39m ImmediateResult(func)\n\u001b[1;32m    <a href='file:///home/viktoria/.pyenv/versions/3.8.12/envs/kidney_kids/lib/python3.8/site-packages/joblib/_parallel_backends.py?line=208'>209</a>\u001b[0m     \u001b[39mif\u001b[39;00m callback:\n\u001b[1;32m    <a href='file:///home/viktoria/.pyenv/versions/3.8.12/envs/kidney_kids/lib/python3.8/site-packages/joblib/_parallel_backends.py?line=209'>210</a>\u001b[0m         callback(result)\n",
      "File \u001b[0;32m~/.pyenv/versions/3.8.12/envs/kidney_kids/lib/python3.8/site-packages/joblib/_parallel_backends.py:572\u001b[0m, in \u001b[0;36mImmediateResult.__init__\u001b[0;34m(self, batch)\u001b[0m\n\u001b[1;32m    <a href='file:///home/viktoria/.pyenv/versions/3.8.12/envs/kidney_kids/lib/python3.8/site-packages/joblib/_parallel_backends.py?line=568'>569</a>\u001b[0m \u001b[39mdef\u001b[39;00m \u001b[39m__init__\u001b[39m(\u001b[39mself\u001b[39m, batch):\n\u001b[1;32m    <a href='file:///home/viktoria/.pyenv/versions/3.8.12/envs/kidney_kids/lib/python3.8/site-packages/joblib/_parallel_backends.py?line=569'>570</a>\u001b[0m     \u001b[39m# Don't delay the application, to avoid keeping the input\u001b[39;00m\n\u001b[1;32m    <a href='file:///home/viktoria/.pyenv/versions/3.8.12/envs/kidney_kids/lib/python3.8/site-packages/joblib/_parallel_backends.py?line=570'>571</a>\u001b[0m     \u001b[39m# arguments in memory\u001b[39;00m\n\u001b[0;32m--> <a href='file:///home/viktoria/.pyenv/versions/3.8.12/envs/kidney_kids/lib/python3.8/site-packages/joblib/_parallel_backends.py?line=571'>572</a>\u001b[0m     \u001b[39mself\u001b[39m\u001b[39m.\u001b[39mresults \u001b[39m=\u001b[39m batch()\n",
      "File \u001b[0;32m~/.pyenv/versions/3.8.12/envs/kidney_kids/lib/python3.8/site-packages/joblib/parallel.py:262\u001b[0m, in \u001b[0;36mBatchedCalls.__call__\u001b[0;34m(self)\u001b[0m\n\u001b[1;32m    <a href='file:///home/viktoria/.pyenv/versions/3.8.12/envs/kidney_kids/lib/python3.8/site-packages/joblib/parallel.py?line=257'>258</a>\u001b[0m \u001b[39mdef\u001b[39;00m \u001b[39m__call__\u001b[39m(\u001b[39mself\u001b[39m):\n\u001b[1;32m    <a href='file:///home/viktoria/.pyenv/versions/3.8.12/envs/kidney_kids/lib/python3.8/site-packages/joblib/parallel.py?line=258'>259</a>\u001b[0m     \u001b[39m# Set the default nested backend to self._backend but do not set the\u001b[39;00m\n\u001b[1;32m    <a href='file:///home/viktoria/.pyenv/versions/3.8.12/envs/kidney_kids/lib/python3.8/site-packages/joblib/parallel.py?line=259'>260</a>\u001b[0m     \u001b[39m# change the default number of processes to -1\u001b[39;00m\n\u001b[1;32m    <a href='file:///home/viktoria/.pyenv/versions/3.8.12/envs/kidney_kids/lib/python3.8/site-packages/joblib/parallel.py?line=260'>261</a>\u001b[0m     \u001b[39mwith\u001b[39;00m parallel_backend(\u001b[39mself\u001b[39m\u001b[39m.\u001b[39m_backend, n_jobs\u001b[39m=\u001b[39m\u001b[39mself\u001b[39m\u001b[39m.\u001b[39m_n_jobs):\n\u001b[0;32m--> <a href='file:///home/viktoria/.pyenv/versions/3.8.12/envs/kidney_kids/lib/python3.8/site-packages/joblib/parallel.py?line=261'>262</a>\u001b[0m         \u001b[39mreturn\u001b[39;00m [func(\u001b[39m*\u001b[39margs, \u001b[39m*\u001b[39m\u001b[39m*\u001b[39mkwargs)\n\u001b[1;32m    <a href='file:///home/viktoria/.pyenv/versions/3.8.12/envs/kidney_kids/lib/python3.8/site-packages/joblib/parallel.py?line=262'>263</a>\u001b[0m                 \u001b[39mfor\u001b[39;00m func, args, kwargs \u001b[39min\u001b[39;00m \u001b[39mself\u001b[39m\u001b[39m.\u001b[39mitems]\n",
      "File \u001b[0;32m~/.pyenv/versions/3.8.12/envs/kidney_kids/lib/python3.8/site-packages/joblib/parallel.py:262\u001b[0m, in \u001b[0;36m<listcomp>\u001b[0;34m(.0)\u001b[0m\n\u001b[1;32m    <a href='file:///home/viktoria/.pyenv/versions/3.8.12/envs/kidney_kids/lib/python3.8/site-packages/joblib/parallel.py?line=257'>258</a>\u001b[0m \u001b[39mdef\u001b[39;00m \u001b[39m__call__\u001b[39m(\u001b[39mself\u001b[39m):\n\u001b[1;32m    <a href='file:///home/viktoria/.pyenv/versions/3.8.12/envs/kidney_kids/lib/python3.8/site-packages/joblib/parallel.py?line=258'>259</a>\u001b[0m     \u001b[39m# Set the default nested backend to self._backend but do not set the\u001b[39;00m\n\u001b[1;32m    <a href='file:///home/viktoria/.pyenv/versions/3.8.12/envs/kidney_kids/lib/python3.8/site-packages/joblib/parallel.py?line=259'>260</a>\u001b[0m     \u001b[39m# change the default number of processes to -1\u001b[39;00m\n\u001b[1;32m    <a href='file:///home/viktoria/.pyenv/versions/3.8.12/envs/kidney_kids/lib/python3.8/site-packages/joblib/parallel.py?line=260'>261</a>\u001b[0m     \u001b[39mwith\u001b[39;00m parallel_backend(\u001b[39mself\u001b[39m\u001b[39m.\u001b[39m_backend, n_jobs\u001b[39m=\u001b[39m\u001b[39mself\u001b[39m\u001b[39m.\u001b[39m_n_jobs):\n\u001b[0;32m--> <a href='file:///home/viktoria/.pyenv/versions/3.8.12/envs/kidney_kids/lib/python3.8/site-packages/joblib/parallel.py?line=261'>262</a>\u001b[0m         \u001b[39mreturn\u001b[39;00m [func(\u001b[39m*\u001b[39;49margs, \u001b[39m*\u001b[39;49m\u001b[39m*\u001b[39;49mkwargs)\n\u001b[1;32m    <a href='file:///home/viktoria/.pyenv/versions/3.8.12/envs/kidney_kids/lib/python3.8/site-packages/joblib/parallel.py?line=262'>263</a>\u001b[0m                 \u001b[39mfor\u001b[39;00m func, args, kwargs \u001b[39min\u001b[39;00m \u001b[39mself\u001b[39m\u001b[39m.\u001b[39mitems]\n",
      "File \u001b[0;32m~/.pyenv/versions/3.8.12/envs/kidney_kids/lib/python3.8/site-packages/sklearn/utils/fixes.py:216\u001b[0m, in \u001b[0;36m_FuncWrapper.__call__\u001b[0;34m(self, *args, **kwargs)\u001b[0m\n\u001b[1;32m    <a href='file:///home/viktoria/.pyenv/versions/3.8.12/envs/kidney_kids/lib/python3.8/site-packages/sklearn/utils/fixes.py?line=213'>214</a>\u001b[0m \u001b[39mdef\u001b[39;00m \u001b[39m__call__\u001b[39m(\u001b[39mself\u001b[39m, \u001b[39m*\u001b[39margs, \u001b[39m*\u001b[39m\u001b[39m*\u001b[39mkwargs):\n\u001b[1;32m    <a href='file:///home/viktoria/.pyenv/versions/3.8.12/envs/kidney_kids/lib/python3.8/site-packages/sklearn/utils/fixes.py?line=214'>215</a>\u001b[0m     \u001b[39mwith\u001b[39;00m config_context(\u001b[39m*\u001b[39m\u001b[39m*\u001b[39m\u001b[39mself\u001b[39m\u001b[39m.\u001b[39mconfig):\n\u001b[0;32m--> <a href='file:///home/viktoria/.pyenv/versions/3.8.12/envs/kidney_kids/lib/python3.8/site-packages/sklearn/utils/fixes.py?line=215'>216</a>\u001b[0m         \u001b[39mreturn\u001b[39;00m \u001b[39mself\u001b[39;49m\u001b[39m.\u001b[39;49mfunction(\u001b[39m*\u001b[39;49margs, \u001b[39m*\u001b[39;49m\u001b[39m*\u001b[39;49mkwargs)\n",
      "File \u001b[0;32m~/.pyenv/versions/3.8.12/envs/kidney_kids/lib/python3.8/site-packages/sklearn/model_selection/_validation.py:680\u001b[0m, in \u001b[0;36m_fit_and_score\u001b[0;34m(estimator, X, y, scorer, train, test, verbose, parameters, fit_params, return_train_score, return_parameters, return_n_test_samples, return_times, return_estimator, split_progress, candidate_progress, error_score)\u001b[0m\n\u001b[1;32m    <a href='file:///home/viktoria/.pyenv/versions/3.8.12/envs/kidney_kids/lib/python3.8/site-packages/sklearn/model_selection/_validation.py?line=677'>678</a>\u001b[0m         estimator\u001b[39m.\u001b[39mfit(X_train, \u001b[39m*\u001b[39m\u001b[39m*\u001b[39mfit_params)\n\u001b[1;32m    <a href='file:///home/viktoria/.pyenv/versions/3.8.12/envs/kidney_kids/lib/python3.8/site-packages/sklearn/model_selection/_validation.py?line=678'>679</a>\u001b[0m     \u001b[39melse\u001b[39;00m:\n\u001b[0;32m--> <a href='file:///home/viktoria/.pyenv/versions/3.8.12/envs/kidney_kids/lib/python3.8/site-packages/sklearn/model_selection/_validation.py?line=679'>680</a>\u001b[0m         estimator\u001b[39m.\u001b[39;49mfit(X_train, y_train, \u001b[39m*\u001b[39;49m\u001b[39m*\u001b[39;49mfit_params)\n\u001b[1;32m    <a href='file:///home/viktoria/.pyenv/versions/3.8.12/envs/kidney_kids/lib/python3.8/site-packages/sklearn/model_selection/_validation.py?line=681'>682</a>\u001b[0m \u001b[39mexcept\u001b[39;00m \u001b[39mException\u001b[39;00m:\n\u001b[1;32m    <a href='file:///home/viktoria/.pyenv/versions/3.8.12/envs/kidney_kids/lib/python3.8/site-packages/sklearn/model_selection/_validation.py?line=682'>683</a>\u001b[0m     \u001b[39m# Note fit time as time until error\u001b[39;00m\n\u001b[1;32m    <a href='file:///home/viktoria/.pyenv/versions/3.8.12/envs/kidney_kids/lib/python3.8/site-packages/sklearn/model_selection/_validation.py?line=683'>684</a>\u001b[0m     fit_time \u001b[39m=\u001b[39m time\u001b[39m.\u001b[39mtime() \u001b[39m-\u001b[39m start_time\n",
      "File \u001b[0;32m~/.pyenv/versions/3.8.12/envs/kidney_kids/lib/python3.8/site-packages/sklearn/ensemble/_forest.py:450\u001b[0m, in \u001b[0;36mBaseForest.fit\u001b[0;34m(self, X, y, sample_weight)\u001b[0m\n\u001b[1;32m    <a href='file:///home/viktoria/.pyenv/versions/3.8.12/envs/kidney_kids/lib/python3.8/site-packages/sklearn/ensemble/_forest.py?line=438'>439</a>\u001b[0m trees \u001b[39m=\u001b[39m [\n\u001b[1;32m    <a href='file:///home/viktoria/.pyenv/versions/3.8.12/envs/kidney_kids/lib/python3.8/site-packages/sklearn/ensemble/_forest.py?line=439'>440</a>\u001b[0m     \u001b[39mself\u001b[39m\u001b[39m.\u001b[39m_make_estimator(append\u001b[39m=\u001b[39m\u001b[39mFalse\u001b[39;00m, random_state\u001b[39m=\u001b[39mrandom_state)\n\u001b[1;32m    <a href='file:///home/viktoria/.pyenv/versions/3.8.12/envs/kidney_kids/lib/python3.8/site-packages/sklearn/ensemble/_forest.py?line=440'>441</a>\u001b[0m     \u001b[39mfor\u001b[39;00m i \u001b[39min\u001b[39;00m \u001b[39mrange\u001b[39m(n_more_estimators)\n\u001b[1;32m    <a href='file:///home/viktoria/.pyenv/versions/3.8.12/envs/kidney_kids/lib/python3.8/site-packages/sklearn/ensemble/_forest.py?line=441'>442</a>\u001b[0m ]\n\u001b[1;32m    <a href='file:///home/viktoria/.pyenv/versions/3.8.12/envs/kidney_kids/lib/python3.8/site-packages/sklearn/ensemble/_forest.py?line=443'>444</a>\u001b[0m \u001b[39m# Parallel loop: we prefer the threading backend as the Cython code\u001b[39;00m\n\u001b[1;32m    <a href='file:///home/viktoria/.pyenv/versions/3.8.12/envs/kidney_kids/lib/python3.8/site-packages/sklearn/ensemble/_forest.py?line=444'>445</a>\u001b[0m \u001b[39m# for fitting the trees is internally releasing the Python GIL\u001b[39;00m\n\u001b[1;32m    <a href='file:///home/viktoria/.pyenv/versions/3.8.12/envs/kidney_kids/lib/python3.8/site-packages/sklearn/ensemble/_forest.py?line=445'>446</a>\u001b[0m \u001b[39m# making threading more efficient than multiprocessing in\u001b[39;00m\n\u001b[1;32m    <a href='file:///home/viktoria/.pyenv/versions/3.8.12/envs/kidney_kids/lib/python3.8/site-packages/sklearn/ensemble/_forest.py?line=446'>447</a>\u001b[0m \u001b[39m# that case. However, for joblib 0.12+ we respect any\u001b[39;00m\n\u001b[1;32m    <a href='file:///home/viktoria/.pyenv/versions/3.8.12/envs/kidney_kids/lib/python3.8/site-packages/sklearn/ensemble/_forest.py?line=447'>448</a>\u001b[0m \u001b[39m# parallel_backend contexts set at a higher level,\u001b[39;00m\n\u001b[1;32m    <a href='file:///home/viktoria/.pyenv/versions/3.8.12/envs/kidney_kids/lib/python3.8/site-packages/sklearn/ensemble/_forest.py?line=448'>449</a>\u001b[0m \u001b[39m# since correctness does not rely on using threads.\u001b[39;00m\n\u001b[0;32m--> <a href='file:///home/viktoria/.pyenv/versions/3.8.12/envs/kidney_kids/lib/python3.8/site-packages/sklearn/ensemble/_forest.py?line=449'>450</a>\u001b[0m trees \u001b[39m=\u001b[39m Parallel(\n\u001b[1;32m    <a href='file:///home/viktoria/.pyenv/versions/3.8.12/envs/kidney_kids/lib/python3.8/site-packages/sklearn/ensemble/_forest.py?line=450'>451</a>\u001b[0m     n_jobs\u001b[39m=\u001b[39;49m\u001b[39mself\u001b[39;49m\u001b[39m.\u001b[39;49mn_jobs,\n\u001b[1;32m    <a href='file:///home/viktoria/.pyenv/versions/3.8.12/envs/kidney_kids/lib/python3.8/site-packages/sklearn/ensemble/_forest.py?line=451'>452</a>\u001b[0m     verbose\u001b[39m=\u001b[39;49m\u001b[39mself\u001b[39;49m\u001b[39m.\u001b[39;49mverbose,\n\u001b[1;32m    <a href='file:///home/viktoria/.pyenv/versions/3.8.12/envs/kidney_kids/lib/python3.8/site-packages/sklearn/ensemble/_forest.py?line=452'>453</a>\u001b[0m     \u001b[39m*\u001b[39;49m\u001b[39m*\u001b[39;49m_joblib_parallel_args(prefer\u001b[39m=\u001b[39;49m\u001b[39m\"\u001b[39;49m\u001b[39mthreads\u001b[39;49m\u001b[39m\"\u001b[39;49m),\n\u001b[1;32m    <a href='file:///home/viktoria/.pyenv/versions/3.8.12/envs/kidney_kids/lib/python3.8/site-packages/sklearn/ensemble/_forest.py?line=453'>454</a>\u001b[0m )(\n\u001b[1;32m    <a href='file:///home/viktoria/.pyenv/versions/3.8.12/envs/kidney_kids/lib/python3.8/site-packages/sklearn/ensemble/_forest.py?line=454'>455</a>\u001b[0m     delayed(_parallel_build_trees)(\n\u001b[1;32m    <a href='file:///home/viktoria/.pyenv/versions/3.8.12/envs/kidney_kids/lib/python3.8/site-packages/sklearn/ensemble/_forest.py?line=455'>456</a>\u001b[0m         t,\n\u001b[1;32m    <a href='file:///home/viktoria/.pyenv/versions/3.8.12/envs/kidney_kids/lib/python3.8/site-packages/sklearn/ensemble/_forest.py?line=456'>457</a>\u001b[0m         \u001b[39mself\u001b[39;49m,\n\u001b[1;32m    <a href='file:///home/viktoria/.pyenv/versions/3.8.12/envs/kidney_kids/lib/python3.8/site-packages/sklearn/ensemble/_forest.py?line=457'>458</a>\u001b[0m         X,\n\u001b[1;32m    <a href='file:///home/viktoria/.pyenv/versions/3.8.12/envs/kidney_kids/lib/python3.8/site-packages/sklearn/ensemble/_forest.py?line=458'>459</a>\u001b[0m         y,\n\u001b[1;32m    <a href='file:///home/viktoria/.pyenv/versions/3.8.12/envs/kidney_kids/lib/python3.8/site-packages/sklearn/ensemble/_forest.py?line=459'>460</a>\u001b[0m         sample_weight,\n\u001b[1;32m    <a href='file:///home/viktoria/.pyenv/versions/3.8.12/envs/kidney_kids/lib/python3.8/site-packages/sklearn/ensemble/_forest.py?line=460'>461</a>\u001b[0m         i,\n\u001b[1;32m    <a href='file:///home/viktoria/.pyenv/versions/3.8.12/envs/kidney_kids/lib/python3.8/site-packages/sklearn/ensemble/_forest.py?line=461'>462</a>\u001b[0m         \u001b[39mlen\u001b[39;49m(trees),\n\u001b[1;32m    <a href='file:///home/viktoria/.pyenv/versions/3.8.12/envs/kidney_kids/lib/python3.8/site-packages/sklearn/ensemble/_forest.py?line=462'>463</a>\u001b[0m         verbose\u001b[39m=\u001b[39;49m\u001b[39mself\u001b[39;49m\u001b[39m.\u001b[39;49mverbose,\n\u001b[1;32m    <a href='file:///home/viktoria/.pyenv/versions/3.8.12/envs/kidney_kids/lib/python3.8/site-packages/sklearn/ensemble/_forest.py?line=463'>464</a>\u001b[0m         class_weight\u001b[39m=\u001b[39;49m\u001b[39mself\u001b[39;49m\u001b[39m.\u001b[39;49mclass_weight,\n\u001b[1;32m    <a href='file:///home/viktoria/.pyenv/versions/3.8.12/envs/kidney_kids/lib/python3.8/site-packages/sklearn/ensemble/_forest.py?line=464'>465</a>\u001b[0m         n_samples_bootstrap\u001b[39m=\u001b[39;49mn_samples_bootstrap,\n\u001b[1;32m    <a href='file:///home/viktoria/.pyenv/versions/3.8.12/envs/kidney_kids/lib/python3.8/site-packages/sklearn/ensemble/_forest.py?line=465'>466</a>\u001b[0m     )\n\u001b[1;32m    <a href='file:///home/viktoria/.pyenv/versions/3.8.12/envs/kidney_kids/lib/python3.8/site-packages/sklearn/ensemble/_forest.py?line=466'>467</a>\u001b[0m     \u001b[39mfor\u001b[39;49;00m i, t \u001b[39min\u001b[39;49;00m \u001b[39menumerate\u001b[39;49m(trees)\n\u001b[1;32m    <a href='file:///home/viktoria/.pyenv/versions/3.8.12/envs/kidney_kids/lib/python3.8/site-packages/sklearn/ensemble/_forest.py?line=467'>468</a>\u001b[0m )\n\u001b[1;32m    <a href='file:///home/viktoria/.pyenv/versions/3.8.12/envs/kidney_kids/lib/python3.8/site-packages/sklearn/ensemble/_forest.py?line=469'>470</a>\u001b[0m \u001b[39m# Collect newly grown trees\u001b[39;00m\n\u001b[1;32m    <a href='file:///home/viktoria/.pyenv/versions/3.8.12/envs/kidney_kids/lib/python3.8/site-packages/sklearn/ensemble/_forest.py?line=470'>471</a>\u001b[0m \u001b[39mself\u001b[39m\u001b[39m.\u001b[39mestimators_\u001b[39m.\u001b[39mextend(trees)\n",
      "File \u001b[0;32m~/.pyenv/versions/3.8.12/envs/kidney_kids/lib/python3.8/site-packages/joblib/parallel.py:1046\u001b[0m, in \u001b[0;36mParallel.__call__\u001b[0;34m(self, iterable)\u001b[0m\n\u001b[1;32m   <a href='file:///home/viktoria/.pyenv/versions/3.8.12/envs/kidney_kids/lib/python3.8/site-packages/joblib/parallel.py?line=1042'>1043</a>\u001b[0m \u001b[39mif\u001b[39;00m \u001b[39mself\u001b[39m\u001b[39m.\u001b[39mdispatch_one_batch(iterator):\n\u001b[1;32m   <a href='file:///home/viktoria/.pyenv/versions/3.8.12/envs/kidney_kids/lib/python3.8/site-packages/joblib/parallel.py?line=1043'>1044</a>\u001b[0m     \u001b[39mself\u001b[39m\u001b[39m.\u001b[39m_iterating \u001b[39m=\u001b[39m \u001b[39mself\u001b[39m\u001b[39m.\u001b[39m_original_iterator \u001b[39mis\u001b[39;00m \u001b[39mnot\u001b[39;00m \u001b[39mNone\u001b[39;00m\n\u001b[0;32m-> <a href='file:///home/viktoria/.pyenv/versions/3.8.12/envs/kidney_kids/lib/python3.8/site-packages/joblib/parallel.py?line=1045'>1046</a>\u001b[0m \u001b[39mwhile\u001b[39;00m \u001b[39mself\u001b[39;49m\u001b[39m.\u001b[39;49mdispatch_one_batch(iterator):\n\u001b[1;32m   <a href='file:///home/viktoria/.pyenv/versions/3.8.12/envs/kidney_kids/lib/python3.8/site-packages/joblib/parallel.py?line=1046'>1047</a>\u001b[0m     \u001b[39mpass\u001b[39;00m\n\u001b[1;32m   <a href='file:///home/viktoria/.pyenv/versions/3.8.12/envs/kidney_kids/lib/python3.8/site-packages/joblib/parallel.py?line=1048'>1049</a>\u001b[0m \u001b[39mif\u001b[39;00m pre_dispatch \u001b[39m==\u001b[39m \u001b[39m\"\u001b[39m\u001b[39mall\u001b[39m\u001b[39m\"\u001b[39m \u001b[39mor\u001b[39;00m n_jobs \u001b[39m==\u001b[39m \u001b[39m1\u001b[39m:\n\u001b[1;32m   <a href='file:///home/viktoria/.pyenv/versions/3.8.12/envs/kidney_kids/lib/python3.8/site-packages/joblib/parallel.py?line=1049'>1050</a>\u001b[0m     \u001b[39m# The iterable was consumed all at once by the above for loop.\u001b[39;00m\n\u001b[1;32m   <a href='file:///home/viktoria/.pyenv/versions/3.8.12/envs/kidney_kids/lib/python3.8/site-packages/joblib/parallel.py?line=1050'>1051</a>\u001b[0m     \u001b[39m# No need to wait for async callbacks to trigger to\u001b[39;00m\n\u001b[1;32m   <a href='file:///home/viktoria/.pyenv/versions/3.8.12/envs/kidney_kids/lib/python3.8/site-packages/joblib/parallel.py?line=1051'>1052</a>\u001b[0m     \u001b[39m# consumption.\u001b[39;00m\n",
      "File \u001b[0;32m~/.pyenv/versions/3.8.12/envs/kidney_kids/lib/python3.8/site-packages/joblib/parallel.py:834\u001b[0m, in \u001b[0;36mParallel.dispatch_one_batch\u001b[0;34m(self, iterator)\u001b[0m\n\u001b[1;32m    <a href='file:///home/viktoria/.pyenv/versions/3.8.12/envs/kidney_kids/lib/python3.8/site-packages/joblib/parallel.py?line=830'>831</a>\u001b[0m big_batch_size \u001b[39m=\u001b[39m batch_size \u001b[39m*\u001b[39m n_jobs\n\u001b[1;32m    <a href='file:///home/viktoria/.pyenv/versions/3.8.12/envs/kidney_kids/lib/python3.8/site-packages/joblib/parallel.py?line=832'>833</a>\u001b[0m islice \u001b[39m=\u001b[39m \u001b[39mlist\u001b[39m(itertools\u001b[39m.\u001b[39mislice(iterator, big_batch_size))\n\u001b[0;32m--> <a href='file:///home/viktoria/.pyenv/versions/3.8.12/envs/kidney_kids/lib/python3.8/site-packages/joblib/parallel.py?line=833'>834</a>\u001b[0m \u001b[39mif\u001b[39;00m \u001b[39mlen\u001b[39;49m(islice) \u001b[39m==\u001b[39;49m \u001b[39m0\u001b[39;49m:\n\u001b[1;32m    <a href='file:///home/viktoria/.pyenv/versions/3.8.12/envs/kidney_kids/lib/python3.8/site-packages/joblib/parallel.py?line=834'>835</a>\u001b[0m     \u001b[39mreturn\u001b[39;00m \u001b[39mFalse\u001b[39;00m\n\u001b[1;32m    <a href='file:///home/viktoria/.pyenv/versions/3.8.12/envs/kidney_kids/lib/python3.8/site-packages/joblib/parallel.py?line=835'>836</a>\u001b[0m \u001b[39melif\u001b[39;00m (iterator \u001b[39mis\u001b[39;00m \u001b[39mself\u001b[39m\u001b[39m.\u001b[39m_original_iterator\n\u001b[1;32m    <a href='file:///home/viktoria/.pyenv/versions/3.8.12/envs/kidney_kids/lib/python3.8/site-packages/joblib/parallel.py?line=836'>837</a>\u001b[0m       \u001b[39mand\u001b[39;00m \u001b[39mlen\u001b[39m(islice) \u001b[39m<\u001b[39m big_batch_size):\n\u001b[1;32m    <a href='file:///home/viktoria/.pyenv/versions/3.8.12/envs/kidney_kids/lib/python3.8/site-packages/joblib/parallel.py?line=837'>838</a>\u001b[0m     \u001b[39m# We reached the end of the original iterator (unless\u001b[39;00m\n\u001b[0;32m   (...)\u001b[0m\n\u001b[1;32m    <a href='file:///home/viktoria/.pyenv/versions/3.8.12/envs/kidney_kids/lib/python3.8/site-packages/joblib/parallel.py?line=840'>841</a>\u001b[0m     \u001b[39m# account for potential variance in the batches running\u001b[39;00m\n\u001b[1;32m    <a href='file:///home/viktoria/.pyenv/versions/3.8.12/envs/kidney_kids/lib/python3.8/site-packages/joblib/parallel.py?line=841'>842</a>\u001b[0m     \u001b[39m# time.\u001b[39;00m\n",
      "\u001b[0;31mKeyboardInterrupt\u001b[0m: "
     ]
    }
   ],
   "source": [
    "def forest_model(X_proc,y_train):\n",
    "    '''create the model, do the gridsearch\n",
    "    and return fitted model with best params'''\n",
    "    rfc=RandomForestClassifier()\n",
    "\n",
    "    param_grid = {\n",
    "    'n_estimators': [100, 300, 500],\n",
    "    'criterion' : ['gini', 'entropy'],\n",
    "    'max_depth' : [3,5,7,10,15],\n",
    "    'min_samples_split' : [2, 3, 5, 7]\n",
    "    }\n",
    "\n",
    "    \n",
    "    search = GridSearchCV(rfc, param_grid=param_grid, scoring='recall')\n",
    "    result = search.fit(X_proc,y_train)\n",
    "\n",
    "    df = pd.DataFrame(result.cv_results_)\n",
    "\n",
    "    return [result.best_estimator_, df, result.best_params_]\n",
    "\n",
    "    \n",
    "\n",
    "model, df, best_prams = forest_model(X_preproc, y_train)\n",
    "model"
   ]
  },
  {
   "cell_type": "code",
   "execution_count": 12,
   "metadata": {},
   "outputs": [
    {
     "ename": "NameError",
     "evalue": "name 'model' is not defined",
     "output_type": "error",
     "traceback": [
      "\u001b[0;31m---------------------------------------------------------------------------\u001b[0m",
      "\u001b[0;31mNameError\u001b[0m                                 Traceback (most recent call last)",
      "\u001b[1;32m/home/viktoria/code/viiktoria/kidney_kids/notebooks/model_production.ipynb Cell 10'\u001b[0m in \u001b[0;36m<cell line: 1>\u001b[0;34m()\u001b[0m\n\u001b[0;32m----> <a href='vscode-notebook-cell://wsl%2Bubuntu-20.04/home/viktoria/code/viiktoria/kidney_kids/notebooks/model_production.ipynb#ch0000009vscode-remote?line=0'>1</a>\u001b[0m model\u001b[39m.\u001b[39mpredict(preproc(X_test))\n",
      "\u001b[0;31mNameError\u001b[0m: name 'model' is not defined"
     ]
    }
   ],
   "source": [
    "model.predict(preproc(X_test))\n"
   ]
  },
  {
   "cell_type": "code",
   "execution_count": 26,
   "metadata": {},
   "outputs": [
    {
     "data": {
      "text/html": [
       "<div>\n",
       "<style scoped>\n",
       "    .dataframe tbody tr th:only-of-type {\n",
       "        vertical-align: middle;\n",
       "    }\n",
       "\n",
       "    .dataframe tbody tr th {\n",
       "        vertical-align: top;\n",
       "    }\n",
       "\n",
       "    .dataframe thead th {\n",
       "        text-align: right;\n",
       "    }\n",
       "</style>\n",
       "<table border=\"1\" class=\"dataframe\">\n",
       "  <thead>\n",
       "    <tr style=\"text-align: right;\">\n",
       "      <th></th>\n",
       "      <th>0</th>\n",
       "      <th>1</th>\n",
       "      <th>2</th>\n",
       "      <th>3</th>\n",
       "      <th>4</th>\n",
       "      <th>5</th>\n",
       "      <th>6</th>\n",
       "      <th>7</th>\n",
       "      <th>8</th>\n",
       "      <th>9</th>\n",
       "      <th>...</th>\n",
       "      <th>13</th>\n",
       "      <th>14</th>\n",
       "      <th>15</th>\n",
       "      <th>16</th>\n",
       "      <th>17</th>\n",
       "      <th>18</th>\n",
       "      <th>19</th>\n",
       "      <th>20</th>\n",
       "      <th>21</th>\n",
       "      <th>22</th>\n",
       "    </tr>\n",
       "  </thead>\n",
       "  <tbody>\n",
       "    <tr>\n",
       "      <th>0</th>\n",
       "      <td>0.75</td>\n",
       "      <td>0.00</td>\n",
       "      <td>0.00</td>\n",
       "      <td>0.0</td>\n",
       "      <td>0.0</td>\n",
       "      <td>0.0</td>\n",
       "      <td>0.0</td>\n",
       "      <td>0.0</td>\n",
       "      <td>1.0</td>\n",
       "      <td>0.0</td>\n",
       "      <td>...</td>\n",
       "      <td>0.460452</td>\n",
       "      <td>0.093351</td>\n",
       "      <td>0.018543</td>\n",
       "      <td>0.826277</td>\n",
       "      <td>0.065329</td>\n",
       "      <td>0.545125</td>\n",
       "      <td>0.366243</td>\n",
       "      <td>0.540142</td>\n",
       "      <td>2.885867e-02</td>\n",
       "      <td>0.044953</td>\n",
       "    </tr>\n",
       "    <tr>\n",
       "      <th>1</th>\n",
       "      <td>0.25</td>\n",
       "      <td>0.25</td>\n",
       "      <td>0.00</td>\n",
       "      <td>0.0</td>\n",
       "      <td>0.0</td>\n",
       "      <td>0.0</td>\n",
       "      <td>0.0</td>\n",
       "      <td>1.0</td>\n",
       "      <td>0.0</td>\n",
       "      <td>0.0</td>\n",
       "      <td>...</td>\n",
       "      <td>0.213255</td>\n",
       "      <td>0.242021</td>\n",
       "      <td>0.072848</td>\n",
       "      <td>0.835962</td>\n",
       "      <td>0.060606</td>\n",
       "      <td>0.057143</td>\n",
       "      <td>0.209302</td>\n",
       "      <td>0.540142</td>\n",
       "      <td>-1.962389e+00</td>\n",
       "      <td>0.820773</td>\n",
       "    </tr>\n",
       "    <tr>\n",
       "      <th>2</th>\n",
       "      <td>0.25</td>\n",
       "      <td>0.25</td>\n",
       "      <td>0.75</td>\n",
       "      <td>0.0</td>\n",
       "      <td>1.0</td>\n",
       "      <td>0.0</td>\n",
       "      <td>0.0</td>\n",
       "      <td>0.0</td>\n",
       "      <td>0.0</td>\n",
       "      <td>0.0</td>\n",
       "      <td>...</td>\n",
       "      <td>0.316384</td>\n",
       "      <td>1.000000</td>\n",
       "      <td>0.417219</td>\n",
       "      <td>1.000000</td>\n",
       "      <td>1.000000</td>\n",
       "      <td>0.545125</td>\n",
       "      <td>0.366243</td>\n",
       "      <td>0.540142</td>\n",
       "      <td>6.316370e-16</td>\n",
       "      <td>0.820773</td>\n",
       "    </tr>\n",
       "    <tr>\n",
       "      <th>3</th>\n",
       "      <td>0.75</td>\n",
       "      <td>0.50</td>\n",
       "      <td>0.00</td>\n",
       "      <td>1.0</td>\n",
       "      <td>1.0</td>\n",
       "      <td>0.0</td>\n",
       "      <td>0.0</td>\n",
       "      <td>1.0</td>\n",
       "      <td>0.0</td>\n",
       "      <td>0.0</td>\n",
       "      <td>...</td>\n",
       "      <td>0.197740</td>\n",
       "      <td>0.106383</td>\n",
       "      <td>0.026490</td>\n",
       "      <td>0.826277</td>\n",
       "      <td>0.065329</td>\n",
       "      <td>0.342857</td>\n",
       "      <td>0.366243</td>\n",
       "      <td>0.540142</td>\n",
       "      <td>-5.400693e-01</td>\n",
       "      <td>0.403024</td>\n",
       "    </tr>\n",
       "    <tr>\n",
       "      <th>4</th>\n",
       "      <td>0.75</td>\n",
       "      <td>0.00</td>\n",
       "      <td>0.00</td>\n",
       "      <td>0.0</td>\n",
       "      <td>0.0</td>\n",
       "      <td>0.0</td>\n",
       "      <td>0.0</td>\n",
       "      <td>1.0</td>\n",
       "      <td>1.0</td>\n",
       "      <td>1.0</td>\n",
       "      <td>...</td>\n",
       "      <td>0.064972</td>\n",
       "      <td>0.372340</td>\n",
       "      <td>0.090066</td>\n",
       "      <td>0.804416</td>\n",
       "      <td>0.060606</td>\n",
       "      <td>0.545125</td>\n",
       "      <td>0.366243</td>\n",
       "      <td>0.540142</td>\n",
       "      <td>6.316370e-16</td>\n",
       "      <td>1.357879</td>\n",
       "    </tr>\n",
       "  </tbody>\n",
       "</table>\n",
       "<p>5 rows × 23 columns</p>\n",
       "</div>"
      ],
      "text/plain": [
       "     0     1     2    3    4    5    6    7    8    9   ...        13  \\\n",
       "0  0.75  0.00  0.00  0.0  0.0  0.0  0.0  0.0  1.0  0.0  ...  0.460452   \n",
       "1  0.25  0.25  0.00  0.0  0.0  0.0  0.0  1.0  0.0  0.0  ...  0.213255   \n",
       "2  0.25  0.25  0.75  0.0  1.0  0.0  0.0  0.0  0.0  0.0  ...  0.316384   \n",
       "3  0.75  0.50  0.00  1.0  1.0  0.0  0.0  1.0  0.0  0.0  ...  0.197740   \n",
       "4  0.75  0.00  0.00  0.0  0.0  0.0  0.0  1.0  1.0  1.0  ...  0.064972   \n",
       "\n",
       "         14        15        16        17        18        19        20  \\\n",
       "0  0.093351  0.018543  0.826277  0.065329  0.545125  0.366243  0.540142   \n",
       "1  0.242021  0.072848  0.835962  0.060606  0.057143  0.209302  0.540142   \n",
       "2  1.000000  0.417219  1.000000  1.000000  0.545125  0.366243  0.540142   \n",
       "3  0.106383  0.026490  0.826277  0.065329  0.342857  0.366243  0.540142   \n",
       "4  0.372340  0.090066  0.804416  0.060606  0.545125  0.366243  0.540142   \n",
       "\n",
       "             21        22  \n",
       "0  2.885867e-02  0.044953  \n",
       "1 -1.962389e+00  0.820773  \n",
       "2  6.316370e-16  0.820773  \n",
       "3 -5.400693e-01  0.403024  \n",
       "4  6.316370e-16  1.357879  \n",
       "\n",
       "[5 rows x 23 columns]"
      ]
     },
     "execution_count": 26,
     "metadata": {},
     "output_type": "execute_result"
    }
   ],
   "source": [
    "pd.DataFrame(preproc(X_test)).head()"
   ]
  },
  {
   "cell_type": "markdown",
   "metadata": {},
   "source": [
    "## Bausteine für die api"
   ]
  },
  {
   "cell_type": "markdown",
   "metadata": {},
   "source": [
    "### PredictEndpoint: erste möglichkeit ( weiß nicht, ob es fkt)"
   ]
  },
  {
   "cell_type": "code",
   "execution_count": 67,
   "metadata": {},
   "outputs": [
    {
     "data": {
      "text/plain": [
       "[6, 9]"
      ]
     },
     "execution_count": 67,
     "metadata": {},
     "output_type": "execute_result"
    }
   ],
   "source": [
    "from urllib.parse import urlparse\n",
    "from urllib.parse import parse_qs\n",
    "\n",
    "url = 'https://www.example.com/some_path?some_key=6&age=9'\n",
    "param_query = parse_qs(urlparse(url).query)\n",
    "param_list = []\n",
    "for i in param_query.values():\n",
    "    param_list.append(int(i[0]))\n",
    "param_list\n"
   ]
  },
  {
   "cell_type": "markdown",
   "metadata": {},
   "source": [
    "### zweite möglichkeit: retrieve all paramters passed to function as list"
   ]
  },
  {
   "cell_type": "code",
   "execution_count": 112,
   "metadata": {},
   "outputs": [
    {
     "name": "stdout",
     "output_type": "stream",
     "text": [
      "{'age': [0], 'bp': [9], 'sg': [4]}\n"
     ]
    },
    {
     "data": {
      "text/html": [
       "<div>\n",
       "<style scoped>\n",
       "    .dataframe tbody tr th:only-of-type {\n",
       "        vertical-align: middle;\n",
       "    }\n",
       "\n",
       "    .dataframe tbody tr th {\n",
       "        vertical-align: top;\n",
       "    }\n",
       "\n",
       "    .dataframe thead th {\n",
       "        text-align: right;\n",
       "    }\n",
       "</style>\n",
       "<table border=\"1\" class=\"dataframe\">\n",
       "  <thead>\n",
       "    <tr style=\"text-align: right;\">\n",
       "      <th></th>\n",
       "      <th>age</th>\n",
       "      <th>bp</th>\n",
       "      <th>sg</th>\n",
       "    </tr>\n",
       "  </thead>\n",
       "  <tbody>\n",
       "    <tr>\n",
       "      <th>0</th>\n",
       "      <td>0</td>\n",
       "      <td>9</td>\n",
       "      <td>4</td>\n",
       "    </tr>\n",
       "  </tbody>\n",
       "</table>\n",
       "</div>"
      ],
      "text/plain": [
       "   age  bp  sg\n",
       "0    0   9   4"
      ]
     },
     "execution_count": 112,
     "metadata": {},
     "output_type": "execute_result"
    }
   ],
   "source": [
    "import inspect\n",
    "def foo(a=0,b=9,c=4): \n",
    "    dict = {}\n",
    "    args = inspect.getfullargspec(foo)\n",
    "    arg_val_list = list(args.defaults)\n",
    "    args_list = ['age', 'bp', 'sg']\n",
    "    for i,j in zip(args_list, arg_val_list):\n",
    "        dict[i] = [j]\n",
    "    print(dict)\n",
    "    df = pd.DataFrame.from_dict(dict)\n",
    "    return df\n",
    "foo()"
   ]
  },
  {
   "cell_type": "markdown",
   "metadata": {},
   "source": [
    "### produce query for api request to test"
   ]
  },
  {
   "cell_type": "code",
   "execution_count": 111,
   "metadata": {},
   "outputs": [
    {
     "data": {
      "text/plain": [
       "'age=0.75&bp=0.0&sg=0.0&al=0.0&su=0.0&rbc=0.0&pc=0.0&pcc=0.0&ba=0.0&bgr=0.0&bu=2.0&sc=0.0&sod=0.0&pot=0.29885057&hemo=0.23076923&pcv=0.13034188&wc=0.12195122&rc=0.00529801&htn=0.84858044&dm=0.01797753&cad=0.97692308&appet=0.65&pe=0.31818182&ane=0.44067797&'"
      ]
     },
     "execution_count": 111,
     "metadata": {},
     "output_type": "execute_result"
    }
   ],
   "source": [
    "names = ['age', 'bp', 'sg', 'al', 'su', 'rbc', 'pc', 'pcc', 'ba', 'bgr', 'bu',\n",
    "       'sc', 'sod', 'pot', 'hemo', 'pcv', 'wc', 'rc', 'htn', 'dm', 'cad',\n",
    "       'appet', 'pe', 'ane']\n",
    "values = [0.75, 0., 0., 0., 0., 0., 0., 0., 0., 0., 2., 0., 0., 0.29885057, 0.23076923, 0.13034188, 0.12195122, 0.00529801, 0.84858044, 0.01797753, 0.97692308, 0.65, 0.31818182, 0.44067797]\n",
    "query=''\n",
    "for i,j in zip(names, values):\n",
    "    query = query + i + '=' + str(j) + '&'\n",
    "query   "
   ]
  },
  {
   "cell_type": "markdown",
   "metadata": {},
   "source": [
    "## ScatterEndpoint"
   ]
  },
  {
   "cell_type": "code",
   "execution_count": null,
   "metadata": {},
   "outputs": [],
   "source": [
    "from io import BytesIO\n",
    "from starlette.responses import StreamingResponse\n",
    "...\n",
    "\n",
    "\n",
    "@router.get(\"/graph/{id_file}\", name=\"Return the graph obtained\")\n",
    "async def create_graph(id_file: str):\n",
    "    data = HAR.createGraph(id_file)\n",
    "    graph = HAR.scatterplot(data['dateTimes'], data['label'], \"Time\", \"Activity\")\n",
    "    \n",
    "    # create a buffer to store image data\n",
    "    buf = BytesIO()\n",
    "    graph.savefig(buf, format=\"png\")\n",
    "    buf.seek(0)\n",
    "        \n",
    "    return StreamingResponse(buf, media_type=\"image/png\")"
   ]
  }
 ],
 "metadata": {
  "interpreter": {
   "hash": "b3879bd48f1a8a5e2ff02d8cb62a509cfccf5f9ab4d690b7e5bdeac7acad5929"
  },
  "kernelspec": {
   "display_name": "Python 3.8.12 64-bit ('kidney_kids')",
   "language": "python",
   "name": "python3"
  },
  "language_info": {
   "codemirror_mode": {
    "name": "ipython",
    "version": 3
   },
   "file_extension": ".py",
   "mimetype": "text/x-python",
   "name": "python",
   "nbconvert_exporter": "python",
   "pygments_lexer": "ipython3",
   "version": "3.8.12"
  },
  "orig_nbformat": 4
 },
 "nbformat": 4,
 "nbformat_minor": 2
}
