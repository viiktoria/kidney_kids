{
 "cells": [
  {
   "cell_type": "code",
   "execution_count": 69,
   "id": "e420497b",
   "metadata": {},
   "outputs": [
    {
     "data": {
      "text/plain": [
       "(      age     bp     sg   al   su  rbc   pc  pcc   ba    bgr  ...  hemo   pcv  \\\n",
       " 206  60.0   70.0  1.010  1.0  0.0  NaN  0.0  0.0  0.0  109.0  ...  13.8  41.0   \n",
       " 8    52.0  100.0  1.015  3.0  0.0  0.0  1.0  1.0  0.0  138.0  ...  10.8  33.0   \n",
       " 382  48.0   80.0  1.025  0.0  0.0  0.0  0.0  0.0  0.0   75.0  ...  16.8  51.0   \n",
       " 194  80.0   70.0  1.010  2.0  NaN  NaN  1.0  0.0  0.0    NaN  ...   NaN   NaN   \n",
       " 280  47.0   80.0    NaN  NaN  NaN  NaN  NaN  0.0  0.0   93.0  ...  13.3  52.0   \n",
       " ..    ...    ...    ...  ...  ...  ...  ...  ...  ...    ...  ...   ...   ...   \n",
       " 170  66.0   70.0  1.015  2.0  5.0  NaN  0.0  0.0  0.0  447.0  ...  12.5  33.0   \n",
       " 313  55.0   80.0  1.020  0.0  0.0  0.0  0.0  0.0  0.0  104.0  ...  17.3  52.0   \n",
       " 262  55.0   80.0  1.020  0.0  0.0  0.0  0.0  0.0  0.0  118.0  ...  15.5  43.0   \n",
       " 367  68.0   60.0  1.025  0.0  0.0  0.0  0.0  0.0  0.0  125.0  ...  17.4  50.0   \n",
       " 336  25.0   60.0  1.020  0.0  0.0  0.0  0.0  0.0  0.0  119.0  ...  15.2  40.0   \n",
       " \n",
       "          wc   rc  htn   dm  cad  appet   pe  ane  \n",
       " 206     NaN  NaN  1.0  0.0  0.0    2.0  0.0  0.0  \n",
       " 8    9600.0  4.0  1.0  1.0  0.0    2.0  0.0  1.0  \n",
       " 382  6000.0  6.5  0.0  0.0  0.0    2.0  0.0  0.0  \n",
       " 194     NaN  NaN  1.0  1.0  0.0    2.0  0.0  0.0  \n",
       " 280  8100.0  5.2  0.0  0.0  0.0    2.0  0.0  0.0  \n",
       " ..      ...  ...  ...  ...  ...    ...  ...  ...  \n",
       " 170  9600.0  4.4  1.0  1.0  0.0    2.0  0.0  0.0  \n",
       " 313  8200.0  4.8  0.0  0.0  0.0    2.0  0.0  0.0  \n",
       " 262  7200.0  5.4  0.0  0.0  0.0    2.0  0.0  0.0  \n",
       " 367  6700.0  6.1  0.0  0.0  0.0    2.0  0.0  0.0  \n",
       " 336  9200.0  5.2  0.0  0.0  0.0    2.0  0.0  0.0  \n",
       " \n",
       " [320 rows x 24 columns],\n",
       "       age    bp     sg   al   su  rbc   pc  pcc   ba    bgr  ...  hemo   pcv  \\\n",
       " 58   73.0  80.0  1.020  2.0  0.0  1.0  1.0  0.0  0.0  253.0  ...  10.5  33.0   \n",
       " 348  38.0  80.0  1.020  0.0  0.0  0.0  0.0  0.0  0.0   99.0  ...  13.6  44.0   \n",
       " 97   65.0  60.0  1.015  1.0  0.0  NaN  0.0  0.0  0.0   91.0  ...  10.0  32.0   \n",
       " 320  57.0  60.0  1.020  0.0  0.0  0.0  0.0  0.0  0.0  105.0  ...  15.7  44.0   \n",
       " 285  66.0  70.0  1.020  0.0  0.0  0.0  0.0  0.0  0.0   94.0  ...  16.0  41.0   \n",
       " ..    ...   ...    ...  ...  ...  ...  ...  ...  ...    ...  ...   ...   ...   \n",
       " 11   63.0  70.0  1.010  3.0  0.0  1.0  1.0  1.0  0.0  380.0  ...  10.8  32.0   \n",
       " 27   69.0  70.0  1.010  3.0  4.0  0.0  1.0  0.0  0.0  264.0  ...  12.5  37.0   \n",
       " 306  52.0  80.0  1.020  0.0  0.0  0.0  0.0  0.0  0.0  128.0  ...  15.2  52.0   \n",
       " 353  39.0  60.0  1.020  0.0  0.0  0.0  0.0  0.0  0.0   86.0  ...  13.6  51.0   \n",
       " 286  71.0  70.0  1.020  0.0  0.0  0.0  0.0  0.0  0.0   81.0  ...  14.7  44.0   \n",
       " \n",
       "           wc   rc  htn   dm  cad  appet   pe  ane  \n",
       " 58    7200.0  4.3  1.0  1.0  1.0    2.0  0.0  0.0  \n",
       " 348   7300.0  6.4  0.0  0.0  0.0    2.0  0.0  0.0  \n",
       " 97    9100.0  4.0  1.0  1.0  0.0    1.0  1.0  0.0  \n",
       " 320  10400.0  6.2  0.0  0.0  0.0    2.0  0.0  0.0  \n",
       " 285   5300.0  5.9  0.0  0.0  0.0    2.0  0.0  0.0  \n",
       " ..       ...  ...  ...  ...  ...    ...  ...  ...  \n",
       " 11    4500.0  3.8  1.0  1.0  0.0    1.0  1.0  0.0  \n",
       " 27    9600.0  4.1  1.0  1.0  1.0    2.0  1.0  0.0  \n",
       " 306   4300.0  5.7  0.0  0.0  0.0    2.0  0.0  0.0  \n",
       " 353   5800.0  4.5  0.0  0.0  0.0    2.0  0.0  0.0  \n",
       " 286   9800.0  6.0  0.0  0.0  0.0    2.0  0.0  0.0  \n",
       " \n",
       " [80 rows x 24 columns],\n",
       " 206    1\n",
       " 8      1\n",
       " 382    0\n",
       " 194    1\n",
       " 280    0\n",
       "       ..\n",
       " 170    1\n",
       " 313    0\n",
       " 262    0\n",
       " 367    0\n",
       " 336    0\n",
       " Name: classification, Length: 320, dtype: int64,\n",
       " 58     1\n",
       " 348    0\n",
       " 97     1\n",
       " 320    0\n",
       " 285    0\n",
       "       ..\n",
       " 11     1\n",
       " 27     1\n",
       " 306    0\n",
       " 353    0\n",
       " 286    0\n",
       " Name: classification, Length: 80, dtype: int64)"
      ]
     },
     "execution_count": 69,
     "metadata": {},
     "output_type": "execute_result"
    }
   ],
   "source": [
    "get_cleaned_data()"
   ]
  },
  {
   "cell_type": "code",
   "execution_count": 70,
   "id": "e599056f",
   "metadata": {},
   "outputs": [],
   "source": [
    "def get_imputed_data(X):\n",
    "\n",
    "    # creating feat_lists for pipeline\n",
    "    feat_binary = ['rbc', 'pc', 'pcc', 'ba', 'htn', 'dm', 'cad', 'appet', 'pe', 'ane']\n",
    "    feat_ordered = ['sg', 'al', 'su']\n",
    "    feat_continuous = ['age', 'bp', 'bgr', 'bu', 'sc', 'sod', 'pot', 'hemo', 'pcv', 'wc',\n",
    "    'rc']\n",
    "\n",
    "    ordered_transformer = Pipeline([\n",
    "                                ('cat_imputer', SimpleImputer(strategy='most_frequent'))\n",
    "                                ])\n",
    "\n",
    "    binary_transformer = Pipeline([\n",
    "                                ('cat_imputer', SimpleImputer(strategy='most_frequent'))\n",
    "                                ])\n",
    "\n",
    "    cont_transformer = Pipeline([\n",
    "                                ('num_imputer', SimpleImputer())\n",
    "                                ])\n",
    "\n",
    "    imputed_pipe = ColumnTransformer([\n",
    "                                        ('ord_trans', ordered_transformer, feat_ordered),\n",
    "                                        ('bin_trans', binary_transformer, feat_binary),\n",
    "                                        ('cont_trans', cont_transformer, feat_continuous)\n",
    "                                     ])\n",
    "\n",
    "    X_imputed = imputed_pipe.fit_transform(X)\n",
    "    SimpleImputer.get_feature_names_out = (lambda self, names=None: self.feature_names_in_)\n",
    "    print(imputed_pipe.get_feature_names_out())\n",
    "    X_imputed_df = pd.DataFrame(X_imputed, columns=imputed_pipe.get_feature_names_out())\n",
    "\n",
    "    return X_imputed_df"
   ]
  },
  {
   "cell_type": "code",
   "execution_count": 71,
   "id": "719e869b",
   "metadata": {},
   "outputs": [
    {
     "name": "stdout",
     "output_type": "stream",
     "text": [
      "['ord_trans__sg' 'ord_trans__al' 'ord_trans__su' 'bin_trans__rbc'\n",
      " 'bin_trans__pc' 'bin_trans__pcc' 'bin_trans__ba' 'bin_trans__htn'\n",
      " 'bin_trans__dm' 'bin_trans__cad' 'bin_trans__appet' 'bin_trans__pe'\n",
      " 'bin_trans__ane' 'cont_trans__age' 'cont_trans__bp' 'cont_trans__bgr'\n",
      " 'cont_trans__bu' 'cont_trans__sc' 'cont_trans__sod' 'cont_trans__pot'\n",
      " 'cont_trans__hemo' 'cont_trans__pcv' 'cont_trans__wc' 'cont_trans__rc']\n"
     ]
    }
   ],
   "source": [
    "X_imputed_df = get_imputed_data(get_cleaned_data()[0])"
   ]
  },
  {
   "cell_type": "code",
   "execution_count": 73,
   "id": "9c01e973",
   "metadata": {},
   "outputs": [
    {
     "data": {
      "text/plain": [
       "65.0    16\n",
       "60.0    14\n",
       "55.0    12\n",
       "47.0    10\n",
       "50.0    10\n",
       "        ..\n",
       "28.0     1\n",
       "4.0      1\n",
       "78.0     1\n",
       "6.0      1\n",
       "7.0      1\n",
       "Name: cont_trans__age, Length: 73, dtype: int64"
      ]
     },
     "execution_count": 73,
     "metadata": {},
     "output_type": "execute_result"
    }
   ],
   "source": [
    "X_imputed_df['cont_trans__age'].value_counts()"
   ]
  },
  {
   "cell_type": "code",
   "execution_count": null,
   "id": "7af5e471",
   "metadata": {},
   "outputs": [],
   "source": []
  }
 ],
 "metadata": {
  "kernelspec": {
   "display_name": "Python 3 (ipykernel)",
   "language": "python",
   "name": "python3"
  },
  "language_info": {
   "codemirror_mode": {
    "name": "ipython",
    "version": 3
   },
   "file_extension": ".py",
   "mimetype": "text/x-python",
   "name": "python",
   "nbconvert_exporter": "python",
   "pygments_lexer": "ipython3",
   "version": "3.8.12"
  },
  "toc": {
   "base_numbering": 1,
   "nav_menu": {},
   "number_sections": true,
   "sideBar": true,
   "skip_h1_title": false,
   "title_cell": "Table of Contents",
   "title_sidebar": "Contents",
   "toc_cell": false,
   "toc_position": {},
   "toc_section_display": true,
   "toc_window_display": false
  }
 },
 "nbformat": 4,
 "nbformat_minor": 5
}
