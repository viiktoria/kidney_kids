{
 "cells": [
  {
   "cell_type": "markdown",
   "id": "e7c169d1",
   "metadata": {},
   "source": [
    "# Pipeline"
   ]
  },
  {
   "cell_type": "code",
   "execution_count": 2,
   "id": "b4c9b645",
   "metadata": {},
   "outputs": [],
   "source": [
    "###imports\n",
    "import pandas as pd\n",
    "import numpy as np"
   ]
  },
  {
   "cell_type": "code",
   "execution_count": 5,
   "id": "510c77e9",
   "metadata": {},
   "outputs": [
    {
     "data": {
      "text/plain": [
       "ckd       248\n",
       "notckd    150\n",
       "ckd\\t       2\n",
       "Name: classification, dtype: int64"
      ]
     },
     "execution_count": 5,
     "metadata": {},
     "output_type": "execute_result"
    }
   ],
   "source": [
    "###load the dataset\n",
    "def get_data(path):\n",
    "    df = pd.read_csv(path)\n",
    "    X = df.drop\n",
    "    return df\n",
    "df = get_data(\"../raw_data/kidney_disease.csv\")\n",
    "df['classification'].value_counts()"
   ]
  },
  {
   "cell_type": "code",
   "execution_count": null,
   "id": "b150c1b5",
   "metadata": {},
   "outputs": [],
   "source": [
    "def set_pipeline('''self'''):\n",
    "    \"\"\"defines the pipeline as a class attribute\"\"\"\n",
    "\n",
    "    dist_pipe = Pipeline([\n",
    "        ('dist_trans', DistanceTransformer()),\n",
    "        ('stdscaler', StandardScaler())\n",
    "    ])\n",
    "    time_pipe = Pipeline([\n",
    "        ('time_enc', TimeFeaturesEncoder('pickup_datetime')),\n",
    "        ('ohe', OneHotEncoder(handle_unknown='ignore'))\n",
    "    ])\n",
    "    preproc_pipe = ColumnTransformer([\n",
    "        ('distance', dist_pipe, [\"pickup_latitude\", \"pickup_longitude\", 'dropoff_latitude', 'dropoff_longitude']),\n",
    "        ('time', time_pipe, ['pickup_datetime'])\n",
    "    ], remainder=\"drop\")\n",
    "    self.pipe = Pipeline([\n",
    "        ('preproc', preproc_pipe),\n",
    "        ('model', model)\n",
    "    ])\n",
    "    return self.pipe"
   ]
  },
  {
   "cell_type": "code",
   "execution_count": null,
   "id": "3f8fe913",
   "metadata": {},
   "outputs": [],
   "source": []
  },
  {
   "cell_type": "markdown",
   "id": "02a95a70",
   "metadata": {},
   "source": [
    "# Models\n",
    "    "
   ]
  },
  {
   "cell_type": "code",
   "execution_count": null,
   "id": "00f23fb9",
   "metadata": {},
   "outputs": [],
   "source": []
  },
  {
   "cell_type": "markdown",
   "id": "f53010f3",
   "metadata": {},
   "source": [
    "## Log Regression"
   ]
  },
  {
   "cell_type": "code",
   "execution_count": null,
   "id": "fb006a37",
   "metadata": {},
   "outputs": [],
   "source": [
    "\n",
    "#------------paramenters of logreg----------------#\n",
    "#C: float, default=1.0, Inverse of regularization strength (smaller: higher regularization)\n",
    "\n",
    "###dualbool: default=False\n",
    "###set only to true for small df, where n_features > n_samples:\n",
    "\n",
    "###l1_ratio:\n",
    "#The Elastic-Net mixing parameter, with 0 <= l1_ratio <= 1"
   ]
  },
  {
   "cell_type": "code",
   "execution_count": null,
   "id": "50be0040",
   "metadata": {},
   "outputs": [],
   "source": [
    "from sklearn.linear_model import LogisticRegression\n",
    "from sklearn.model_selection import GridSearchCV\n",
    "\n",
    "def grid_search_log_reg(X, y):\n",
    "    search = GridSearchCV(return_train_score=True)\n",
    "    '''grid-searches a log model and returns a \n",
    "    model with the best params and the cv_results'''\n",
    "    \n",
    "    # instantiate model\n",
    "    model = LogisticRegression()\n",
    "    \n",
    "    return [search.best_estimator_, search.cv_results_]\n",
    "    "
   ]
  },
  {
   "cell_type": "code",
   "execution_count": null,
   "id": "eb445ff0",
   "metadata": {},
   "outputs": [],
   "source": [
    "###grid_search\n",
    "penalties = ['none','l2','l1','elasticnet']\n",
    "solvers = {'newton-cg', 'lbfgs', 'liblinear', 'sag', 'saga'}\n",
    "\n",
    "###allowed penalties by solver:\n",
    "'''\n",
    "‘newton-cg’ - [‘l2’, ‘none’]\n",
    "\n",
    "‘lbfgs’ - [‘l2’, ‘none’]\n",
    "\n",
    "‘liblinear’ - [‘l1’, ‘l2’]\n",
    "\n",
    "‘sag’ - [‘l2’, ‘none’]\n",
    "\n",
    "‘saga’ - [‘elasticnet’, ‘l1’, ‘l2’, ‘none’]\n",
    "'''\n",
    "\n",
    "#max_iterint, default=100\n",
    "#Maximum number of iterations taken for the solvers to converge."
   ]
  },
  {
   "cell_type": "code",
   "execution_count": null,
   "id": "3217134f",
   "metadata": {},
   "outputs": [],
   "source": [
    "###confusion_matrix:\n",
    "results_df = pd.DataFrame({\"actual\": y_test,\n",
    "                           \"predicted\": preds})#Store results in dataframe\n",
    "\n",
    "confusion_matrix = pd.crosstab(index= results_df['actual'],\n",
    "                               columns = results_df['predicted'])"
   ]
  }
 ],
 "metadata": {
  "kernelspec": {
   "display_name": "Python 3 (ipykernel)",
   "language": "python",
   "name": "python3"
  },
  "language_info": {
   "codemirror_mode": {
    "name": "ipython",
    "version": 3
   },
   "file_extension": ".py",
   "mimetype": "text/x-python",
   "name": "python",
   "nbconvert_exporter": "python",
   "pygments_lexer": "ipython3",
   "version": "3.8.12"
  },
  "toc": {
   "base_numbering": 1,
   "nav_menu": {},
   "number_sections": true,
   "sideBar": true,
   "skip_h1_title": false,
   "title_cell": "Table of Contents",
   "title_sidebar": "Contents",
   "toc_cell": false,
   "toc_position": {},
   "toc_section_display": true,
   "toc_window_display": false
  }
 },
 "nbformat": 4,
 "nbformat_minor": 5
}
