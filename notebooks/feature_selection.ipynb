{
 "cells": [
  {
   "cell_type": "code",
   "execution_count": 5,
   "id": "6ab5b051",
   "metadata": {},
   "outputs": [],
   "source": [
    "# Variance Inflation Factors"
   ]
  },
  {
   "cell_type": "code",
   "execution_count": 8,
   "id": "cce1e8d3",
   "metadata": {
    "scrolled": true
   },
   "outputs": [],
   "source": [
    "from statsmodels.stats.outliers_influence import variance_inflation_factor as vif\n",
    "\n",
    "def var_inf(X):\n",
    "    \n",
    "    '''This function calculates the vif. A VIF of 1 indicates two variables are not correlated,\n",
    "    a VIF between 1 and 5 indicates moderate correlation, and a VIF above 5 indicates high correlation.\n",
    "    It returns a dataframe of vif score by feature'''\n",
    "    \n",
    "    df = pd.DataFrame()\n",
    "    df[\"features\"] = X.columns\n",
    "    df[\"vif_index\"] = [vif(X.values, i) for i in range(X.shape[1])]\n",
    "    round(df.sort_values(by=\"vif_index\", ascending = False),2)\n",
    "    \n",
    "    return(df)"
   ]
  },
  {
   "cell_type": "code",
   "execution_count": 10,
   "id": "8a56eb09",
   "metadata": {},
   "outputs": [],
   "source": [
    "# Permutation"
   ]
  },
  {
   "cell_type": "code",
   "execution_count": 13,
   "id": "675ce3dd",
   "metadata": {},
   "outputs": [],
   "source": [
    "from sklearn.inspection import permutation_importance\n",
    "\n",
    "def permut(model,X,y):\n",
    "    \n",
    "    '''This function calculates the permutation score, evaluating the importance of\n",
    "    each feature in predicting the target. It returns a dataframe with features\n",
    "    sorted by decreasing score'''\n",
    "    \n",
    "    permutation_score = permutation_importance(model, X, y, n_repeats=10)\n",
    "    importance_df = pd.DataFrame(np.vstack((X.columns,\n",
    "                                        permutation_score.importances_mean)).T)\n",
    "    importance_df.columns=['feature','score decrease']\n",
    "    importance_df.sort_values(by=\"score decrease\", ascending = False)\n",
    "    \n",
    "    return(importance_df)"
   ]
  }
 ],
 "metadata": {
  "kernelspec": {
   "display_name": "Python 3 (ipykernel)",
   "language": "python",
   "name": "python3"
  },
  "language_info": {
   "codemirror_mode": {
    "name": "ipython",
    "version": 3
   },
   "file_extension": ".py",
   "mimetype": "text/x-python",
   "name": "python",
   "nbconvert_exporter": "python",
   "pygments_lexer": "ipython3",
   "version": "3.8.12"
  },
  "toc": {
   "base_numbering": 1,
   "nav_menu": {},
   "number_sections": true,
   "sideBar": true,
   "skip_h1_title": false,
   "title_cell": "Table of Contents",
   "title_sidebar": "Contents",
   "toc_cell": false,
   "toc_position": {},
   "toc_section_display": true,
   "toc_window_display": false
  }
 },
 "nbformat": 4,
 "nbformat_minor": 5
}
