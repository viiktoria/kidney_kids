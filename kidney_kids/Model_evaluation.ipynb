{
 "cells": [
  {
   "cell_type": "markdown",
   "id": "19715674",
   "metadata": {},
   "source": [
    "***This notebook is dedicated to evaluated the kidney.csv dataset on the following classification models: logistic regression, k-nearest neighbor and random forest***"
   ]
  },
  {
   "cell_type": "markdown",
   "id": "b1aecb66",
   "metadata": {},
   "source": [
    "# Imports"
   ]
  },
  {
   "cell_type": "code",
   "execution_count": 1,
   "id": "cce2fb3c",
   "metadata": {},
   "outputs": [],
   "source": [
    "# DATA MANIPULATION\n",
    "import pandas as pd\n",
    "import numpy as np\n",
    "\n",
    "# DATA VISUALISATION\n",
    "import matplotlib.pyplot as plt\n",
    "import seaborn as sns\n",
    "from sklearn import set_config; set_config(display='diagram')\n",
    "\n"
   ]
  },
  {
   "cell_type": "code",
   "execution_count": 131,
   "id": "99db0f95",
   "metadata": {},
   "outputs": [],
   "source": [
    "# sklearn preproc\n",
    "from sklearn.model_selection import train_test_split\n",
    "from sklearn.preprocessing import MinMaxScaler, StandardScaler, OneHotEncoder\n",
    "from sklearn.pipeline import Pipeline, make_pipeline\n",
    "from sklearn.compose import ColumnTransformer\n",
    "from sklearn.impute import SimpleImputer\n",
    "from sklearn.metrics import make_scorer\n",
    "\n",
    "from sklearn.model_selection import cross_val_score\n",
    "from sklearn.neighbors import KNeighborsRegressor\n",
    "from sklearn.linear_model import Ridge, Lasso, LinearRegression, LogisticRegression\n",
    "from sklearn.model_selection import RandomizedSearchCV\n",
    "from sklearn.compose import ColumnTransformer, make_column_transformer, make_column_selector\n",
    "from sklearn.feature_selection import SelectPercentile, mutual_info_regression\n",
    "#from sklearn.feature_selection import SequentialFeatureSelector\n",
    "\n",
    "from data import get_cleaned_data\n",
    "from randomforest import RandomForest \n",
    "from sklearn.feature_selection import SelectKBest\n",
    "from sklearn.feature_selection import chi2\n",
    "from sklearn.ensemble import ExtraTreesClassifier\n",
    "from sklearn.ensemble import RandomForestClassifier\n",
    "from sklearn.metrics import f1_score,confusion_matrix\n",
    "from sklearn.metrics import accuracy_score\n",
    "from sklearn.feature_selection import RFE\n",
    "from sklearn.feature_selection import RFECV\n",
    "from sklearn.decomposition import PCA\n",
    "\n"
   ]
  },
  {
   "cell_type": "markdown",
   "id": "8c5e407b",
   "metadata": {},
   "source": [
    "# Dataset loading"
   ]
  },
  {
   "cell_type": "code",
   "execution_count": 3,
   "id": "08561470",
   "metadata": {},
   "outputs": [
    {
     "data": {
      "text/html": [
       "<div>\n",
       "<style scoped>\n",
       "    .dataframe tbody tr th:only-of-type {\n",
       "        vertical-align: middle;\n",
       "    }\n",
       "\n",
       "    .dataframe tbody tr th {\n",
       "        vertical-align: top;\n",
       "    }\n",
       "\n",
       "    .dataframe thead th {\n",
       "        text-align: right;\n",
       "    }\n",
       "</style>\n",
       "<table border=\"1\" class=\"dataframe\">\n",
       "  <thead>\n",
       "    <tr style=\"text-align: right;\">\n",
       "      <th></th>\n",
       "      <th>id</th>\n",
       "      <th>age</th>\n",
       "      <th>bp</th>\n",
       "      <th>sg</th>\n",
       "      <th>al</th>\n",
       "      <th>su</th>\n",
       "      <th>rbc</th>\n",
       "      <th>pc</th>\n",
       "      <th>pcc</th>\n",
       "      <th>ba</th>\n",
       "      <th>...</th>\n",
       "      <th>pcv</th>\n",
       "      <th>wc</th>\n",
       "      <th>rc</th>\n",
       "      <th>htn</th>\n",
       "      <th>dm</th>\n",
       "      <th>cad</th>\n",
       "      <th>appet</th>\n",
       "      <th>pe</th>\n",
       "      <th>ane</th>\n",
       "      <th>classification</th>\n",
       "    </tr>\n",
       "  </thead>\n",
       "  <tbody>\n",
       "    <tr>\n",
       "      <th>0</th>\n",
       "      <td>0</td>\n",
       "      <td>48.0</td>\n",
       "      <td>80.0</td>\n",
       "      <td>1.020</td>\n",
       "      <td>1.0</td>\n",
       "      <td>0.0</td>\n",
       "      <td>NaN</td>\n",
       "      <td>normal</td>\n",
       "      <td>notpresent</td>\n",
       "      <td>notpresent</td>\n",
       "      <td>...</td>\n",
       "      <td>44.0</td>\n",
       "      <td>7800</td>\n",
       "      <td>5.2</td>\n",
       "      <td>yes</td>\n",
       "      <td>yes</td>\n",
       "      <td>no</td>\n",
       "      <td>good</td>\n",
       "      <td>no</td>\n",
       "      <td>no</td>\n",
       "      <td>ckd</td>\n",
       "    </tr>\n",
       "    <tr>\n",
       "      <th>1</th>\n",
       "      <td>1</td>\n",
       "      <td>7.0</td>\n",
       "      <td>50.0</td>\n",
       "      <td>1.020</td>\n",
       "      <td>4.0</td>\n",
       "      <td>0.0</td>\n",
       "      <td>NaN</td>\n",
       "      <td>normal</td>\n",
       "      <td>notpresent</td>\n",
       "      <td>notpresent</td>\n",
       "      <td>...</td>\n",
       "      <td>38.0</td>\n",
       "      <td>6000</td>\n",
       "      <td>NaN</td>\n",
       "      <td>no</td>\n",
       "      <td>no</td>\n",
       "      <td>no</td>\n",
       "      <td>good</td>\n",
       "      <td>no</td>\n",
       "      <td>no</td>\n",
       "      <td>ckd</td>\n",
       "    </tr>\n",
       "    <tr>\n",
       "      <th>2</th>\n",
       "      <td>2</td>\n",
       "      <td>62.0</td>\n",
       "      <td>80.0</td>\n",
       "      <td>1.010</td>\n",
       "      <td>2.0</td>\n",
       "      <td>3.0</td>\n",
       "      <td>normal</td>\n",
       "      <td>normal</td>\n",
       "      <td>notpresent</td>\n",
       "      <td>notpresent</td>\n",
       "      <td>...</td>\n",
       "      <td>31.0</td>\n",
       "      <td>7500</td>\n",
       "      <td>NaN</td>\n",
       "      <td>no</td>\n",
       "      <td>yes</td>\n",
       "      <td>no</td>\n",
       "      <td>poor</td>\n",
       "      <td>no</td>\n",
       "      <td>yes</td>\n",
       "      <td>ckd</td>\n",
       "    </tr>\n",
       "    <tr>\n",
       "      <th>3</th>\n",
       "      <td>3</td>\n",
       "      <td>48.0</td>\n",
       "      <td>70.0</td>\n",
       "      <td>1.005</td>\n",
       "      <td>4.0</td>\n",
       "      <td>0.0</td>\n",
       "      <td>normal</td>\n",
       "      <td>abnormal</td>\n",
       "      <td>present</td>\n",
       "      <td>notpresent</td>\n",
       "      <td>...</td>\n",
       "      <td>32.0</td>\n",
       "      <td>6700</td>\n",
       "      <td>3.9</td>\n",
       "      <td>yes</td>\n",
       "      <td>no</td>\n",
       "      <td>no</td>\n",
       "      <td>poor</td>\n",
       "      <td>yes</td>\n",
       "      <td>yes</td>\n",
       "      <td>ckd</td>\n",
       "    </tr>\n",
       "    <tr>\n",
       "      <th>4</th>\n",
       "      <td>4</td>\n",
       "      <td>51.0</td>\n",
       "      <td>80.0</td>\n",
       "      <td>1.010</td>\n",
       "      <td>2.0</td>\n",
       "      <td>0.0</td>\n",
       "      <td>normal</td>\n",
       "      <td>normal</td>\n",
       "      <td>notpresent</td>\n",
       "      <td>notpresent</td>\n",
       "      <td>...</td>\n",
       "      <td>35.0</td>\n",
       "      <td>7300</td>\n",
       "      <td>4.6</td>\n",
       "      <td>no</td>\n",
       "      <td>no</td>\n",
       "      <td>no</td>\n",
       "      <td>good</td>\n",
       "      <td>no</td>\n",
       "      <td>no</td>\n",
       "      <td>ckd</td>\n",
       "    </tr>\n",
       "  </tbody>\n",
       "</table>\n",
       "<p>5 rows × 26 columns</p>\n",
       "</div>"
      ],
      "text/plain": [
       "   id   age    bp     sg   al   su     rbc        pc         pcc          ba  \\\n",
       "0   0  48.0  80.0  1.020  1.0  0.0     NaN    normal  notpresent  notpresent   \n",
       "1   1   7.0  50.0  1.020  4.0  0.0     NaN    normal  notpresent  notpresent   \n",
       "2   2  62.0  80.0  1.010  2.0  3.0  normal    normal  notpresent  notpresent   \n",
       "3   3  48.0  70.0  1.005  4.0  0.0  normal  abnormal     present  notpresent   \n",
       "4   4  51.0  80.0  1.010  2.0  0.0  normal    normal  notpresent  notpresent   \n",
       "\n",
       "   ...   pcv    wc   rc  htn   dm  cad  appet   pe  ane classification  \n",
       "0  ...  44.0  7800  5.2  yes  yes   no   good   no   no            ckd  \n",
       "1  ...  38.0  6000  NaN   no   no   no   good   no   no            ckd  \n",
       "2  ...  31.0  7500  NaN   no  yes   no   poor   no  yes            ckd  \n",
       "3  ...  32.0  6700  3.9  yes   no   no   poor  yes  yes            ckd  \n",
       "4  ...  35.0  7300  4.6   no   no   no   good   no   no            ckd  \n",
       "\n",
       "[5 rows x 26 columns]"
      ]
     },
     "execution_count": 3,
     "metadata": {},
     "output_type": "execute_result"
    }
   ],
   "source": [
    "def get_data(url):\n",
    "    df = pd.read_csv(url)\n",
    "    return df\n",
    "\n",
    "kidneys = get_data(\"../raw_data/kidney_disease.csv\")\n",
    "kidneys.head()"
   ]
  },
  {
   "cell_type": "markdown",
   "id": "326b891f",
   "metadata": {},
   "source": [
    "# Dataset preprocess"
   ]
  },
  {
   "cell_type": "markdown",
   "id": "01fa923f",
   "metadata": {},
   "source": [
    "## cleaning"
   ]
  },
  {
   "cell_type": "code",
   "execution_count": 4,
   "id": "c74ac697",
   "metadata": {},
   "outputs": [],
   "source": [
    "def replacing_numerical_features(X):\n",
    "    '''cleaning: strips \\t at beginning of number and replaces ? with nan values'''\n",
    "    X['pcv'] = X['pcv'].astype(str).str.lstrip(\"\\t\")\n",
    "    X['pcv'] = X['pcv'].replace('?',np.nan).astype(float)\n",
    "    X['wc'] = X['wc'].astype(str).str.lstrip(\"\\t\")\n",
    "    X['wc'] = X['wc'].replace('?',np.nan).astype(float)\n",
    "    X['rc'] = X['rc'].astype(str).str.lstrip(\"\\t\")\n",
    "    X['rc'] = X['rc'].replace('?',np.nan).astype(float)\n",
    "    return X"
   ]
  },
  {
   "cell_type": "code",
   "execution_count": 5,
   "id": "67e49923",
   "metadata": {},
   "outputs": [],
   "source": [
    "def preprocessing_1(df):\n",
    "    # convert wc and rc columns to float\n",
    "    df[['wc', 'rc']] = df[['wc','rc']].apply(pd.to_numeric, errors='coerce')\n",
    "    df = replacing_numerical_features(df)\n",
    "    return df\n"
   ]
  },
  {
   "cell_type": "code",
   "execution_count": 6,
   "id": "1cb6cce7",
   "metadata": {},
   "outputs": [
    {
     "data": {
      "text/html": [
       "<div>\n",
       "<style scoped>\n",
       "    .dataframe tbody tr th:only-of-type {\n",
       "        vertical-align: middle;\n",
       "    }\n",
       "\n",
       "    .dataframe tbody tr th {\n",
       "        vertical-align: top;\n",
       "    }\n",
       "\n",
       "    .dataframe thead th {\n",
       "        text-align: right;\n",
       "    }\n",
       "</style>\n",
       "<table border=\"1\" class=\"dataframe\">\n",
       "  <thead>\n",
       "    <tr style=\"text-align: right;\">\n",
       "      <th></th>\n",
       "      <th>id</th>\n",
       "      <th>age</th>\n",
       "      <th>bp</th>\n",
       "      <th>sg</th>\n",
       "      <th>al</th>\n",
       "      <th>su</th>\n",
       "      <th>rbc</th>\n",
       "      <th>pc</th>\n",
       "      <th>pcc</th>\n",
       "      <th>ba</th>\n",
       "      <th>...</th>\n",
       "      <th>pcv</th>\n",
       "      <th>wc</th>\n",
       "      <th>rc</th>\n",
       "      <th>htn</th>\n",
       "      <th>dm</th>\n",
       "      <th>cad</th>\n",
       "      <th>appet</th>\n",
       "      <th>pe</th>\n",
       "      <th>ane</th>\n",
       "      <th>classification</th>\n",
       "    </tr>\n",
       "  </thead>\n",
       "  <tbody>\n",
       "    <tr>\n",
       "      <th>0</th>\n",
       "      <td>0</td>\n",
       "      <td>48.0</td>\n",
       "      <td>80.0</td>\n",
       "      <td>1.020</td>\n",
       "      <td>1.0</td>\n",
       "      <td>0.0</td>\n",
       "      <td>NaN</td>\n",
       "      <td>normal</td>\n",
       "      <td>notpresent</td>\n",
       "      <td>notpresent</td>\n",
       "      <td>...</td>\n",
       "      <td>44.0</td>\n",
       "      <td>7800.0</td>\n",
       "      <td>5.2</td>\n",
       "      <td>yes</td>\n",
       "      <td>yes</td>\n",
       "      <td>no</td>\n",
       "      <td>good</td>\n",
       "      <td>no</td>\n",
       "      <td>no</td>\n",
       "      <td>ckd</td>\n",
       "    </tr>\n",
       "    <tr>\n",
       "      <th>1</th>\n",
       "      <td>1</td>\n",
       "      <td>7.0</td>\n",
       "      <td>50.0</td>\n",
       "      <td>1.020</td>\n",
       "      <td>4.0</td>\n",
       "      <td>0.0</td>\n",
       "      <td>NaN</td>\n",
       "      <td>normal</td>\n",
       "      <td>notpresent</td>\n",
       "      <td>notpresent</td>\n",
       "      <td>...</td>\n",
       "      <td>38.0</td>\n",
       "      <td>6000.0</td>\n",
       "      <td>NaN</td>\n",
       "      <td>no</td>\n",
       "      <td>no</td>\n",
       "      <td>no</td>\n",
       "      <td>good</td>\n",
       "      <td>no</td>\n",
       "      <td>no</td>\n",
       "      <td>ckd</td>\n",
       "    </tr>\n",
       "    <tr>\n",
       "      <th>2</th>\n",
       "      <td>2</td>\n",
       "      <td>62.0</td>\n",
       "      <td>80.0</td>\n",
       "      <td>1.010</td>\n",
       "      <td>2.0</td>\n",
       "      <td>3.0</td>\n",
       "      <td>normal</td>\n",
       "      <td>normal</td>\n",
       "      <td>notpresent</td>\n",
       "      <td>notpresent</td>\n",
       "      <td>...</td>\n",
       "      <td>31.0</td>\n",
       "      <td>7500.0</td>\n",
       "      <td>NaN</td>\n",
       "      <td>no</td>\n",
       "      <td>yes</td>\n",
       "      <td>no</td>\n",
       "      <td>poor</td>\n",
       "      <td>no</td>\n",
       "      <td>yes</td>\n",
       "      <td>ckd</td>\n",
       "    </tr>\n",
       "    <tr>\n",
       "      <th>3</th>\n",
       "      <td>3</td>\n",
       "      <td>48.0</td>\n",
       "      <td>70.0</td>\n",
       "      <td>1.005</td>\n",
       "      <td>4.0</td>\n",
       "      <td>0.0</td>\n",
       "      <td>normal</td>\n",
       "      <td>abnormal</td>\n",
       "      <td>present</td>\n",
       "      <td>notpresent</td>\n",
       "      <td>...</td>\n",
       "      <td>32.0</td>\n",
       "      <td>6700.0</td>\n",
       "      <td>3.9</td>\n",
       "      <td>yes</td>\n",
       "      <td>no</td>\n",
       "      <td>no</td>\n",
       "      <td>poor</td>\n",
       "      <td>yes</td>\n",
       "      <td>yes</td>\n",
       "      <td>ckd</td>\n",
       "    </tr>\n",
       "  </tbody>\n",
       "</table>\n",
       "<p>4 rows × 26 columns</p>\n",
       "</div>"
      ],
      "text/plain": [
       "   id   age    bp     sg   al   su     rbc        pc         pcc          ba  \\\n",
       "0   0  48.0  80.0  1.020  1.0  0.0     NaN    normal  notpresent  notpresent   \n",
       "1   1   7.0  50.0  1.020  4.0  0.0     NaN    normal  notpresent  notpresent   \n",
       "2   2  62.0  80.0  1.010  2.0  3.0  normal    normal  notpresent  notpresent   \n",
       "3   3  48.0  70.0  1.005  4.0  0.0  normal  abnormal     present  notpresent   \n",
       "\n",
       "   ...   pcv      wc   rc  htn   dm  cad  appet   pe  ane classification  \n",
       "0  ...  44.0  7800.0  5.2  yes  yes   no   good   no   no            ckd  \n",
       "1  ...  38.0  6000.0  NaN   no   no   no   good   no   no            ckd  \n",
       "2  ...  31.0  7500.0  NaN   no  yes   no   poor   no  yes            ckd  \n",
       "3  ...  32.0  6700.0  3.9  yes   no   no   poor  yes  yes            ckd  \n",
       "\n",
       "[4 rows x 26 columns]"
      ]
     },
     "execution_count": 6,
     "metadata": {},
     "output_type": "execute_result"
    }
   ],
   "source": [
    "kidneys = preprocessing_1(kidneys)\n",
    "kidneys.head(4)"
   ]
  },
  {
   "cell_type": "code",
   "execution_count": 7,
   "id": "8c6a7a11",
   "metadata": {},
   "outputs": [],
   "source": [
    "#def replacing_binary_features(X):\n",
    " #   '''encoding: replacing Yes --> 1 no --> 0'''\n",
    "kidneys[['classification']] = kidneys[['classification']].replace(to_replace={'ckd':1,'notckd':0, 'ckd\\t': 1})\n",
    "kidneys[['htn','dm','cad','pe','ane']] = kidneys[['htn','dm','cad','pe','ane']].replace(to_replace={'yes':1,'no':0})\n",
    "kidneys[['pe']] = kidneys[['pe']].replace(to_replace={'good':1})\n",
    "kidneys[['htn']] = kidneys[['htn']].replace(to_replace={'4':4, '8':8, '?':np.nan, '5.2':5.2})\n",
    "kidneys[['rbc','pc']] = kidneys[['rbc','pc']].replace(to_replace={'abnormal':1,'normal':0})\n",
    "kidneys[['pcc','ba']] = kidneys[['pcc','ba']].replace(to_replace={'present':1,'notpresent':0})\n",
    "kidneys[['appet']] = kidneys[['appet']].replace(to_replace={'good':2,'poor':1,'no':0})\n",
    "    ## replacing t_values to 0 or 1, by assuming it s close to 0 or 1, respectively\n",
    "kidneys[['cad']] = kidneys[['cad']].replace(to_replace='\\tno',value=0)\n",
    "kidneys[['dm']] = kidneys[['dm']].replace(to_replace={'\\tno':0,'\\tyes':1,' yes':1})\n",
    "   # return X"
   ]
  },
  {
   "cell_type": "code",
   "execution_count": 8,
   "id": "b2c319a3",
   "metadata": {},
   "outputs": [],
   "source": [
    "def split_num_cat(df):\n",
    "    # splitting numerical  and categorical features\n",
    "    feat_num = list(df.nunique()[df.nunique() > 7].index)\n",
    "    feat_cat = list(df.nunique()[df.nunique() <=7].index)\n",
    "    feat_cat_bin = list(df[feat_cat].nunique()[df[feat_cat].nunique() ==2].index)\n",
    "    feat_cat_ord = list(set(df.columns) - set(feat_num) - set(feat_cat_bin))\n",
    "\n",
    "    #feat_num = df.select_dtypes(include=['float64', 'int64'])\n",
    "    #feat_cat = df.drop(columns = feat_num.columns)\n",
    "    # cleaning categorical features \n",
    "    \n",
    "    #df_new = pd.concat([feat_cat, feat_num], axis = 1)\n",
    "    return (feat_num, feat_cat_bin, feat_cat_ord)\n"
   ]
  },
  {
   "cell_type": "code",
   "execution_count": 9,
   "id": "e1234a98",
   "metadata": {},
   "outputs": [
    {
     "data": {
      "text/html": [
       "<div>\n",
       "<style scoped>\n",
       "    .dataframe tbody tr th:only-of-type {\n",
       "        vertical-align: middle;\n",
       "    }\n",
       "\n",
       "    .dataframe tbody tr th {\n",
       "        vertical-align: top;\n",
       "    }\n",
       "\n",
       "    .dataframe thead th {\n",
       "        text-align: right;\n",
       "    }\n",
       "</style>\n",
       "<table border=\"1\" class=\"dataframe\">\n",
       "  <thead>\n",
       "    <tr style=\"text-align: right;\">\n",
       "      <th></th>\n",
       "      <th>id</th>\n",
       "      <th>age</th>\n",
       "      <th>bp</th>\n",
       "      <th>bgr</th>\n",
       "      <th>bu</th>\n",
       "      <th>sc</th>\n",
       "      <th>sod</th>\n",
       "      <th>pot</th>\n",
       "      <th>hemo</th>\n",
       "      <th>pcv</th>\n",
       "      <th>wc</th>\n",
       "      <th>rc</th>\n",
       "    </tr>\n",
       "  </thead>\n",
       "  <tbody>\n",
       "    <tr>\n",
       "      <th>0</th>\n",
       "      <td>0</td>\n",
       "      <td>48.0</td>\n",
       "      <td>80.0</td>\n",
       "      <td>121.0</td>\n",
       "      <td>36.0</td>\n",
       "      <td>1.2</td>\n",
       "      <td>NaN</td>\n",
       "      <td>NaN</td>\n",
       "      <td>15.4</td>\n",
       "      <td>44.0</td>\n",
       "      <td>7800.0</td>\n",
       "      <td>5.2</td>\n",
       "    </tr>\n",
       "    <tr>\n",
       "      <th>1</th>\n",
       "      <td>1</td>\n",
       "      <td>7.0</td>\n",
       "      <td>50.0</td>\n",
       "      <td>NaN</td>\n",
       "      <td>18.0</td>\n",
       "      <td>0.8</td>\n",
       "      <td>NaN</td>\n",
       "      <td>NaN</td>\n",
       "      <td>11.3</td>\n",
       "      <td>38.0</td>\n",
       "      <td>6000.0</td>\n",
       "      <td>NaN</td>\n",
       "    </tr>\n",
       "    <tr>\n",
       "      <th>2</th>\n",
       "      <td>2</td>\n",
       "      <td>62.0</td>\n",
       "      <td>80.0</td>\n",
       "      <td>423.0</td>\n",
       "      <td>53.0</td>\n",
       "      <td>1.8</td>\n",
       "      <td>NaN</td>\n",
       "      <td>NaN</td>\n",
       "      <td>9.6</td>\n",
       "      <td>31.0</td>\n",
       "      <td>7500.0</td>\n",
       "      <td>NaN</td>\n",
       "    </tr>\n",
       "    <tr>\n",
       "      <th>3</th>\n",
       "      <td>3</td>\n",
       "      <td>48.0</td>\n",
       "      <td>70.0</td>\n",
       "      <td>117.0</td>\n",
       "      <td>56.0</td>\n",
       "      <td>3.8</td>\n",
       "      <td>111.0</td>\n",
       "      <td>2.5</td>\n",
       "      <td>11.2</td>\n",
       "      <td>32.0</td>\n",
       "      <td>6700.0</td>\n",
       "      <td>3.9</td>\n",
       "    </tr>\n",
       "    <tr>\n",
       "      <th>4</th>\n",
       "      <td>4</td>\n",
       "      <td>51.0</td>\n",
       "      <td>80.0</td>\n",
       "      <td>106.0</td>\n",
       "      <td>26.0</td>\n",
       "      <td>1.4</td>\n",
       "      <td>NaN</td>\n",
       "      <td>NaN</td>\n",
       "      <td>11.6</td>\n",
       "      <td>35.0</td>\n",
       "      <td>7300.0</td>\n",
       "      <td>4.6</td>\n",
       "    </tr>\n",
       "    <tr>\n",
       "      <th>...</th>\n",
       "      <td>...</td>\n",
       "      <td>...</td>\n",
       "      <td>...</td>\n",
       "      <td>...</td>\n",
       "      <td>...</td>\n",
       "      <td>...</td>\n",
       "      <td>...</td>\n",
       "      <td>...</td>\n",
       "      <td>...</td>\n",
       "      <td>...</td>\n",
       "      <td>...</td>\n",
       "      <td>...</td>\n",
       "    </tr>\n",
       "    <tr>\n",
       "      <th>395</th>\n",
       "      <td>395</td>\n",
       "      <td>55.0</td>\n",
       "      <td>80.0</td>\n",
       "      <td>140.0</td>\n",
       "      <td>49.0</td>\n",
       "      <td>0.5</td>\n",
       "      <td>150.0</td>\n",
       "      <td>4.9</td>\n",
       "      <td>15.7</td>\n",
       "      <td>47.0</td>\n",
       "      <td>6700.0</td>\n",
       "      <td>4.9</td>\n",
       "    </tr>\n",
       "    <tr>\n",
       "      <th>396</th>\n",
       "      <td>396</td>\n",
       "      <td>42.0</td>\n",
       "      <td>70.0</td>\n",
       "      <td>75.0</td>\n",
       "      <td>31.0</td>\n",
       "      <td>1.2</td>\n",
       "      <td>141.0</td>\n",
       "      <td>3.5</td>\n",
       "      <td>16.5</td>\n",
       "      <td>54.0</td>\n",
       "      <td>7800.0</td>\n",
       "      <td>6.2</td>\n",
       "    </tr>\n",
       "    <tr>\n",
       "      <th>397</th>\n",
       "      <td>397</td>\n",
       "      <td>12.0</td>\n",
       "      <td>80.0</td>\n",
       "      <td>100.0</td>\n",
       "      <td>26.0</td>\n",
       "      <td>0.6</td>\n",
       "      <td>137.0</td>\n",
       "      <td>4.4</td>\n",
       "      <td>15.8</td>\n",
       "      <td>49.0</td>\n",
       "      <td>6600.0</td>\n",
       "      <td>5.4</td>\n",
       "    </tr>\n",
       "    <tr>\n",
       "      <th>398</th>\n",
       "      <td>398</td>\n",
       "      <td>17.0</td>\n",
       "      <td>60.0</td>\n",
       "      <td>114.0</td>\n",
       "      <td>50.0</td>\n",
       "      <td>1.0</td>\n",
       "      <td>135.0</td>\n",
       "      <td>4.9</td>\n",
       "      <td>14.2</td>\n",
       "      <td>51.0</td>\n",
       "      <td>7200.0</td>\n",
       "      <td>5.9</td>\n",
       "    </tr>\n",
       "    <tr>\n",
       "      <th>399</th>\n",
       "      <td>399</td>\n",
       "      <td>58.0</td>\n",
       "      <td>80.0</td>\n",
       "      <td>131.0</td>\n",
       "      <td>18.0</td>\n",
       "      <td>1.1</td>\n",
       "      <td>141.0</td>\n",
       "      <td>3.5</td>\n",
       "      <td>15.8</td>\n",
       "      <td>53.0</td>\n",
       "      <td>6800.0</td>\n",
       "      <td>6.1</td>\n",
       "    </tr>\n",
       "  </tbody>\n",
       "</table>\n",
       "<p>400 rows × 12 columns</p>\n",
       "</div>"
      ],
      "text/plain": [
       "      id   age    bp    bgr    bu   sc    sod  pot  hemo   pcv      wc   rc\n",
       "0      0  48.0  80.0  121.0  36.0  1.2    NaN  NaN  15.4  44.0  7800.0  5.2\n",
       "1      1   7.0  50.0    NaN  18.0  0.8    NaN  NaN  11.3  38.0  6000.0  NaN\n",
       "2      2  62.0  80.0  423.0  53.0  1.8    NaN  NaN   9.6  31.0  7500.0  NaN\n",
       "3      3  48.0  70.0  117.0  56.0  3.8  111.0  2.5  11.2  32.0  6700.0  3.9\n",
       "4      4  51.0  80.0  106.0  26.0  1.4    NaN  NaN  11.6  35.0  7300.0  4.6\n",
       "..   ...   ...   ...    ...   ...  ...    ...  ...   ...   ...     ...  ...\n",
       "395  395  55.0  80.0  140.0  49.0  0.5  150.0  4.9  15.7  47.0  6700.0  4.9\n",
       "396  396  42.0  70.0   75.0  31.0  1.2  141.0  3.5  16.5  54.0  7800.0  6.2\n",
       "397  397  12.0  80.0  100.0  26.0  0.6  137.0  4.4  15.8  49.0  6600.0  5.4\n",
       "398  398  17.0  60.0  114.0  50.0  1.0  135.0  4.9  14.2  51.0  7200.0  5.9\n",
       "399  399  58.0  80.0  131.0  18.0  1.1  141.0  3.5  15.8  53.0  6800.0  6.1\n",
       "\n",
       "[400 rows x 12 columns]"
      ]
     },
     "execution_count": 9,
     "metadata": {},
     "output_type": "execute_result"
    }
   ],
   "source": [
    "\n",
    "feat_num = split_num_cat(kidneys)[0]\n",
    "feat_cat_bin = split_num_cat(kidneys)[1]\n",
    "feat_cat_ord = split_num_cat(kidneys)[2]\n",
    "\n",
    "kidneys[feat_num]"
   ]
  },
  {
   "cell_type": "code",
   "execution_count": 10,
   "id": "11a83a88",
   "metadata": {},
   "outputs": [],
   "source": [
    "def feat_target(a,b,c):\n",
    "    df_new = pd.concat([pd.concat([a, b], axis =1),c], axis=1)\n",
    "    return df_new"
   ]
  },
  {
   "cell_type": "code",
   "execution_count": 11,
   "id": "9665b481",
   "metadata": {},
   "outputs": [
    {
     "data": {
      "text/html": [
       "<div>\n",
       "<style scoped>\n",
       "    .dataframe tbody tr th:only-of-type {\n",
       "        vertical-align: middle;\n",
       "    }\n",
       "\n",
       "    .dataframe tbody tr th {\n",
       "        vertical-align: top;\n",
       "    }\n",
       "\n",
       "    .dataframe thead th {\n",
       "        text-align: right;\n",
       "    }\n",
       "</style>\n",
       "<table border=\"1\" class=\"dataframe\">\n",
       "  <thead>\n",
       "    <tr style=\"text-align: right;\">\n",
       "      <th></th>\n",
       "      <th>id</th>\n",
       "      <th>age</th>\n",
       "      <th>bp</th>\n",
       "      <th>bgr</th>\n",
       "      <th>bu</th>\n",
       "      <th>sc</th>\n",
       "      <th>sod</th>\n",
       "      <th>pot</th>\n",
       "      <th>hemo</th>\n",
       "      <th>pcv</th>\n",
       "      <th>...</th>\n",
       "      <th>dm</th>\n",
       "      <th>cad</th>\n",
       "      <th>pe</th>\n",
       "      <th>ane</th>\n",
       "      <th>classification</th>\n",
       "      <th>su</th>\n",
       "      <th>htn</th>\n",
       "      <th>sg</th>\n",
       "      <th>appet</th>\n",
       "      <th>al</th>\n",
       "    </tr>\n",
       "  </thead>\n",
       "  <tbody>\n",
       "    <tr>\n",
       "      <th>0</th>\n",
       "      <td>0</td>\n",
       "      <td>48.0</td>\n",
       "      <td>80.0</td>\n",
       "      <td>121.0</td>\n",
       "      <td>36.0</td>\n",
       "      <td>1.2</td>\n",
       "      <td>NaN</td>\n",
       "      <td>NaN</td>\n",
       "      <td>15.4</td>\n",
       "      <td>44.0</td>\n",
       "      <td>...</td>\n",
       "      <td>1.0</td>\n",
       "      <td>0.0</td>\n",
       "      <td>0.0</td>\n",
       "      <td>0.0</td>\n",
       "      <td>1</td>\n",
       "      <td>0.0</td>\n",
       "      <td>1.0</td>\n",
       "      <td>1.020</td>\n",
       "      <td>2.0</td>\n",
       "      <td>1.0</td>\n",
       "    </tr>\n",
       "    <tr>\n",
       "      <th>1</th>\n",
       "      <td>1</td>\n",
       "      <td>7.0</td>\n",
       "      <td>50.0</td>\n",
       "      <td>NaN</td>\n",
       "      <td>18.0</td>\n",
       "      <td>0.8</td>\n",
       "      <td>NaN</td>\n",
       "      <td>NaN</td>\n",
       "      <td>11.3</td>\n",
       "      <td>38.0</td>\n",
       "      <td>...</td>\n",
       "      <td>0.0</td>\n",
       "      <td>0.0</td>\n",
       "      <td>0.0</td>\n",
       "      <td>0.0</td>\n",
       "      <td>1</td>\n",
       "      <td>0.0</td>\n",
       "      <td>0.0</td>\n",
       "      <td>1.020</td>\n",
       "      <td>2.0</td>\n",
       "      <td>4.0</td>\n",
       "    </tr>\n",
       "    <tr>\n",
       "      <th>2</th>\n",
       "      <td>2</td>\n",
       "      <td>62.0</td>\n",
       "      <td>80.0</td>\n",
       "      <td>423.0</td>\n",
       "      <td>53.0</td>\n",
       "      <td>1.8</td>\n",
       "      <td>NaN</td>\n",
       "      <td>NaN</td>\n",
       "      <td>9.6</td>\n",
       "      <td>31.0</td>\n",
       "      <td>...</td>\n",
       "      <td>1.0</td>\n",
       "      <td>0.0</td>\n",
       "      <td>0.0</td>\n",
       "      <td>1.0</td>\n",
       "      <td>1</td>\n",
       "      <td>3.0</td>\n",
       "      <td>0.0</td>\n",
       "      <td>1.010</td>\n",
       "      <td>1.0</td>\n",
       "      <td>2.0</td>\n",
       "    </tr>\n",
       "    <tr>\n",
       "      <th>3</th>\n",
       "      <td>3</td>\n",
       "      <td>48.0</td>\n",
       "      <td>70.0</td>\n",
       "      <td>117.0</td>\n",
       "      <td>56.0</td>\n",
       "      <td>3.8</td>\n",
       "      <td>111.0</td>\n",
       "      <td>2.5</td>\n",
       "      <td>11.2</td>\n",
       "      <td>32.0</td>\n",
       "      <td>...</td>\n",
       "      <td>0.0</td>\n",
       "      <td>0.0</td>\n",
       "      <td>1.0</td>\n",
       "      <td>1.0</td>\n",
       "      <td>1</td>\n",
       "      <td>0.0</td>\n",
       "      <td>1.0</td>\n",
       "      <td>1.005</td>\n",
       "      <td>1.0</td>\n",
       "      <td>4.0</td>\n",
       "    </tr>\n",
       "  </tbody>\n",
       "</table>\n",
       "<p>4 rows × 26 columns</p>\n",
       "</div>"
      ],
      "text/plain": [
       "   id   age    bp    bgr    bu   sc    sod  pot  hemo   pcv  ...   dm  cad  \\\n",
       "0   0  48.0  80.0  121.0  36.0  1.2    NaN  NaN  15.4  44.0  ...  1.0  0.0   \n",
       "1   1   7.0  50.0    NaN  18.0  0.8    NaN  NaN  11.3  38.0  ...  0.0  0.0   \n",
       "2   2  62.0  80.0  423.0  53.0  1.8    NaN  NaN   9.6  31.0  ...  1.0  0.0   \n",
       "3   3  48.0  70.0  117.0  56.0  3.8  111.0  2.5  11.2  32.0  ...  0.0  0.0   \n",
       "\n",
       "    pe  ane  classification   su  htn     sg  appet   al  \n",
       "0  0.0  0.0               1  0.0  1.0  1.020    2.0  1.0  \n",
       "1  0.0  0.0               1  0.0  0.0  1.020    2.0  4.0  \n",
       "2  0.0  1.0               1  3.0  0.0  1.010    1.0  2.0  \n",
       "3  1.0  1.0               1  0.0  1.0  1.005    1.0  4.0  \n",
       "\n",
       "[4 rows x 26 columns]"
      ]
     },
     "execution_count": 11,
     "metadata": {},
     "output_type": "execute_result"
    }
   ],
   "source": [
    "kidneys_new = feat_target(kidneys[feat_num], kidneys[feat_cat_bin],kidneys[feat_cat_ord])\n",
    "kidneys_new.head(4)"
   ]
  },
  {
   "cell_type": "markdown",
   "id": "15703398",
   "metadata": {},
   "source": [
    "##  imputing and scaling (pipeline) "
   ]
  },
  {
   "cell_type": "code",
   "execution_count": 12,
   "id": "2a761c46",
   "metadata": {},
   "outputs": [],
   "source": [
    "def feat_target_split(df):\n",
    "    # defining X and y\n",
    "    X = df.drop(columns=['classification','id'])\n",
    "    y = df['classification']\n",
    "    X_train, X_test, y_train, y_test =  train_test_split(X,y, test_size = 0.2)\n",
    "    return (X,y, X_train, X_test, y_train, y_test)"
   ]
  },
  {
   "cell_type": "code",
   "execution_count": 13,
   "id": "aa572b92",
   "metadata": {},
   "outputs": [
    {
     "data": {
      "text/html": [
       "<div>\n",
       "<style scoped>\n",
       "    .dataframe tbody tr th:only-of-type {\n",
       "        vertical-align: middle;\n",
       "    }\n",
       "\n",
       "    .dataframe tbody tr th {\n",
       "        vertical-align: top;\n",
       "    }\n",
       "\n",
       "    .dataframe thead th {\n",
       "        text-align: right;\n",
       "    }\n",
       "</style>\n",
       "<table border=\"1\" class=\"dataframe\">\n",
       "  <thead>\n",
       "    <tr style=\"text-align: right;\">\n",
       "      <th></th>\n",
       "      <th>age</th>\n",
       "      <th>bp</th>\n",
       "      <th>bgr</th>\n",
       "      <th>bu</th>\n",
       "      <th>sc</th>\n",
       "      <th>sod</th>\n",
       "      <th>pot</th>\n",
       "      <th>hemo</th>\n",
       "      <th>pcv</th>\n",
       "      <th>wc</th>\n",
       "      <th>...</th>\n",
       "      <th>ba</th>\n",
       "      <th>dm</th>\n",
       "      <th>cad</th>\n",
       "      <th>pe</th>\n",
       "      <th>ane</th>\n",
       "      <th>su</th>\n",
       "      <th>htn</th>\n",
       "      <th>sg</th>\n",
       "      <th>appet</th>\n",
       "      <th>al</th>\n",
       "    </tr>\n",
       "  </thead>\n",
       "  <tbody>\n",
       "    <tr>\n",
       "      <th>138</th>\n",
       "      <td>73.0</td>\n",
       "      <td>NaN</td>\n",
       "      <td>95.0</td>\n",
       "      <td>51.0</td>\n",
       "      <td>1.6</td>\n",
       "      <td>142.0</td>\n",
       "      <td>3.5</td>\n",
       "      <td>NaN</td>\n",
       "      <td>NaN</td>\n",
       "      <td>NaN</td>\n",
       "      <td>...</td>\n",
       "      <td>0.0</td>\n",
       "      <td>NaN</td>\n",
       "      <td>0.0</td>\n",
       "      <td>1.0</td>\n",
       "      <td>0.0</td>\n",
       "      <td>0.0</td>\n",
       "      <td>0.0</td>\n",
       "      <td>1.01</td>\n",
       "      <td>0.0</td>\n",
       "      <td>1.0</td>\n",
       "    </tr>\n",
       "    <tr>\n",
       "      <th>215</th>\n",
       "      <td>2.0</td>\n",
       "      <td>NaN</td>\n",
       "      <td>NaN</td>\n",
       "      <td>NaN</td>\n",
       "      <td>NaN</td>\n",
       "      <td>NaN</td>\n",
       "      <td>NaN</td>\n",
       "      <td>NaN</td>\n",
       "      <td>NaN</td>\n",
       "      <td>NaN</td>\n",
       "      <td>...</td>\n",
       "      <td>0.0</td>\n",
       "      <td>0.0</td>\n",
       "      <td>0.0</td>\n",
       "      <td>1.0</td>\n",
       "      <td>0.0</td>\n",
       "      <td>0.0</td>\n",
       "      <td>0.0</td>\n",
       "      <td>1.01</td>\n",
       "      <td>2.0</td>\n",
       "      <td>3.0</td>\n",
       "    </tr>\n",
       "    <tr>\n",
       "      <th>202</th>\n",
       "      <td>78.0</td>\n",
       "      <td>60.0</td>\n",
       "      <td>114.0</td>\n",
       "      <td>74.0</td>\n",
       "      <td>2.9</td>\n",
       "      <td>135.0</td>\n",
       "      <td>5.9</td>\n",
       "      <td>8.0</td>\n",
       "      <td>24.0</td>\n",
       "      <td>NaN</td>\n",
       "      <td>...</td>\n",
       "      <td>0.0</td>\n",
       "      <td>1.0</td>\n",
       "      <td>0.0</td>\n",
       "      <td>0.0</td>\n",
       "      <td>1.0</td>\n",
       "      <td>NaN</td>\n",
       "      <td>0.0</td>\n",
       "      <td>NaN</td>\n",
       "      <td>2.0</td>\n",
       "      <td>NaN</td>\n",
       "    </tr>\n",
       "    <tr>\n",
       "      <th>302</th>\n",
       "      <td>29.0</td>\n",
       "      <td>70.0</td>\n",
       "      <td>127.0</td>\n",
       "      <td>44.0</td>\n",
       "      <td>1.2</td>\n",
       "      <td>145.0</td>\n",
       "      <td>5.0</td>\n",
       "      <td>14.8</td>\n",
       "      <td>48.0</td>\n",
       "      <td>NaN</td>\n",
       "      <td>...</td>\n",
       "      <td>0.0</td>\n",
       "      <td>0.0</td>\n",
       "      <td>0.0</td>\n",
       "      <td>0.0</td>\n",
       "      <td>0.0</td>\n",
       "      <td>0.0</td>\n",
       "      <td>0.0</td>\n",
       "      <td>1.02</td>\n",
       "      <td>2.0</td>\n",
       "      <td>0.0</td>\n",
       "    </tr>\n",
       "    <tr>\n",
       "      <th>140</th>\n",
       "      <td>69.0</td>\n",
       "      <td>70.0</td>\n",
       "      <td>256.0</td>\n",
       "      <td>40.0</td>\n",
       "      <td>1.2</td>\n",
       "      <td>142.0</td>\n",
       "      <td>5.6</td>\n",
       "      <td>NaN</td>\n",
       "      <td>NaN</td>\n",
       "      <td>NaN</td>\n",
       "      <td>...</td>\n",
       "      <td>0.0</td>\n",
       "      <td>0.0</td>\n",
       "      <td>0.0</td>\n",
       "      <td>0.0</td>\n",
       "      <td>0.0</td>\n",
       "      <td>4.0</td>\n",
       "      <td>0.0</td>\n",
       "      <td>1.01</td>\n",
       "      <td>2.0</td>\n",
       "      <td>0.0</td>\n",
       "    </tr>\n",
       "  </tbody>\n",
       "</table>\n",
       "<p>5 rows × 24 columns</p>\n",
       "</div>"
      ],
      "text/plain": [
       "      age    bp    bgr    bu   sc    sod  pot  hemo   pcv  wc  ...   ba   dm  \\\n",
       "138  73.0   NaN   95.0  51.0  1.6  142.0  3.5   NaN   NaN NaN  ...  0.0  NaN   \n",
       "215   2.0   NaN    NaN   NaN  NaN    NaN  NaN   NaN   NaN NaN  ...  0.0  0.0   \n",
       "202  78.0  60.0  114.0  74.0  2.9  135.0  5.9   8.0  24.0 NaN  ...  0.0  1.0   \n",
       "302  29.0  70.0  127.0  44.0  1.2  145.0  5.0  14.8  48.0 NaN  ...  0.0  0.0   \n",
       "140  69.0  70.0  256.0  40.0  1.2  142.0  5.6   NaN   NaN NaN  ...  0.0  0.0   \n",
       "\n",
       "     cad   pe  ane   su  htn    sg  appet   al  \n",
       "138  0.0  1.0  0.0  0.0  0.0  1.01    0.0  1.0  \n",
       "215  0.0  1.0  0.0  0.0  0.0  1.01    2.0  3.0  \n",
       "202  0.0  0.0  1.0  NaN  0.0   NaN    2.0  NaN  \n",
       "302  0.0  0.0  0.0  0.0  0.0  1.02    2.0  0.0  \n",
       "140  0.0  0.0  0.0  4.0  0.0  1.01    2.0  0.0  \n",
       "\n",
       "[5 rows x 24 columns]"
      ]
     },
     "execution_count": 13,
     "metadata": {},
     "output_type": "execute_result"
    }
   ],
   "source": [
    "X = feat_target_split(kidneys_new)[0]\n",
    "y = feat_target_split(kidneys_new)[1]\n",
    "X_train = feat_target_split(kidneys_new)[2]\n",
    "X_test = feat_target_split(kidneys_new)[3]\n",
    "y_train = feat_target_split(kidneys_new)[4]\n",
    "y_test = feat_target_split(kidneys_new)[5]\n",
    "X_train.head()"
   ]
  },
  {
   "cell_type": "code",
   "execution_count": 14,
   "id": "056e9062",
   "metadata": {},
   "outputs": [],
   "source": [
    "def preprocessing_2(a,b,X):\n",
    "    #remove y from the categorical features\n",
    "    feat_cat_bin = b.drop(columns = 'classification')\n",
    "    #remove id from the numerical features\n",
    "    feat_num = a.drop(columns = 'id')\n",
    "    return (list(feat_num.columns), list(feat_cat_bin.columns))"
   ]
  },
  {
   "cell_type": "code",
   "execution_count": 15,
   "id": "35dc0b47",
   "metadata": {},
   "outputs": [],
   "source": [
    "\n",
    "a = preprocessing_2(kidneys[feat_num], kidneys[feat_cat_bin], X)[0]\n",
    "b = preprocessing_2(kidneys[feat_num], kidneys[feat_cat_bin], X)[1]\n",
    "c = feat_cat_ord = split_num_cat(kidneys)[2]"
   ]
  },
  {
   "cell_type": "code",
   "execution_count": 16,
   "id": "a4a0d5a6",
   "metadata": {},
   "outputs": [],
   "source": [
    "def pipe(a,b,c):\n",
    "    \n",
    "    # imputing and scaling numerical features\n",
    "    preproc_num = make_pipeline(SimpleImputer(strategy = \"most_frequent\"), MinMaxScaler())\n",
    "    \n",
    "    # imputing categorical features with unique values < 5\n",
    "    preproc_cat = make_pipeline(SimpleImputer(strategy=\"most_frequent\"))\n",
    "    # scaling remaining (ordinal)\n",
    "    preproc_cat_ord = make_pipeline(SimpleImputer(strategy=\"most_frequent\"), MinMaxScaler())\n",
    "\n",
    "    preproc_baseline = make_column_transformer((preproc_num, a),\n",
    "    (preproc_cat, b),\n",
    "    (preproc_cat_ord,c))\n",
    "\n",
    "    return preproc_baseline"
   ]
  },
  {
   "cell_type": "code",
   "execution_count": 17,
   "id": "cf42e47c",
   "metadata": {},
   "outputs": [
    {
     "data": {
      "text/html": [
       "<style>#sk-143f525c-8ae4-4cb4-b91a-13b0aeca95e5 {color: black;background-color: white;}#sk-143f525c-8ae4-4cb4-b91a-13b0aeca95e5 pre{padding: 0;}#sk-143f525c-8ae4-4cb4-b91a-13b0aeca95e5 div.sk-toggleable {background-color: white;}#sk-143f525c-8ae4-4cb4-b91a-13b0aeca95e5 label.sk-toggleable__label {cursor: pointer;display: block;width: 100%;margin-bottom: 0;padding: 0.3em;box-sizing: border-box;text-align: center;}#sk-143f525c-8ae4-4cb4-b91a-13b0aeca95e5 label.sk-toggleable__label-arrow:before {content: \"▸\";float: left;margin-right: 0.25em;color: #696969;}#sk-143f525c-8ae4-4cb4-b91a-13b0aeca95e5 label.sk-toggleable__label-arrow:hover:before {color: black;}#sk-143f525c-8ae4-4cb4-b91a-13b0aeca95e5 div.sk-estimator:hover label.sk-toggleable__label-arrow:before {color: black;}#sk-143f525c-8ae4-4cb4-b91a-13b0aeca95e5 div.sk-toggleable__content {max-height: 0;max-width: 0;overflow: hidden;text-align: left;background-color: #f0f8ff;}#sk-143f525c-8ae4-4cb4-b91a-13b0aeca95e5 div.sk-toggleable__content pre {margin: 0.2em;color: black;border-radius: 0.25em;background-color: #f0f8ff;}#sk-143f525c-8ae4-4cb4-b91a-13b0aeca95e5 input.sk-toggleable__control:checked~div.sk-toggleable__content {max-height: 200px;max-width: 100%;overflow: auto;}#sk-143f525c-8ae4-4cb4-b91a-13b0aeca95e5 input.sk-toggleable__control:checked~label.sk-toggleable__label-arrow:before {content: \"▾\";}#sk-143f525c-8ae4-4cb4-b91a-13b0aeca95e5 div.sk-estimator input.sk-toggleable__control:checked~label.sk-toggleable__label {background-color: #d4ebff;}#sk-143f525c-8ae4-4cb4-b91a-13b0aeca95e5 div.sk-label input.sk-toggleable__control:checked~label.sk-toggleable__label {background-color: #d4ebff;}#sk-143f525c-8ae4-4cb4-b91a-13b0aeca95e5 input.sk-hidden--visually {border: 0;clip: rect(1px 1px 1px 1px);clip: rect(1px, 1px, 1px, 1px);height: 1px;margin: -1px;overflow: hidden;padding: 0;position: absolute;width: 1px;}#sk-143f525c-8ae4-4cb4-b91a-13b0aeca95e5 div.sk-estimator {font-family: monospace;background-color: #f0f8ff;border: 1px dotted black;border-radius: 0.25em;box-sizing: border-box;margin-bottom: 0.5em;}#sk-143f525c-8ae4-4cb4-b91a-13b0aeca95e5 div.sk-estimator:hover {background-color: #d4ebff;}#sk-143f525c-8ae4-4cb4-b91a-13b0aeca95e5 div.sk-parallel-item::after {content: \"\";width: 100%;border-bottom: 1px solid gray;flex-grow: 1;}#sk-143f525c-8ae4-4cb4-b91a-13b0aeca95e5 div.sk-label:hover label.sk-toggleable__label {background-color: #d4ebff;}#sk-143f525c-8ae4-4cb4-b91a-13b0aeca95e5 div.sk-serial::before {content: \"\";position: absolute;border-left: 1px solid gray;box-sizing: border-box;top: 2em;bottom: 0;left: 50%;}#sk-143f525c-8ae4-4cb4-b91a-13b0aeca95e5 div.sk-serial {display: flex;flex-direction: column;align-items: center;background-color: white;padding-right: 0.2em;padding-left: 0.2em;}#sk-143f525c-8ae4-4cb4-b91a-13b0aeca95e5 div.sk-item {z-index: 1;}#sk-143f525c-8ae4-4cb4-b91a-13b0aeca95e5 div.sk-parallel {display: flex;align-items: stretch;justify-content: center;background-color: white;}#sk-143f525c-8ae4-4cb4-b91a-13b0aeca95e5 div.sk-parallel::before {content: \"\";position: absolute;border-left: 1px solid gray;box-sizing: border-box;top: 2em;bottom: 0;left: 50%;}#sk-143f525c-8ae4-4cb4-b91a-13b0aeca95e5 div.sk-parallel-item {display: flex;flex-direction: column;position: relative;background-color: white;}#sk-143f525c-8ae4-4cb4-b91a-13b0aeca95e5 div.sk-parallel-item:first-child::after {align-self: flex-end;width: 50%;}#sk-143f525c-8ae4-4cb4-b91a-13b0aeca95e5 div.sk-parallel-item:last-child::after {align-self: flex-start;width: 50%;}#sk-143f525c-8ae4-4cb4-b91a-13b0aeca95e5 div.sk-parallel-item:only-child::after {width: 0;}#sk-143f525c-8ae4-4cb4-b91a-13b0aeca95e5 div.sk-dashed-wrapped {border: 1px dashed gray;margin: 0 0.4em 0.5em 0.4em;box-sizing: border-box;padding-bottom: 0.4em;background-color: white;position: relative;}#sk-143f525c-8ae4-4cb4-b91a-13b0aeca95e5 div.sk-label label {font-family: monospace;font-weight: bold;background-color: white;display: inline-block;line-height: 1.2em;}#sk-143f525c-8ae4-4cb4-b91a-13b0aeca95e5 div.sk-label-container {position: relative;z-index: 2;text-align: center;}#sk-143f525c-8ae4-4cb4-b91a-13b0aeca95e5 div.sk-container {/* jupyter's `normalize.less` sets `[hidden] { display: none; }` but bootstrap.min.css set `[hidden] { display: none !important; }` so we also need the `!important` here to be able to override the default hidden behavior on the sphinx rendered scikit-learn.org. See: https://github.com/scikit-learn/scikit-learn/issues/21755 */display: inline-block !important;position: relative;}#sk-143f525c-8ae4-4cb4-b91a-13b0aeca95e5 div.sk-text-repr-fallback {display: none;}</style><div id=\"sk-143f525c-8ae4-4cb4-b91a-13b0aeca95e5\" class=\"sk-top-container\"><div class=\"sk-text-repr-fallback\"><pre>ColumnTransformer(transformers=[(&#x27;pipeline-1&#x27;,\n",
       "                                 Pipeline(steps=[(&#x27;simpleimputer&#x27;,\n",
       "                                                  SimpleImputer(strategy=&#x27;most_frequent&#x27;)),\n",
       "                                                 (&#x27;minmaxscaler&#x27;,\n",
       "                                                  MinMaxScaler())]),\n",
       "                                 [&#x27;age&#x27;, &#x27;bp&#x27;, &#x27;bgr&#x27;, &#x27;bu&#x27;, &#x27;sc&#x27;, &#x27;sod&#x27;, &#x27;pot&#x27;,\n",
       "                                  &#x27;hemo&#x27;, &#x27;pcv&#x27;, &#x27;wc&#x27;, &#x27;rc&#x27;]),\n",
       "                                (&#x27;pipeline-2&#x27;,\n",
       "                                 Pipeline(steps=[(&#x27;simpleimputer&#x27;,\n",
       "                                                  SimpleImputer(strategy=&#x27;most_frequent&#x27;))]),\n",
       "                                 [&#x27;rbc&#x27;, &#x27;pc&#x27;, &#x27;pcc&#x27;, &#x27;ba&#x27;, &#x27;dm&#x27;, &#x27;cad&#x27;, &#x27;pe&#x27;,\n",
       "                                  &#x27;ane&#x27;]),\n",
       "                                (&#x27;pipeline-3&#x27;,\n",
       "                                 Pipeline(steps=[(&#x27;simpleimputer&#x27;,\n",
       "                                                  SimpleImputer(strategy=&#x27;most_frequent&#x27;)),\n",
       "                                                 (&#x27;minmaxscaler&#x27;,\n",
       "                                                  MinMaxScaler())]),\n",
       "                                 [&#x27;su&#x27;, &#x27;htn&#x27;, &#x27;sg&#x27;, &#x27;appet&#x27;, &#x27;al&#x27;])])</pre><b>Please rerun this cell to show the HTML repr or trust the notebook.</b></div><div class=\"sk-container\" hidden><div class=\"sk-item sk-dashed-wrapped\"><div class=\"sk-label-container\"><div class=\"sk-label sk-toggleable\"><input class=\"sk-toggleable__control sk-hidden--visually\" id=\"9d17eced-8f38-49de-8ccd-fdd739676fef\" type=\"checkbox\" ><label for=\"9d17eced-8f38-49de-8ccd-fdd739676fef\" class=\"sk-toggleable__label sk-toggleable__label-arrow\">ColumnTransformer</label><div class=\"sk-toggleable__content\"><pre>ColumnTransformer(transformers=[(&#x27;pipeline-1&#x27;,\n",
       "                                 Pipeline(steps=[(&#x27;simpleimputer&#x27;,\n",
       "                                                  SimpleImputer(strategy=&#x27;most_frequent&#x27;)),\n",
       "                                                 (&#x27;minmaxscaler&#x27;,\n",
       "                                                  MinMaxScaler())]),\n",
       "                                 [&#x27;age&#x27;, &#x27;bp&#x27;, &#x27;bgr&#x27;, &#x27;bu&#x27;, &#x27;sc&#x27;, &#x27;sod&#x27;, &#x27;pot&#x27;,\n",
       "                                  &#x27;hemo&#x27;, &#x27;pcv&#x27;, &#x27;wc&#x27;, &#x27;rc&#x27;]),\n",
       "                                (&#x27;pipeline-2&#x27;,\n",
       "                                 Pipeline(steps=[(&#x27;simpleimputer&#x27;,\n",
       "                                                  SimpleImputer(strategy=&#x27;most_frequent&#x27;))]),\n",
       "                                 [&#x27;rbc&#x27;, &#x27;pc&#x27;, &#x27;pcc&#x27;, &#x27;ba&#x27;, &#x27;dm&#x27;, &#x27;cad&#x27;, &#x27;pe&#x27;,\n",
       "                                  &#x27;ane&#x27;]),\n",
       "                                (&#x27;pipeline-3&#x27;,\n",
       "                                 Pipeline(steps=[(&#x27;simpleimputer&#x27;,\n",
       "                                                  SimpleImputer(strategy=&#x27;most_frequent&#x27;)),\n",
       "                                                 (&#x27;minmaxscaler&#x27;,\n",
       "                                                  MinMaxScaler())]),\n",
       "                                 [&#x27;su&#x27;, &#x27;htn&#x27;, &#x27;sg&#x27;, &#x27;appet&#x27;, &#x27;al&#x27;])])</pre></div></div></div><div class=\"sk-parallel\"><div class=\"sk-parallel-item\"><div class=\"sk-item\"><div class=\"sk-label-container\"><div class=\"sk-label sk-toggleable\"><input class=\"sk-toggleable__control sk-hidden--visually\" id=\"6ce8ec1d-b429-4bbd-8e29-d69133b5f153\" type=\"checkbox\" ><label for=\"6ce8ec1d-b429-4bbd-8e29-d69133b5f153\" class=\"sk-toggleable__label sk-toggleable__label-arrow\">pipeline-1</label><div class=\"sk-toggleable__content\"><pre>[&#x27;age&#x27;, &#x27;bp&#x27;, &#x27;bgr&#x27;, &#x27;bu&#x27;, &#x27;sc&#x27;, &#x27;sod&#x27;, &#x27;pot&#x27;, &#x27;hemo&#x27;, &#x27;pcv&#x27;, &#x27;wc&#x27;, &#x27;rc&#x27;]</pre></div></div></div><div class=\"sk-serial\"><div class=\"sk-item\"><div class=\"sk-serial\"><div class=\"sk-item\"><div class=\"sk-estimator sk-toggleable\"><input class=\"sk-toggleable__control sk-hidden--visually\" id=\"63737d8f-fae7-4817-b2c3-72eacc28390b\" type=\"checkbox\" ><label for=\"63737d8f-fae7-4817-b2c3-72eacc28390b\" class=\"sk-toggleable__label sk-toggleable__label-arrow\">SimpleImputer</label><div class=\"sk-toggleable__content\"><pre>SimpleImputer(strategy=&#x27;most_frequent&#x27;)</pre></div></div></div><div class=\"sk-item\"><div class=\"sk-estimator sk-toggleable\"><input class=\"sk-toggleable__control sk-hidden--visually\" id=\"56183ade-d104-4ed6-9156-9bf0d318cfdc\" type=\"checkbox\" ><label for=\"56183ade-d104-4ed6-9156-9bf0d318cfdc\" class=\"sk-toggleable__label sk-toggleable__label-arrow\">MinMaxScaler</label><div class=\"sk-toggleable__content\"><pre>MinMaxScaler()</pre></div></div></div></div></div></div></div></div><div class=\"sk-parallel-item\"><div class=\"sk-item\"><div class=\"sk-label-container\"><div class=\"sk-label sk-toggleable\"><input class=\"sk-toggleable__control sk-hidden--visually\" id=\"3ad285a7-5045-444f-b871-1d905f6e24bd\" type=\"checkbox\" ><label for=\"3ad285a7-5045-444f-b871-1d905f6e24bd\" class=\"sk-toggleable__label sk-toggleable__label-arrow\">pipeline-2</label><div class=\"sk-toggleable__content\"><pre>[&#x27;rbc&#x27;, &#x27;pc&#x27;, &#x27;pcc&#x27;, &#x27;ba&#x27;, &#x27;dm&#x27;, &#x27;cad&#x27;, &#x27;pe&#x27;, &#x27;ane&#x27;]</pre></div></div></div><div class=\"sk-serial\"><div class=\"sk-item\"><div class=\"sk-serial\"><div class=\"sk-item\"><div class=\"sk-estimator sk-toggleable\"><input class=\"sk-toggleable__control sk-hidden--visually\" id=\"82b6e569-2685-43c5-9c9f-55170875bf54\" type=\"checkbox\" ><label for=\"82b6e569-2685-43c5-9c9f-55170875bf54\" class=\"sk-toggleable__label sk-toggleable__label-arrow\">SimpleImputer</label><div class=\"sk-toggleable__content\"><pre>SimpleImputer(strategy=&#x27;most_frequent&#x27;)</pre></div></div></div></div></div></div></div></div><div class=\"sk-parallel-item\"><div class=\"sk-item\"><div class=\"sk-label-container\"><div class=\"sk-label sk-toggleable\"><input class=\"sk-toggleable__control sk-hidden--visually\" id=\"3a14104d-ced7-442b-815b-0c40a77edc76\" type=\"checkbox\" ><label for=\"3a14104d-ced7-442b-815b-0c40a77edc76\" class=\"sk-toggleable__label sk-toggleable__label-arrow\">pipeline-3</label><div class=\"sk-toggleable__content\"><pre>[&#x27;su&#x27;, &#x27;htn&#x27;, &#x27;sg&#x27;, &#x27;appet&#x27;, &#x27;al&#x27;]</pre></div></div></div><div class=\"sk-serial\"><div class=\"sk-item\"><div class=\"sk-serial\"><div class=\"sk-item\"><div class=\"sk-estimator sk-toggleable\"><input class=\"sk-toggleable__control sk-hidden--visually\" id=\"ea528443-03a6-4c2e-a339-7a7f2ea8ca3c\" type=\"checkbox\" ><label for=\"ea528443-03a6-4c2e-a339-7a7f2ea8ca3c\" class=\"sk-toggleable__label sk-toggleable__label-arrow\">SimpleImputer</label><div class=\"sk-toggleable__content\"><pre>SimpleImputer(strategy=&#x27;most_frequent&#x27;)</pre></div></div></div><div class=\"sk-item\"><div class=\"sk-estimator sk-toggleable\"><input class=\"sk-toggleable__control sk-hidden--visually\" id=\"88181b1a-0e3f-49d9-ba24-e066450f5d9e\" type=\"checkbox\" ><label for=\"88181b1a-0e3f-49d9-ba24-e066450f5d9e\" class=\"sk-toggleable__label sk-toggleable__label-arrow\">MinMaxScaler</label><div class=\"sk-toggleable__content\"><pre>MinMaxScaler()</pre></div></div></div></div></div></div></div></div></div></div></div></div>"
      ],
      "text/plain": [
       "ColumnTransformer(transformers=[('pipeline-1',\n",
       "                                 Pipeline(steps=[('simpleimputer',\n",
       "                                                  SimpleImputer(strategy='most_frequent')),\n",
       "                                                 ('minmaxscaler',\n",
       "                                                  MinMaxScaler())]),\n",
       "                                 ['age', 'bp', 'bgr', 'bu', 'sc', 'sod', 'pot',\n",
       "                                  'hemo', 'pcv', 'wc', 'rc']),\n",
       "                                ('pipeline-2',\n",
       "                                 Pipeline(steps=[('simpleimputer',\n",
       "                                                  SimpleImputer(strategy='most_frequent'))]),\n",
       "                                 ['rbc', 'pc', 'pcc', 'ba', 'dm', 'cad', 'pe',\n",
       "                                  'ane']),\n",
       "                                ('pipeline-3',\n",
       "                                 Pipeline(steps=[('simpleimputer',\n",
       "                                                  SimpleImputer(strategy='most_frequent')),\n",
       "                                                 ('minmaxscaler',\n",
       "                                                  MinMaxScaler())]),\n",
       "                                 ['su', 'htn', 'sg', 'appet', 'al'])])"
      ]
     },
     "execution_count": 17,
     "metadata": {},
     "output_type": "execute_result"
    }
   ],
   "source": [
    "pipe = pipe(a,b,c)\n",
    "pipe"
   ]
  },
  {
   "cell_type": "markdown",
   "id": "ed7f24aa",
   "metadata": {},
   "source": [
    "# Cleaned and scaled X_train and X_test"
   ]
  },
  {
   "cell_type": "code",
   "execution_count": 26,
   "id": "130b20e5",
   "metadata": {},
   "outputs": [],
   "source": [
    "# final transformed X_train and X_test\n",
    "SimpleImputer.get_feature_names_out = (lambda self, names=None: self.feature_names_in_)\n",
    "\n",
    "\n",
    "X_train_transform = pipe.fit_transform(X_train)\n",
    "pipe.get_feature_names_out()\n",
    "X_train_final = pd.DataFrame(X_train_transform, columns=pipe.get_feature_names_out())\n",
    "\n",
    "X_test_transform = pipe.fit_transform(X_test)\n",
    "pipe.get_feature_names_out()\n",
    "X_test_final = pd.DataFrame(X_test_transform, columns=pipe.get_feature_names_out())"
   ]
  },
  {
   "cell_type": "code",
   "execution_count": 27,
   "id": "4b51fe7c",
   "metadata": {},
   "outputs": [
    {
     "data": {
      "text/html": [
       "<div>\n",
       "<style scoped>\n",
       "    .dataframe tbody tr th:only-of-type {\n",
       "        vertical-align: middle;\n",
       "    }\n",
       "\n",
       "    .dataframe tbody tr th {\n",
       "        vertical-align: top;\n",
       "    }\n",
       "\n",
       "    .dataframe thead th {\n",
       "        text-align: right;\n",
       "    }\n",
       "</style>\n",
       "<table border=\"1\" class=\"dataframe\">\n",
       "  <thead>\n",
       "    <tr style=\"text-align: right;\">\n",
       "      <th></th>\n",
       "      <th>pipeline-1__age</th>\n",
       "      <th>pipeline-1__bp</th>\n",
       "      <th>pipeline-1__bgr</th>\n",
       "      <th>pipeline-1__bu</th>\n",
       "      <th>pipeline-1__sc</th>\n",
       "      <th>pipeline-1__sod</th>\n",
       "      <th>pipeline-1__pot</th>\n",
       "      <th>pipeline-1__hemo</th>\n",
       "      <th>pipeline-1__pcv</th>\n",
       "      <th>pipeline-1__wc</th>\n",
       "      <th>...</th>\n",
       "      <th>pipeline-2__ba</th>\n",
       "      <th>pipeline-2__dm</th>\n",
       "      <th>pipeline-2__cad</th>\n",
       "      <th>pipeline-2__pe</th>\n",
       "      <th>pipeline-2__ane</th>\n",
       "      <th>pipeline-3__su</th>\n",
       "      <th>pipeline-3__htn</th>\n",
       "      <th>pipeline-3__sg</th>\n",
       "      <th>pipeline-3__appet</th>\n",
       "      <th>pipeline-3__al</th>\n",
       "    </tr>\n",
       "  </thead>\n",
       "  <tbody>\n",
       "    <tr>\n",
       "      <th>0</th>\n",
       "      <td>0.543210</td>\n",
       "      <td>0.75</td>\n",
       "      <td>0.081690</td>\n",
       "      <td>0.211726</td>\n",
       "      <td>0.021192</td>\n",
       "      <td>0.896907</td>\n",
       "      <td>0.018059</td>\n",
       "      <td>0.417391</td>\n",
       "      <td>0.371429</td>\n",
       "      <td>0.281609</td>\n",
       "      <td>...</td>\n",
       "      <td>0.0</td>\n",
       "      <td>0.0</td>\n",
       "      <td>0.0</td>\n",
       "      <td>1.0</td>\n",
       "      <td>0.0</td>\n",
       "      <td>0.00</td>\n",
       "      <td>1.0</td>\n",
       "      <td>0.000000</td>\n",
       "      <td>0.0</td>\n",
       "      <td>0.4</td>\n",
       "    </tr>\n",
       "    <tr>\n",
       "      <th>1</th>\n",
       "      <td>0.716049</td>\n",
       "      <td>0.00</td>\n",
       "      <td>0.614085</td>\n",
       "      <td>0.068404</td>\n",
       "      <td>0.015894</td>\n",
       "      <td>0.862543</td>\n",
       "      <td>0.006772</td>\n",
       "      <td>0.139130</td>\n",
       "      <td>0.171429</td>\n",
       "      <td>0.632184</td>\n",
       "      <td>...</td>\n",
       "      <td>0.0</td>\n",
       "      <td>0.0</td>\n",
       "      <td>0.0</td>\n",
       "      <td>0.0</td>\n",
       "      <td>1.0</td>\n",
       "      <td>0.25</td>\n",
       "      <td>1.0</td>\n",
       "      <td>0.000000</td>\n",
       "      <td>0.5</td>\n",
       "      <td>0.6</td>\n",
       "    </tr>\n",
       "    <tr>\n",
       "      <th>2</th>\n",
       "      <td>0.864198</td>\n",
       "      <td>0.75</td>\n",
       "      <td>0.670423</td>\n",
       "      <td>0.068404</td>\n",
       "      <td>0.026490</td>\n",
       "      <td>0.869416</td>\n",
       "      <td>0.036117</td>\n",
       "      <td>0.756522</td>\n",
       "      <td>0.714286</td>\n",
       "      <td>0.143678</td>\n",
       "      <td>...</td>\n",
       "      <td>0.0</td>\n",
       "      <td>1.0</td>\n",
       "      <td>0.0</td>\n",
       "      <td>0.0</td>\n",
       "      <td>0.0</td>\n",
       "      <td>0.00</td>\n",
       "      <td>1.0</td>\n",
       "      <td>0.666667</td>\n",
       "      <td>0.5</td>\n",
       "      <td>0.0</td>\n",
       "    </tr>\n",
       "    <tr>\n",
       "      <th>3</th>\n",
       "      <td>0.185185</td>\n",
       "      <td>0.00</td>\n",
       "      <td>0.123944</td>\n",
       "      <td>0.114007</td>\n",
       "      <td>0.006623</td>\n",
       "      <td>0.896907</td>\n",
       "      <td>0.049661</td>\n",
       "      <td>0.686957</td>\n",
       "      <td>0.914286</td>\n",
       "      <td>0.172414</td>\n",
       "      <td>...</td>\n",
       "      <td>0.0</td>\n",
       "      <td>0.0</td>\n",
       "      <td>0.0</td>\n",
       "      <td>0.0</td>\n",
       "      <td>0.0</td>\n",
       "      <td>0.00</td>\n",
       "      <td>0.0</td>\n",
       "      <td>1.000000</td>\n",
       "      <td>1.0</td>\n",
       "      <td>0.0</td>\n",
       "    </tr>\n",
       "    <tr>\n",
       "      <th>4</th>\n",
       "      <td>0.888889</td>\n",
       "      <td>0.00</td>\n",
       "      <td>0.050704</td>\n",
       "      <td>0.114007</td>\n",
       "      <td>0.001325</td>\n",
       "      <td>0.979381</td>\n",
       "      <td>0.022573</td>\n",
       "      <td>0.947826</td>\n",
       "      <td>0.971429</td>\n",
       "      <td>0.103448</td>\n",
       "      <td>...</td>\n",
       "      <td>0.0</td>\n",
       "      <td>0.0</td>\n",
       "      <td>0.0</td>\n",
       "      <td>0.0</td>\n",
       "      <td>0.0</td>\n",
       "      <td>0.00</td>\n",
       "      <td>0.0</td>\n",
       "      <td>0.666667</td>\n",
       "      <td>1.0</td>\n",
       "      <td>0.0</td>\n",
       "    </tr>\n",
       "  </tbody>\n",
       "</table>\n",
       "<p>5 rows × 24 columns</p>\n",
       "</div>"
      ],
      "text/plain": [
       "   pipeline-1__age  pipeline-1__bp  pipeline-1__bgr  pipeline-1__bu  \\\n",
       "0         0.543210            0.75         0.081690        0.211726   \n",
       "1         0.716049            0.00         0.614085        0.068404   \n",
       "2         0.864198            0.75         0.670423        0.068404   \n",
       "3         0.185185            0.00         0.123944        0.114007   \n",
       "4         0.888889            0.00         0.050704        0.114007   \n",
       "\n",
       "   pipeline-1__sc  pipeline-1__sod  pipeline-1__pot  pipeline-1__hemo  \\\n",
       "0        0.021192         0.896907         0.018059          0.417391   \n",
       "1        0.015894         0.862543         0.006772          0.139130   \n",
       "2        0.026490         0.869416         0.036117          0.756522   \n",
       "3        0.006623         0.896907         0.049661          0.686957   \n",
       "4        0.001325         0.979381         0.022573          0.947826   \n",
       "\n",
       "   pipeline-1__pcv  pipeline-1__wc  ...  pipeline-2__ba  pipeline-2__dm  \\\n",
       "0         0.371429        0.281609  ...             0.0             0.0   \n",
       "1         0.171429        0.632184  ...             0.0             0.0   \n",
       "2         0.714286        0.143678  ...             0.0             1.0   \n",
       "3         0.914286        0.172414  ...             0.0             0.0   \n",
       "4         0.971429        0.103448  ...             0.0             0.0   \n",
       "\n",
       "   pipeline-2__cad  pipeline-2__pe  pipeline-2__ane  pipeline-3__su  \\\n",
       "0              0.0             1.0              0.0            0.00   \n",
       "1              0.0             0.0              1.0            0.25   \n",
       "2              0.0             0.0              0.0            0.00   \n",
       "3              0.0             0.0              0.0            0.00   \n",
       "4              0.0             0.0              0.0            0.00   \n",
       "\n",
       "   pipeline-3__htn  pipeline-3__sg  pipeline-3__appet  pipeline-3__al  \n",
       "0              1.0        0.000000                0.0             0.4  \n",
       "1              1.0        0.000000                0.5             0.6  \n",
       "2              1.0        0.666667                0.5             0.0  \n",
       "3              0.0        1.000000                1.0             0.0  \n",
       "4              0.0        0.666667                1.0             0.0  \n",
       "\n",
       "[5 rows x 24 columns]"
      ]
     },
     "execution_count": 27,
     "metadata": {},
     "output_type": "execute_result"
    }
   ],
   "source": [
    "X_test_final.head()"
   ]
  },
  {
   "cell_type": "markdown",
   "id": "3c95f334",
   "metadata": {},
   "source": [
    "# Add a logistic regression estimator and crossvalidate"
   ]
  },
  {
   "cell_type": "markdown",
   "id": "ebe9e785",
   "metadata": {},
   "source": [
    "## checking if matrix is full rank"
   ]
  },
  {
   "cell_type": "code",
   "execution_count": 28,
   "id": "772e1f3a",
   "metadata": {},
   "outputs": [
    {
     "data": {
      "text/plain": [
       "24"
      ]
     },
     "execution_count": 28,
     "metadata": {},
     "output_type": "execute_result"
    }
   ],
   "source": [
    "np.linalg.matrix_rank(X_train_final)"
   ]
  },
  {
   "cell_type": "code",
   "execution_count": 29,
   "id": "4d09a3bb",
   "metadata": {},
   "outputs": [
    {
     "data": {
      "text/html": [
       "<style>#sk-fc398bd0-c505-4d6c-b1a8-3faf8454303d {color: black;background-color: white;}#sk-fc398bd0-c505-4d6c-b1a8-3faf8454303d pre{padding: 0;}#sk-fc398bd0-c505-4d6c-b1a8-3faf8454303d div.sk-toggleable {background-color: white;}#sk-fc398bd0-c505-4d6c-b1a8-3faf8454303d label.sk-toggleable__label {cursor: pointer;display: block;width: 100%;margin-bottom: 0;padding: 0.3em;box-sizing: border-box;text-align: center;}#sk-fc398bd0-c505-4d6c-b1a8-3faf8454303d label.sk-toggleable__label-arrow:before {content: \"▸\";float: left;margin-right: 0.25em;color: #696969;}#sk-fc398bd0-c505-4d6c-b1a8-3faf8454303d label.sk-toggleable__label-arrow:hover:before {color: black;}#sk-fc398bd0-c505-4d6c-b1a8-3faf8454303d div.sk-estimator:hover label.sk-toggleable__label-arrow:before {color: black;}#sk-fc398bd0-c505-4d6c-b1a8-3faf8454303d div.sk-toggleable__content {max-height: 0;max-width: 0;overflow: hidden;text-align: left;background-color: #f0f8ff;}#sk-fc398bd0-c505-4d6c-b1a8-3faf8454303d div.sk-toggleable__content pre {margin: 0.2em;color: black;border-radius: 0.25em;background-color: #f0f8ff;}#sk-fc398bd0-c505-4d6c-b1a8-3faf8454303d input.sk-toggleable__control:checked~div.sk-toggleable__content {max-height: 200px;max-width: 100%;overflow: auto;}#sk-fc398bd0-c505-4d6c-b1a8-3faf8454303d input.sk-toggleable__control:checked~label.sk-toggleable__label-arrow:before {content: \"▾\";}#sk-fc398bd0-c505-4d6c-b1a8-3faf8454303d div.sk-estimator input.sk-toggleable__control:checked~label.sk-toggleable__label {background-color: #d4ebff;}#sk-fc398bd0-c505-4d6c-b1a8-3faf8454303d div.sk-label input.sk-toggleable__control:checked~label.sk-toggleable__label {background-color: #d4ebff;}#sk-fc398bd0-c505-4d6c-b1a8-3faf8454303d input.sk-hidden--visually {border: 0;clip: rect(1px 1px 1px 1px);clip: rect(1px, 1px, 1px, 1px);height: 1px;margin: -1px;overflow: hidden;padding: 0;position: absolute;width: 1px;}#sk-fc398bd0-c505-4d6c-b1a8-3faf8454303d div.sk-estimator {font-family: monospace;background-color: #f0f8ff;border: 1px dotted black;border-radius: 0.25em;box-sizing: border-box;margin-bottom: 0.5em;}#sk-fc398bd0-c505-4d6c-b1a8-3faf8454303d div.sk-estimator:hover {background-color: #d4ebff;}#sk-fc398bd0-c505-4d6c-b1a8-3faf8454303d div.sk-parallel-item::after {content: \"\";width: 100%;border-bottom: 1px solid gray;flex-grow: 1;}#sk-fc398bd0-c505-4d6c-b1a8-3faf8454303d div.sk-label:hover label.sk-toggleable__label {background-color: #d4ebff;}#sk-fc398bd0-c505-4d6c-b1a8-3faf8454303d div.sk-serial::before {content: \"\";position: absolute;border-left: 1px solid gray;box-sizing: border-box;top: 2em;bottom: 0;left: 50%;}#sk-fc398bd0-c505-4d6c-b1a8-3faf8454303d div.sk-serial {display: flex;flex-direction: column;align-items: center;background-color: white;padding-right: 0.2em;padding-left: 0.2em;}#sk-fc398bd0-c505-4d6c-b1a8-3faf8454303d div.sk-item {z-index: 1;}#sk-fc398bd0-c505-4d6c-b1a8-3faf8454303d div.sk-parallel {display: flex;align-items: stretch;justify-content: center;background-color: white;}#sk-fc398bd0-c505-4d6c-b1a8-3faf8454303d div.sk-parallel::before {content: \"\";position: absolute;border-left: 1px solid gray;box-sizing: border-box;top: 2em;bottom: 0;left: 50%;}#sk-fc398bd0-c505-4d6c-b1a8-3faf8454303d div.sk-parallel-item {display: flex;flex-direction: column;position: relative;background-color: white;}#sk-fc398bd0-c505-4d6c-b1a8-3faf8454303d div.sk-parallel-item:first-child::after {align-self: flex-end;width: 50%;}#sk-fc398bd0-c505-4d6c-b1a8-3faf8454303d div.sk-parallel-item:last-child::after {align-self: flex-start;width: 50%;}#sk-fc398bd0-c505-4d6c-b1a8-3faf8454303d div.sk-parallel-item:only-child::after {width: 0;}#sk-fc398bd0-c505-4d6c-b1a8-3faf8454303d div.sk-dashed-wrapped {border: 1px dashed gray;margin: 0 0.4em 0.5em 0.4em;box-sizing: border-box;padding-bottom: 0.4em;background-color: white;position: relative;}#sk-fc398bd0-c505-4d6c-b1a8-3faf8454303d div.sk-label label {font-family: monospace;font-weight: bold;background-color: white;display: inline-block;line-height: 1.2em;}#sk-fc398bd0-c505-4d6c-b1a8-3faf8454303d div.sk-label-container {position: relative;z-index: 2;text-align: center;}#sk-fc398bd0-c505-4d6c-b1a8-3faf8454303d div.sk-container {/* jupyter's `normalize.less` sets `[hidden] { display: none; }` but bootstrap.min.css set `[hidden] { display: none !important; }` so we also need the `!important` here to be able to override the default hidden behavior on the sphinx rendered scikit-learn.org. See: https://github.com/scikit-learn/scikit-learn/issues/21755 */display: inline-block !important;position: relative;}#sk-fc398bd0-c505-4d6c-b1a8-3faf8454303d div.sk-text-repr-fallback {display: none;}</style><div id=\"sk-fc398bd0-c505-4d6c-b1a8-3faf8454303d\" class=\"sk-top-container\"><div class=\"sk-text-repr-fallback\"><pre>Pipeline(steps=[(&#x27;columntransformer&#x27;,\n",
       "                 ColumnTransformer(transformers=[(&#x27;pipeline-1&#x27;,\n",
       "                                                  Pipeline(steps=[(&#x27;simpleimputer&#x27;,\n",
       "                                                                   SimpleImputer(strategy=&#x27;most_frequent&#x27;)),\n",
       "                                                                  (&#x27;minmaxscaler&#x27;,\n",
       "                                                                   MinMaxScaler())]),\n",
       "                                                  [&#x27;age&#x27;, &#x27;bp&#x27;, &#x27;bgr&#x27;, &#x27;bu&#x27;,\n",
       "                                                   &#x27;sc&#x27;, &#x27;sod&#x27;, &#x27;pot&#x27;, &#x27;hemo&#x27;,\n",
       "                                                   &#x27;pcv&#x27;, &#x27;wc&#x27;, &#x27;rc&#x27;]),\n",
       "                                                 (&#x27;pipeline-2&#x27;,\n",
       "                                                  Pipeline(steps=[(&#x27;simpleimputer&#x27;,\n",
       "                                                                   SimpleImputer(strategy=&#x27;most_frequent&#x27;))]),\n",
       "                                                  [&#x27;rbc&#x27;, &#x27;pc&#x27;, &#x27;pcc&#x27;, &#x27;ba&#x27;,\n",
       "                                                   &#x27;dm&#x27;, &#x27;cad&#x27;, &#x27;pe&#x27;, &#x27;ane&#x27;]),\n",
       "                                                 (&#x27;pipeline-3&#x27;,\n",
       "                                                  Pipeline(steps=[(&#x27;simpleimputer&#x27;,\n",
       "                                                                   SimpleImputer(strategy=&#x27;most_frequent&#x27;)),\n",
       "                                                                  (&#x27;minmaxscaler&#x27;,\n",
       "                                                                   MinMaxScaler())]),\n",
       "                                                  [&#x27;su&#x27;, &#x27;htn&#x27;, &#x27;sg&#x27;, &#x27;appet&#x27;,\n",
       "                                                   &#x27;al&#x27;])])),\n",
       "                (&#x27;logisticregression&#x27;, LogisticRegression(max_iter=200))])</pre><b>Please rerun this cell to show the HTML repr or trust the notebook.</b></div><div class=\"sk-container\" hidden><div class=\"sk-item sk-dashed-wrapped\"><div class=\"sk-label-container\"><div class=\"sk-label sk-toggleable\"><input class=\"sk-toggleable__control sk-hidden--visually\" id=\"6828ff57-fbda-4860-ba6f-de2cc4b9ab86\" type=\"checkbox\" ><label for=\"6828ff57-fbda-4860-ba6f-de2cc4b9ab86\" class=\"sk-toggleable__label sk-toggleable__label-arrow\">Pipeline</label><div class=\"sk-toggleable__content\"><pre>Pipeline(steps=[(&#x27;columntransformer&#x27;,\n",
       "                 ColumnTransformer(transformers=[(&#x27;pipeline-1&#x27;,\n",
       "                                                  Pipeline(steps=[(&#x27;simpleimputer&#x27;,\n",
       "                                                                   SimpleImputer(strategy=&#x27;most_frequent&#x27;)),\n",
       "                                                                  (&#x27;minmaxscaler&#x27;,\n",
       "                                                                   MinMaxScaler())]),\n",
       "                                                  [&#x27;age&#x27;, &#x27;bp&#x27;, &#x27;bgr&#x27;, &#x27;bu&#x27;,\n",
       "                                                   &#x27;sc&#x27;, &#x27;sod&#x27;, &#x27;pot&#x27;, &#x27;hemo&#x27;,\n",
       "                                                   &#x27;pcv&#x27;, &#x27;wc&#x27;, &#x27;rc&#x27;]),\n",
       "                                                 (&#x27;pipeline-2&#x27;,\n",
       "                                                  Pipeline(steps=[(&#x27;simpleimputer&#x27;,\n",
       "                                                                   SimpleImputer(strategy=&#x27;most_frequent&#x27;))]),\n",
       "                                                  [&#x27;rbc&#x27;, &#x27;pc&#x27;, &#x27;pcc&#x27;, &#x27;ba&#x27;,\n",
       "                                                   &#x27;dm&#x27;, &#x27;cad&#x27;, &#x27;pe&#x27;, &#x27;ane&#x27;]),\n",
       "                                                 (&#x27;pipeline-3&#x27;,\n",
       "                                                  Pipeline(steps=[(&#x27;simpleimputer&#x27;,\n",
       "                                                                   SimpleImputer(strategy=&#x27;most_frequent&#x27;)),\n",
       "                                                                  (&#x27;minmaxscaler&#x27;,\n",
       "                                                                   MinMaxScaler())]),\n",
       "                                                  [&#x27;su&#x27;, &#x27;htn&#x27;, &#x27;sg&#x27;, &#x27;appet&#x27;,\n",
       "                                                   &#x27;al&#x27;])])),\n",
       "                (&#x27;logisticregression&#x27;, LogisticRegression(max_iter=200))])</pre></div></div></div><div class=\"sk-serial\"><div class=\"sk-item sk-dashed-wrapped\"><div class=\"sk-label-container\"><div class=\"sk-label sk-toggleable\"><input class=\"sk-toggleable__control sk-hidden--visually\" id=\"c29e8d05-5a00-4ccc-832e-6fd6e51bee30\" type=\"checkbox\" ><label for=\"c29e8d05-5a00-4ccc-832e-6fd6e51bee30\" class=\"sk-toggleable__label sk-toggleable__label-arrow\">columntransformer: ColumnTransformer</label><div class=\"sk-toggleable__content\"><pre>ColumnTransformer(transformers=[(&#x27;pipeline-1&#x27;,\n",
       "                                 Pipeline(steps=[(&#x27;simpleimputer&#x27;,\n",
       "                                                  SimpleImputer(strategy=&#x27;most_frequent&#x27;)),\n",
       "                                                 (&#x27;minmaxscaler&#x27;,\n",
       "                                                  MinMaxScaler())]),\n",
       "                                 [&#x27;age&#x27;, &#x27;bp&#x27;, &#x27;bgr&#x27;, &#x27;bu&#x27;, &#x27;sc&#x27;, &#x27;sod&#x27;, &#x27;pot&#x27;,\n",
       "                                  &#x27;hemo&#x27;, &#x27;pcv&#x27;, &#x27;wc&#x27;, &#x27;rc&#x27;]),\n",
       "                                (&#x27;pipeline-2&#x27;,\n",
       "                                 Pipeline(steps=[(&#x27;simpleimputer&#x27;,\n",
       "                                                  SimpleImputer(strategy=&#x27;most_frequent&#x27;))]),\n",
       "                                 [&#x27;rbc&#x27;, &#x27;pc&#x27;, &#x27;pcc&#x27;, &#x27;ba&#x27;, &#x27;dm&#x27;, &#x27;cad&#x27;, &#x27;pe&#x27;,\n",
       "                                  &#x27;ane&#x27;]),\n",
       "                                (&#x27;pipeline-3&#x27;,\n",
       "                                 Pipeline(steps=[(&#x27;simpleimputer&#x27;,\n",
       "                                                  SimpleImputer(strategy=&#x27;most_frequent&#x27;)),\n",
       "                                                 (&#x27;minmaxscaler&#x27;,\n",
       "                                                  MinMaxScaler())]),\n",
       "                                 [&#x27;su&#x27;, &#x27;htn&#x27;, &#x27;sg&#x27;, &#x27;appet&#x27;, &#x27;al&#x27;])])</pre></div></div></div><div class=\"sk-parallel\"><div class=\"sk-parallel-item\"><div class=\"sk-item\"><div class=\"sk-label-container\"><div class=\"sk-label sk-toggleable\"><input class=\"sk-toggleable__control sk-hidden--visually\" id=\"b8598215-6525-45a1-bea5-20bf5cbb5eb8\" type=\"checkbox\" ><label for=\"b8598215-6525-45a1-bea5-20bf5cbb5eb8\" class=\"sk-toggleable__label sk-toggleable__label-arrow\">pipeline-1</label><div class=\"sk-toggleable__content\"><pre>[&#x27;age&#x27;, &#x27;bp&#x27;, &#x27;bgr&#x27;, &#x27;bu&#x27;, &#x27;sc&#x27;, &#x27;sod&#x27;, &#x27;pot&#x27;, &#x27;hemo&#x27;, &#x27;pcv&#x27;, &#x27;wc&#x27;, &#x27;rc&#x27;]</pre></div></div></div><div class=\"sk-serial\"><div class=\"sk-item\"><div class=\"sk-serial\"><div class=\"sk-item\"><div class=\"sk-estimator sk-toggleable\"><input class=\"sk-toggleable__control sk-hidden--visually\" id=\"f5f9612c-4edb-4fdb-97df-04f7758b7487\" type=\"checkbox\" ><label for=\"f5f9612c-4edb-4fdb-97df-04f7758b7487\" class=\"sk-toggleable__label sk-toggleable__label-arrow\">SimpleImputer</label><div class=\"sk-toggleable__content\"><pre>SimpleImputer(strategy=&#x27;most_frequent&#x27;)</pre></div></div></div><div class=\"sk-item\"><div class=\"sk-estimator sk-toggleable\"><input class=\"sk-toggleable__control sk-hidden--visually\" id=\"913a0e89-d8ab-42ff-9902-98fb27ad9035\" type=\"checkbox\" ><label for=\"913a0e89-d8ab-42ff-9902-98fb27ad9035\" class=\"sk-toggleable__label sk-toggleable__label-arrow\">MinMaxScaler</label><div class=\"sk-toggleable__content\"><pre>MinMaxScaler()</pre></div></div></div></div></div></div></div></div><div class=\"sk-parallel-item\"><div class=\"sk-item\"><div class=\"sk-label-container\"><div class=\"sk-label sk-toggleable\"><input class=\"sk-toggleable__control sk-hidden--visually\" id=\"b4fb393f-128e-4851-a42d-59643aa0794e\" type=\"checkbox\" ><label for=\"b4fb393f-128e-4851-a42d-59643aa0794e\" class=\"sk-toggleable__label sk-toggleable__label-arrow\">pipeline-2</label><div class=\"sk-toggleable__content\"><pre>[&#x27;rbc&#x27;, &#x27;pc&#x27;, &#x27;pcc&#x27;, &#x27;ba&#x27;, &#x27;dm&#x27;, &#x27;cad&#x27;, &#x27;pe&#x27;, &#x27;ane&#x27;]</pre></div></div></div><div class=\"sk-serial\"><div class=\"sk-item\"><div class=\"sk-serial\"><div class=\"sk-item\"><div class=\"sk-estimator sk-toggleable\"><input class=\"sk-toggleable__control sk-hidden--visually\" id=\"899e6ba5-06c6-4ea5-bcf2-e0406fb2671b\" type=\"checkbox\" ><label for=\"899e6ba5-06c6-4ea5-bcf2-e0406fb2671b\" class=\"sk-toggleable__label sk-toggleable__label-arrow\">SimpleImputer</label><div class=\"sk-toggleable__content\"><pre>SimpleImputer(strategy=&#x27;most_frequent&#x27;)</pre></div></div></div></div></div></div></div></div><div class=\"sk-parallel-item\"><div class=\"sk-item\"><div class=\"sk-label-container\"><div class=\"sk-label sk-toggleable\"><input class=\"sk-toggleable__control sk-hidden--visually\" id=\"386eb563-cdc1-44b2-9c1d-1f060de302b9\" type=\"checkbox\" ><label for=\"386eb563-cdc1-44b2-9c1d-1f060de302b9\" class=\"sk-toggleable__label sk-toggleable__label-arrow\">pipeline-3</label><div class=\"sk-toggleable__content\"><pre>[&#x27;su&#x27;, &#x27;htn&#x27;, &#x27;sg&#x27;, &#x27;appet&#x27;, &#x27;al&#x27;]</pre></div></div></div><div class=\"sk-serial\"><div class=\"sk-item\"><div class=\"sk-serial\"><div class=\"sk-item\"><div class=\"sk-estimator sk-toggleable\"><input class=\"sk-toggleable__control sk-hidden--visually\" id=\"f3e0523f-9fbf-4937-a752-ed85e741ac68\" type=\"checkbox\" ><label for=\"f3e0523f-9fbf-4937-a752-ed85e741ac68\" class=\"sk-toggleable__label sk-toggleable__label-arrow\">SimpleImputer</label><div class=\"sk-toggleable__content\"><pre>SimpleImputer(strategy=&#x27;most_frequent&#x27;)</pre></div></div></div><div class=\"sk-item\"><div class=\"sk-estimator sk-toggleable\"><input class=\"sk-toggleable__control sk-hidden--visually\" id=\"49f5a4c3-2691-4ec3-a09d-51311d3a2fd0\" type=\"checkbox\" ><label for=\"49f5a4c3-2691-4ec3-a09d-51311d3a2fd0\" class=\"sk-toggleable__label sk-toggleable__label-arrow\">MinMaxScaler</label><div class=\"sk-toggleable__content\"><pre>MinMaxScaler()</pre></div></div></div></div></div></div></div></div></div></div><div class=\"sk-item\"><div class=\"sk-estimator sk-toggleable\"><input class=\"sk-toggleable__control sk-hidden--visually\" id=\"70f954e0-b9a7-40a4-bc94-e205a133dcae\" type=\"checkbox\" ><label for=\"70f954e0-b9a7-40a4-bc94-e205a133dcae\" class=\"sk-toggleable__label sk-toggleable__label-arrow\">LogisticRegression</label><div class=\"sk-toggleable__content\"><pre>LogisticRegression(max_iter=200)</pre></div></div></div></div></div></div></div>"
      ],
      "text/plain": [
       "Pipeline(steps=[('columntransformer',\n",
       "                 ColumnTransformer(transformers=[('pipeline-1',\n",
       "                                                  Pipeline(steps=[('simpleimputer',\n",
       "                                                                   SimpleImputer(strategy='most_frequent')),\n",
       "                                                                  ('minmaxscaler',\n",
       "                                                                   MinMaxScaler())]),\n",
       "                                                  ['age', 'bp', 'bgr', 'bu',\n",
       "                                                   'sc', 'sod', 'pot', 'hemo',\n",
       "                                                   'pcv', 'wc', 'rc']),\n",
       "                                                 ('pipeline-2',\n",
       "                                                  Pipeline(steps=[('simpleimputer',\n",
       "                                                                   SimpleImputer(strategy='most_frequent'))]),\n",
       "                                                  ['rbc', 'pc', 'pcc', 'ba',\n",
       "                                                   'dm', 'cad', 'pe', 'ane']),\n",
       "                                                 ('pipeline-3',\n",
       "                                                  Pipeline(steps=[('simpleimputer',\n",
       "                                                                   SimpleImputer(strategy='most_frequent')),\n",
       "                                                                  ('minmaxscaler',\n",
       "                                                                   MinMaxScaler())]),\n",
       "                                                  ['su', 'htn', 'sg', 'appet',\n",
       "                                                   'al'])])),\n",
       "                ('logisticregression', LogisticRegression(max_iter=200))])"
      ]
     },
     "execution_count": 29,
     "metadata": {},
     "output_type": "execute_result"
    }
   ],
   "source": [
    "# Instantiating the model\n",
    "logreg = LogisticRegression(max_iter = 200)\n",
    "\n",
    "# adding an estimator to the pipeline\n",
    "baseline_pipe = make_pipeline(pipe, logreg)   # adding an estimator to the pipeline\n",
    "baseline_pipe"
   ]
  },
  {
   "cell_type": "code",
   "execution_count": 30,
   "id": "fd6489d2",
   "metadata": {},
   "outputs": [
    {
     "data": {
      "text/plain": [
       "0.9193262411347518"
      ]
     },
     "execution_count": 30,
     "metadata": {},
     "output_type": "execute_result"
    }
   ],
   "source": [
    "# crossvalidating the logistic regression\n",
    "baseline_score = cross_val_score(baseline_pipe, X, y, cv = 5, scoring='recall').mean() \n",
    "baseline_score"
   ]
  },
  {
   "cell_type": "markdown",
   "id": "8fd309dd",
   "metadata": {},
   "source": [
    "# feature selection"
   ]
  },
  {
   "cell_type": "markdown",
   "id": "1a823652",
   "metadata": {},
   "source": [
    "## correlation between features"
   ]
  },
  {
   "cell_type": "code",
   "execution_count": 160,
   "id": "0c0c2d6b",
   "metadata": {},
   "outputs": [
    {
     "data": {
      "text/plain": [
       "<AxesSubplot:>"
      ]
     },
     "execution_count": 160,
     "metadata": {},
     "output_type": "execute_result"
    },
    {
     "data": {
      "image/png": "[encoded data removed]",
      "text/plain": [
       "<Figure size 936x936 with 2 Axes>"
      ]
     },
     "metadata": {
      "needs_background": "light"
     },
     "output_type": "display_data"
    }
   ],
   "source": [
    "f,ax = plt.subplots(figsize=(13, 13))\n",
    "sns.heatmap(X_train_final.corr(), annot=True, linewidths=.5, fmt= '.1f',ax=ax)"
   ]
  },
  {
   "cell_type": "markdown",
   "id": "90fe536b",
   "metadata": {},
   "source": [
    "there a strong correlation between 'pcv' and 'hemo' as well between 'rc' and 'htn'. "
   ]
  },
  {
   "cell_type": "markdown",
   "id": "58a9e6f3",
   "metadata": {},
   "source": [
    "## feature selection with correlation and randomforest"
   ]
  },
  {
   "cell_type": "markdown",
   "id": "bed651bf",
   "metadata": {},
   "source": [
    "### confusion matrix where no feature is removed"
   ]
  },
  {
   "cell_type": "code",
   "execution_count": 83,
   "id": "962322b9",
   "metadata": {},
   "outputs": [
    {
     "data": {
      "text/plain": [
       "(<AxesSubplot:>, 'Accuracy is 0.5375')"
      ]
     },
     "execution_count": 83,
     "metadata": {},
     "output_type": "execute_result"
    },
    {
     "data": {
      "image/png": "[encoded data removed]",
      "text/plain": [
       "<Figure size 432x288 with 2 Axes>"
      ]
     },
     "metadata": {
      "needs_background": "light"
     },
     "output_type": "display_data"
    }
   ],
   "source": [
    "\n",
    "#random forest classifier \n",
    "def confusion_score(classifier, X_train,y_train, y_test,X_test):\n",
    "    #clf_rf = RandomForestClassifier(random_state=43)      \n",
    "    clr_rf = classifier.fit(X_train,y_train)\n",
    "\n",
    "    ac = accuracy_score(y_test,classifier.predict(X_test))\n",
    "    cm = confusion_matrix(y_test,clf_rf.predict(X_test))\n",
    "    return(sns.heatmap(cm,annot=True,fmt=\"d\"), f'Accuracy is {ac}')\n",
    "confusion_score(RandomForestClassifier(), X_train_final,y_train,y_test,X_test_final)"
   ]
  },
  {
   "cell_type": "markdown",
   "id": "b3d7604f",
   "metadata": {},
   "source": [
    "### let's remove 'hemo' and 'htn' and redo the above  (not working :-( )"
   ]
  },
  {
   "cell_type": "code",
   "execution_count": 92,
   "id": "94fadb8e",
   "metadata": {},
   "outputs": [],
   "source": [
    "feat_to_drop = ['pipeline-1__hemo', 'pipeline-3__htn']\n",
    "X_1_train = X_train_final.drop(feat_to_drop,axis = 1 )        \n",
    "X_1_test = X_test_final.drop(feat_to_drop,axis = 1 )        # do not modify x, we will use it later \n",
    "\n",
    "#confusion_score(RandomForestClassifier(), X_1_train,y_train,y_test, X_1_test)\n",
    "#X_1_train.shape"
   ]
  },
  {
   "cell_type": "markdown",
   "id": "027551c2",
   "metadata": {},
   "source": [
    "###  feature selection using SelectKBest"
   ]
  },
  {
   "cell_type": "code",
   "execution_count": 130,
   "id": "35650c93",
   "metadata": {},
   "outputs": [
    {
     "data": {
      "text/html": [
       "<div>\n",
       "<style scoped>\n",
       "    .dataframe tbody tr th:only-of-type {\n",
       "        vertical-align: middle;\n",
       "    }\n",
       "\n",
       "    .dataframe tbody tr th {\n",
       "        vertical-align: top;\n",
       "    }\n",
       "\n",
       "    .dataframe thead th {\n",
       "        text-align: right;\n",
       "    }\n",
       "</style>\n",
       "<table border=\"1\" class=\"dataframe\">\n",
       "  <thead>\n",
       "    <tr style=\"text-align: right;\">\n",
       "      <th></th>\n",
       "      <th>features</th>\n",
       "      <th>scores</th>\n",
       "    </tr>\n",
       "  </thead>\n",
       "  <tbody>\n",
       "    <tr>\n",
       "      <th>0</th>\n",
       "      <td>age</td>\n",
       "      <td>0.086844</td>\n",
       "    </tr>\n",
       "    <tr>\n",
       "      <th>1</th>\n",
       "      <td>bp</td>\n",
       "      <td>0.001200</td>\n",
       "    </tr>\n",
       "    <tr>\n",
       "      <th>2</th>\n",
       "      <td>bgr</td>\n",
       "      <td>0.376204</td>\n",
       "    </tr>\n",
       "    <tr>\n",
       "      <th>3</th>\n",
       "      <td>bu</td>\n",
       "      <td>0.794427</td>\n",
       "    </tr>\n",
       "    <tr>\n",
       "      <th>4</th>\n",
       "      <td>sc</td>\n",
       "      <td>0.001097</td>\n",
       "    </tr>\n",
       "  </tbody>\n",
       "</table>\n",
       "</div>"
      ],
      "text/plain": [
       "  features    scores\n",
       "0      age  0.086844\n",
       "1       bp  0.001200\n",
       "2      bgr  0.376204\n",
       "3       bu  0.794427\n",
       "4       sc  0.001097"
      ]
     },
     "execution_count": 130,
     "metadata": {},
     "output_type": "execute_result"
    },
    {
     "data": {
      "image/png": "[encoded data removed]",
      "text/plain": [
       "<Figure size 432x288 with 1 Axes>"
      ]
     },
     "metadata": {
      "needs_background": "light"
     },
     "output_type": "display_data"
    }
   ],
   "source": [
    "#apply SelectKBest class to extract top 5 best features\n",
    "best_RF = SelectKBest(score_func=chi2, k=5).fit(X_train_final,y_train)\n",
    "dfscores = pd.DataFrame(best_RF.scores_)\n",
    "dfcolumns = pd.DataFrame(X_train.columns)\n",
    "#concat two dataframes for better visualization \n",
    "featureScores = pd.concat([dfcolumns,dfscores],axis=1)\n",
    "featureScores.columns = ['features','scores']   #naming the dataframe columns\n",
    "\n",
    "feat_importances_SB = pd.Series(best_RF.scores_, index=X.columns)\n",
    "feat_importances_SB.nlargest(5).plot(kind='barh')\n",
    "#featureScores.head(5)"
   ]
  },
  {
   "cell_type": "markdown",
   "id": "510a72c7",
   "metadata": {},
   "source": [
    "### confusion matrix after selection "
   ]
  },
  {
   "cell_type": "code",
   "execution_count": 94,
   "id": "024d5506",
   "metadata": {},
   "outputs": [
    {
     "name": "stdout",
     "output_type": "stream",
     "text": [
      "Accuracy is:  0.5125\n"
     ]
    },
    {
     "data": {
      "text/plain": [
       "<AxesSubplot:>"
      ]
     },
     "execution_count": 94,
     "metadata": {},
     "output_type": "execute_result"
    },
    {
     "data": {
      "image/png": "[encoded data removed]",
      "text/plain": [
       "<Figure size 432x288 with 2 Axes>"
      ]
     },
     "metadata": {
      "needs_background": "light"
     },
     "output_type": "display_data"
    }
   ],
   "source": [
    "X_train_2 = best_RF.transform(X_train_final)\n",
    "X_test_2 = best_RF.transform(X_test_final)\n",
    "\n",
    "#random forest classifier \n",
    "\n",
    "clf_rf_2 = RandomForestClassifier()      \n",
    "clr_rf_2 = clf_rf_2.fit(X_train_2,y_train)\n",
    "ac_2 = accuracy_score(y_test,clf_rf_2.predict(X_test_2))\n",
    "print('Accuracy is: ',ac_2)\n",
    "cm_2 = confusion_matrix(y_test,clf_rf_2.predict(X_test_2))\n",
    "sns.heatmap(cm_2,annot=True,fmt=\"d\")"
   ]
  },
  {
   "cell_type": "markdown",
   "id": "92c9433b",
   "metadata": {},
   "source": [
    "the score does not improve! let's try another selection approach"
   ]
  },
  {
   "cell_type": "markdown",
   "id": "c90eea83",
   "metadata": {},
   "source": [
    "### selection using recursive feature elimination"
   ]
  },
  {
   "cell_type": "code",
   "execution_count": 99,
   "id": "284cd8d1",
   "metadata": {},
   "outputs": [
    {
     "name": "stdout",
     "output_type": "stream",
     "text": [
      "Accuracy is:  0.45\n",
      "Chosen best 5 feature by rfe: Index(['age', 'bgr', 'bu', 'hemo', 'wc'], dtype='object')\n"
     ]
    },
    {
     "data": {
      "image/png": "[encoded data removed]",
      "text/plain": [
       "<Figure size 432x288 with 2 Axes>"
      ]
     },
     "metadata": {
      "needs_background": "light"
     },
     "output_type": "display_data"
    }
   ],
   "source": [
    "# Create the RFE object and rank each pixel\n",
    "clf_rf_3 = RandomForestClassifier()      \n",
    "rfe = RFE(estimator=clf_rf_3, n_features_to_select=5, step=1)\n",
    "rfe = rfe.fit(X_train_final, y_train)\n",
    "X_train_3 = rfe.transform(X_train_final)\n",
    "X_test_3 = rfe.transform(X_test_final)\n",
    "\n",
    "#random forest classifier \n",
    "\n",
    "clr_rf_3 = clf_rf_3.fit(X_train_3,y_train)\n",
    "ac_3 = accuracy_score(y_test,clf_rf_3.predict(X_test_3))\n",
    "print('Accuracy is: ',ac_3)\n",
    "cm_3 = confusion_matrix(y_test,clf_rf_3.predict(X_test_3))\n",
    "sns.heatmap(cm_3,annot=True,fmt=\"d\")\n",
    "\n",
    "print('Chosen best 5 feature by rfe:',X_train.columns[rfe.support_])"
   ]
  },
  {
   "cell_type": "markdown",
   "id": "e22de8d3",
   "metadata": {},
   "source": [
    "three features in common with selectKBest"
   ]
  },
  {
   "cell_type": "markdown",
   "id": "9fd668cd",
   "metadata": {},
   "source": [
    "## Recursive feature elimination with cross validation and random forest classification (to get the optimal number of features to be selected)\n"
   ]
  },
  {
   "cell_type": "code",
   "execution_count": 110,
   "id": "6ba85ab7",
   "metadata": {},
   "outputs": [
    {
     "name": "stdout",
     "output_type": "stream",
     "text": [
      "Optimal number of features : 20\n",
      "Best features : Index(['age', 'bp', 'bgr', 'bu', 'sc', 'sod', 'pot', 'hemo', 'pcv', 'wc', 'rc',\n",
      "       'pc', 'dm', 'pe', 'ane', 'su', 'htn', 'sg', 'appet', 'al'],\n",
      "      dtype='object')\n"
     ]
    }
   ],
   "source": [
    "\n",
    "# The \"accuracy\" scoring is proportional to the number of correct classifications\n",
    "clf_rf_4 = RandomForestClassifier()\n",
    "rfecv = RFECV(estimator=clf_rf_4, step=1, cv=5,scoring='recall')   #5-fold cross-validation\n",
    "rfecv = rfecv.fit(X_train_final, y_train)\n",
    "\n",
    "print('Optimal number of features :', rfecv.n_features_)\n",
    "print('Best features :', X_train.columns[rfecv.support_])"
   ]
  },
  {
   "cell_type": "code",
   "execution_count": 123,
   "id": "96452008",
   "metadata": {},
   "outputs": [
    {
     "data": {
      "image/png": "[encoded data removed]",
      "text/plain": [
       "<Figure size 432x288 with 1 Axes>"
      ]
     },
     "metadata": {
      "needs_background": "light"
     },
     "output_type": "display_data"
    }
   ],
   "source": [
    "# Plot number of features VS. cross-validation scores\n",
    "plt.figure()\n",
    "plt.xlabel(\"Number of features selected\")\n",
    "plt.ylabel(\"Cross validation score of number of selected features\")\n",
    "plt.plot(range(1, rfecv.cv_results_['mean_test_score'].shape[0] +1) , rfecv.cv_results_['mean_test_score'])\n",
    "plt.show()"
   ]
  },
  {
   "cell_type": "markdown",
   "id": "62a88af3",
   "metadata": {},
   "source": [
    "## Tree based feature selection and random forest classification"
   ]
  },
  {
   "cell_type": "code",
   "execution_count": 137,
   "id": "ba3770da",
   "metadata": {},
   "outputs": [
    {
     "name": "stdout",
     "output_type": "stream",
     "text": [
      "Feature ranking:\n",
      "1. feature 9 (0.105357)\n",
      "2. feature 3 (0.099649)\n",
      "3. feature 0 (0.092307)\n",
      "4. feature 2 (0.082573)\n",
      "5. feature 7 (0.079066)\n",
      "6. feature 4 (0.072680)\n",
      "7. feature 6 (0.072556)\n",
      "8. feature 8 (0.071594)\n",
      "9. feature 10 (0.064373)\n",
      "10. feature 5 (0.061840)\n",
      "11. feature 1 (0.037297)\n",
      "12. feature 21 (0.027687)\n",
      "13. feature 23 (0.023891)\n",
      "14. feature 19 (0.018437)\n",
      "15. feature 22 (0.015071)\n",
      "16. feature 15 (0.012391)\n",
      "17. feature 18 (0.010574)\n",
      "18. feature 17 (0.009911)\n",
      "19. feature 11 (0.009052)\n",
      "20. feature 20 (0.009009)\n",
      "21. feature 12 (0.008340)\n",
      "22. feature 13 (0.006263)\n",
      "23. feature 16 (0.005429)\n",
      "24. feature 14 (0.004653)\n"
     ]
    },
    {
     "data": {
      "image/png": "[encoded data removed]",
      "text/plain": [
       "<Figure size 576x504 with 1 Axes>"
      ]
     },
     "metadata": {
      "needs_background": "light"
     },
     "output_type": "display_data"
    }
   ],
   "source": [
    "clf_rf_5 = RandomForestClassifier()      \n",
    "clr_rf_5 = clf_rf_5.fit(X_train_final,y_train)\n",
    "importances = clr_rf_5.feature_importances_\n",
    "std = np.std([tree.feature_importances_ for tree in clf_rf.estimators_],\n",
    "             axis=0)\n",
    "indices = np.argsort(importances)[::-1]\n",
    "# Print the feature ranking\n",
    "print(\"Feature ranking:\")\n",
    "for f in range(X_train.shape[1]):\n",
    "    print(\"%d. feature %d (%f)\" % (f + 1, indices[f], importances[indices[f]]))\n",
    "\n",
    "# Plot the feature importances of the forest\n",
    "\n",
    "plt.figure(1, figsize=(8, 7))\n",
    "plt.title(\"Feature importances\")\n",
    "plt.bar(range(X_train.shape[1]), importances[indices],\n",
    "       color=\"g\", yerr=std[indices], align=\"center\")\n",
    "plt.xticks(range(X_train.shape[1]), X_train.columns[indices],rotation=90)\n",
    "plt.xlim([-1, X_train.shape[1]])\n",
    "plt.show()"
   ]
  },
  {
   "cell_type": "markdown",
   "id": "304fd314",
   "metadata": {},
   "source": [
    "### Feature Extraction with PCA"
   ]
  },
  {
   "cell_type": "code",
   "execution_count": 134,
   "id": "3987066a",
   "metadata": {},
   "outputs": [
    {
     "data": {
      "text/plain": [
       "Text(0, 0.5, 'explained_variance_ratio_')"
      ]
     },
     "execution_count": 134,
     "metadata": {},
     "output_type": "execute_result"
    },
    {
     "data": {
      "image/png": "[encoded data removed]",
      "text/plain": [
       "<Figure size 432x288 with 1 Axes>"
      ]
     },
     "metadata": {
      "needs_background": "light"
     },
     "output_type": "display_data"
    }
   ],
   "source": [
    "pca = PCA()\n",
    "pca.fit(X_train_final)\n",
    "\n",
    "plt.axes([.2, .2, .7, .7])\n",
    "plt.plot(pca.explained_variance_ratio_, linewidth=2)\n",
    "plt.xlabel('n_components')\n",
    "plt.ylabel('explained_variance_ratio_')"
   ]
  },
  {
   "cell_type": "markdown",
   "id": "47ab0918",
   "metadata": {},
   "source": [
    "## RFE with logistic regression"
   ]
  },
  {
   "cell_type": "code",
   "execution_count": 161,
   "id": "a5152f47",
   "metadata": {},
   "outputs": [
    {
     "name": "stdout",
     "output_type": "stream",
     "text": [
      "Accuracy no feature selection: 0.525\n"
     ]
    }
   ],
   "source": [
    "### with all the 24 features\n",
    "\n",
    "lr = LogisticRegression()\n",
    "lr.fit(X_train_final, y_train)\n",
    "y_guess = lr.predict(X_train_final)\n",
    "y_score = lr.predict(X_test_final)\n",
    "print(\"Accuracy no feature selection:\",accuracy_score(y_test, y_score))"
   ]
  },
  {
   "cell_type": "code",
   "execution_count": 155,
   "id": "cfb6ae85",
   "metadata": {},
   "outputs": [
    {
     "name": "stdout",
     "output_type": "stream",
     "text": [
      "Accuracy with feature selection: 0.525\n"
     ]
    }
   ],
   "source": [
    "# with the 5 top features\n",
    "model = LogisticRegression(solver='lbfgs')\n",
    "rfe = RFE(model, n_features_to_select=10).fit(X_train_final, y_train)\n",
    "y_guess = rfe.predict(X_train_final)\n",
    "y_score = rfe.predict(X_test_final)\n",
    "#print(\"Num Features: %d\" % rfe.n_features_)\n",
    "#print(\"Selected Features: %s\" % rfe.support_)\n",
    "print(\"Accuracy with feature selection:\",accuracy_score(y_test, y_score))\n"
   ]
  },
  {
   "cell_type": "code",
   "execution_count": 158,
   "id": "13dcf14a",
   "metadata": {},
   "outputs": [
    {
     "data": {
      "text/plain": [
       "['age', 'bgr', 'bu', 'sc', 'sod', 'pcc', 'ba', 'pe', 'ane', 'su']"
      ]
     },
     "execution_count": 158,
     "metadata": {},
     "output_type": "execute_result"
    }
   ],
   "source": [
    "## chosen features\n",
    "rfe_support = rfe.get_support()\n",
    "\n",
    "rfe_feature = X.loc[:,rfe_support].columns.tolist()\n",
    "rfe_feature"
   ]
  },
  {
   "cell_type": "code",
   "execution_count": null,
   "id": "17ae84a2",
   "metadata": {},
   "outputs": [],
   "source": []
  }
 ],
 "metadata": {
  "kernelspec": {
   "display_name": "Python 3 (ipykernel)",
   "language": "python",
   "name": "python3"
  },
  "language_info": {
   "codemirror_mode": {
    "name": "ipython",
    "version": 3
   },
   "file_extension": ".py",
   "mimetype": "text/x-python",
   "name": "python",
   "nbconvert_exporter": "python",
   "pygments_lexer": "ipython3",
   "version": "3.8.12"
  },
  "toc": {
   "base_numbering": 1,
   "nav_menu": {},
   "number_sections": true,
   "sideBar": true,
   "skip_h1_title": false,
   "title_cell": "Table of Contents",
   "title_sidebar": "Contents",
   "toc_cell": false,
   "toc_position": {},
   "toc_section_display": true,
   "toc_window_display": true
  }
 },
 "nbformat": 4,
 "nbformat_minor": 5
}
